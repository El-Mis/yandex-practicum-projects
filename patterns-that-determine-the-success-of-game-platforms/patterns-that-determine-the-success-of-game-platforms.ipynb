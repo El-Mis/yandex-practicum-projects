{
 "cells": [
  {
   "cell_type": "markdown",
   "id": "02b058a5",
   "metadata": {
    "toc": true
   },
   "source": [
    "<h1>Table of Contents<span class=\"tocSkip\"></span></h1>\n",
    "<div class=\"toc\"><ul class=\"toc-item\"><li><span><a href=\"#Описание-проекта\" data-toc-modified-id=\"Описание-проекта-1\"><span class=\"toc-item-num\">1&nbsp;&nbsp;</span>Описание проекта</a></span><ul class=\"toc-item\"><li><span><a href=\"#Цель-проекта\" data-toc-modified-id=\"Цель-проекта-1.1\"><span class=\"toc-item-num\">1.1&nbsp;&nbsp;</span>Цель проекта</a></span></li><li><span><a href=\"#Описание-данных\" data-toc-modified-id=\"Описание-данных-1.2\"><span class=\"toc-item-num\">1.2&nbsp;&nbsp;</span>Описание данных</a></span></li><li><span><a href=\"#План-работы\" data-toc-modified-id=\"План-работы-1.3\"><span class=\"toc-item-num\">1.3&nbsp;&nbsp;</span>План работы</a></span></li></ul></li><li><span><a href=\"#Изучение-данных\" data-toc-modified-id=\"Изучение-данных-2\"><span class=\"toc-item-num\">2&nbsp;&nbsp;</span>Изучение данных</a></span></li><li><span><a href=\"#Подготовка-данных\" data-toc-modified-id=\"Подготовка-данных-3\"><span class=\"toc-item-num\">3&nbsp;&nbsp;</span>Подготовка данных</a></span><ul class=\"toc-item\"><li><span><a href=\"#Замена-названий-столбцов-(приведение-к-нижнему-регистру)\" data-toc-modified-id=\"Замена-названий-столбцов-(приведение-к-нижнему-регистру)-3.1\"><span class=\"toc-item-num\">3.1&nbsp;&nbsp;</span>Замена названий столбцов (приведение к нижнему регистру)</a></span></li><li><span><a href=\"#Обработка-пропусков-и-преобразование-данных-в-нужные-типы\" data-toc-modified-id=\"Обработка-пропусков-и-преобразование-данных-в-нужные-типы-3.2\"><span class=\"toc-item-num\">3.2&nbsp;&nbsp;</span>Обработка пропусков и преобразование данных в нужные типы</a></span></li><li><span><a href=\"#Подсчет-суммарных-продаж-во-всех-регионах-и-запись-в-отдельный-столбец\" data-toc-modified-id=\"Подсчет-суммарных-продаж-во-всех-регионах-и-запись-в-отдельный-столбец-3.3\"><span class=\"toc-item-num\">3.3&nbsp;&nbsp;</span>Подсчет суммарных продаж во всех регионах и запись в отдельный столбец</a></span></li></ul></li><li><span><a href=\"#Исследовательский-анализ-данных\" data-toc-modified-id=\"Исследовательский-анализ-данных-4\"><span class=\"toc-item-num\">4&nbsp;&nbsp;</span>Исследовательский анализ данных</a></span><ul class=\"toc-item\"><li><span><a href=\"#Исследование-количества-выпускаемых-игр-в-разные-годы\" data-toc-modified-id=\"Исследование-количества-выпускаемых-игр-в-разные-годы-4.1\"><span class=\"toc-item-num\">4.1&nbsp;&nbsp;</span>Исследование количества выпускаемых игр в разные годы</a></span></li><li><span><a href=\"#Исследование-изменения-продаж-по-платформам\" data-toc-modified-id=\"Исследование-изменения-продаж-по-платформам-4.2\"><span class=\"toc-item-num\">4.2&nbsp;&nbsp;</span>Исследование изменения продаж по платформам</a></span></li><li><span><a href=\"#Исследование-данных,-которые-помогут-построить-прогноз-на-2017-год\" data-toc-modified-id=\"Исследование-данных,-которые-помогут-построить-прогноз-на-2017-год-4.3\"><span class=\"toc-item-num\">4.3&nbsp;&nbsp;</span>Исследование данных, которые помогут построить прогноз на 2017 год</a></span></li><li><span><a href=\"#Исследование-платформ,-лидирующих-попродажам,-растущих-и-падающих\" data-toc-modified-id=\"Исследование-платформ,-лидирующих-попродажам,-растущих-и-падающих-4.4\"><span class=\"toc-item-num\">4.4&nbsp;&nbsp;</span>Исследование платформ, лидирующих попродажам, растущих и падающих</a></span></li><li><span><a href=\"#Построение-графика-«ящик-с-усами»-по-глобальным-продажам-игр-в-разбивке-по-платформам\" data-toc-modified-id=\"Построение-графика-«ящик-с-усами»-по-глобальным-продажам-игр-в-разбивке-по-платформам-4.5\"><span class=\"toc-item-num\">4.5&nbsp;&nbsp;</span>Построение графика «ящик с усами» по глобальным продажам игр в разбивке по платформам</a></span></li><li><span><a href=\"#Исследование-влияния-на-продажи-внутри-одной-популярной-платформы-отзывов-пользователей-и-критиков\" data-toc-modified-id=\"Исследование-влияния-на-продажи-внутри-одной-популярной-платформы-отзывов-пользователей-и-критиков-4.6\"><span class=\"toc-item-num\">4.6&nbsp;&nbsp;</span>Исследование влияния на продажи внутри одной популярной платформы отзывов пользователей и критиков</a></span></li><li><span><a href=\"#Cоотнесение-выводов-с-продажами-игр-на-других-платформах\" data-toc-modified-id=\"Cоотнесение-выводов-с-продажами-игр-на-других-платформах-4.7\"><span class=\"toc-item-num\">4.7&nbsp;&nbsp;</span>Cоотнесение выводов с продажами игр на других платформах</a></span></li><li><span><a href=\"#Исследование-общего-распределения-игр-по-жанрам\" data-toc-modified-id=\"Исследование-общего-распределения-игр-по-жанрам-4.8\"><span class=\"toc-item-num\">4.8&nbsp;&nbsp;</span>Исследование общего распределения игр по жанрам</a></span></li></ul></li><li><span><a href=\"#Составление-портрета-пользователя-каждого-региона-(NA,-EU,-JP)\" data-toc-modified-id=\"Составление-портрета-пользователя-каждого-региона-(NA,-EU,-JP)-5\"><span class=\"toc-item-num\">5&nbsp;&nbsp;</span>Составление портрета пользователя каждого региона (NA, EU, JP)</a></span><ul class=\"toc-item\"><li><span><a href=\"#Определение-самых-популярных-платформ-(топ-5)\" data-toc-modified-id=\"Определение-самых-популярных-платформ-(топ-5)-5.1\"><span class=\"toc-item-num\">5.1&nbsp;&nbsp;</span>Определение самых популярных платформ (топ-5)</a></span></li><li><span><a href=\"#Определение-самых-популярных-жанров-(топ-5)\" data-toc-modified-id=\"Определение-самых-популярных-жанров-(топ-5)-5.2\"><span class=\"toc-item-num\">5.2&nbsp;&nbsp;</span>Определение самых популярных жанров (топ-5)</a></span></li><li><span><a href=\"#Определение-влияния-рейтинга-ESRB-на-продажи-в-отдельном-регионе\" data-toc-modified-id=\"Определение-влияния-рейтинга-ESRB-на-продажи-в-отдельном-регионе-5.3\"><span class=\"toc-item-num\">5.3&nbsp;&nbsp;</span>Определение влияния рейтинга ESRB на продажи в отдельном регионе</a></span></li></ul></li><li><span><a href=\"#Проверка-гипотез\" data-toc-modified-id=\"Проверка-гипотез-6\"><span class=\"toc-item-num\">6&nbsp;&nbsp;</span>Проверка гипотез</a></span><ul class=\"toc-item\"><li><span><a href=\"#Средние-пользовательские-рейтинги-платформ-Xbox-One-и-PC-одинаковые\" data-toc-modified-id=\"Средние-пользовательские-рейтинги-платформ-Xbox-One-и-PC-одинаковые-6.1\"><span class=\"toc-item-num\">6.1&nbsp;&nbsp;</span>Средние пользовательские рейтинги платформ Xbox One и PC одинаковые</a></span></li><li><span><a href=\"#Средние-пользовательские-рейтинги-жанров-Action-(англ.-«действие»,-экшен-игры)-и-Sports-(англ.-«спортивные-соревнования»)-разные\" data-toc-modified-id=\"Средние-пользовательские-рейтинги-жанров-Action-(англ.-«действие»,-экшен-игры)-и-Sports-(англ.-«спортивные-соревнования»)-разные-6.2\"><span class=\"toc-item-num\">6.2&nbsp;&nbsp;</span>Средние пользовательские рейтинги жанров Action (англ. «действие», экшен-игры) и Sports (англ. «спортивные соревнования») разные</a></span></li></ul></li><li><span><a href=\"#Общий-вывод\" data-toc-modified-id=\"Общий-вывод-7\"><span class=\"toc-item-num\">7&nbsp;&nbsp;</span>Общий вывод</a></span></li></ul></div>"
   ]
  },
  {
   "cell_type": "markdown",
   "id": "470e413a",
   "metadata": {},
   "source": [
    "# Исследование закономерностей, определяющих успешность компьютерной игры"
   ]
  },
  {
   "cell_type": "markdown",
   "id": "d2b11256",
   "metadata": {},
   "source": [
    "## Описание проекта"
   ]
  },
  {
   "cell_type": "markdown",
   "id": "739c5e7d",
   "metadata": {},
   "source": [
    "В проекте будут исследоваться взятые из открытых источников  исторические данные о продажах компьютерных игр, оценки пользователей и экспертов, жанры и платформы. Будут выявляться закономерности, определяющие успешность игры, чтобы спрогнозировать потенциально популярный продукт и спланировать рекламные кампании на следующий год. В наличии данные до 2016 года, прогноз на 2017 год.\n",
    "\n",
    "В наборе данных попадается аббревиатура ESRB (Entertainment Software Rating Board) — это ассоциация, определяющая возрастной рейтинг компьютерных игр. ESRB оценивает игровой контент и присваивает ему подходящую возрастную категорию, например, «Для взрослых», «Для детей младшего возраста» или «Для подростков»."
   ]
  },
  {
   "cell_type": "markdown",
   "id": "d9eeaa4f",
   "metadata": {},
   "source": [
    "### Цель проекта"
   ]
  },
  {
   "cell_type": "markdown",
   "id": "ea8ee678",
   "metadata": {},
   "source": [
    "Выявить закономерности, определяющие успешность игры, чтобы спрогнозировать потенциально популярный продукт и спланировать рекламные кампании на следующий год."
   ]
  },
  {
   "cell_type": "markdown",
   "id": "5fc7a3d6",
   "metadata": {},
   "source": [
    "### Описание данных"
   ]
  },
  {
   "cell_type": "markdown",
   "id": "81623b4e",
   "metadata": {},
   "source": [
    "* `Name` — название игры\n",
    "\n",
    "* `Platform` — платформа\n",
    "\n",
    "* `Year_of_Release` — год выпуска\n",
    "\n",
    "* `Genre` — жанр игры\n",
    "\n",
    "* `NA_sales` — продажи в Северной Америке (миллионы проданных копий)\n",
    "\n",
    "* `EU_sales` — продажи в Европе (миллионы проданных копий)\n",
    "\n",
    "* `JP_sales` — продажи в Японии (миллионы проданных копий)\n",
    "\n",
    "* `Other_sales` — продажи в других странах (миллионы проданных копий)\n",
    "\n",
    "* `Critic_Score` — оценка критиков (максимум 100)\n",
    "\n",
    "* `User_Score` — оценка пользователей (максимум 10)\n",
    "\n",
    "* `Rating` — рейтинг от организации ESRB (англ. Entertainment Software Rating Board). Эта ассоциация определяет рейтинг компьютерных игр и присваивает им подходящую возрастную категорию.\n",
    "\n",
    "Данные за 2016 год могут быть неполными.\n"
   ]
  },
  {
   "cell_type": "markdown",
   "id": "ba1b1275",
   "metadata": {},
   "source": [
    "### План работы"
   ]
  },
  {
   "cell_type": "markdown",
   "id": "ccab388e",
   "metadata": {},
   "source": [
    "1 Изучение данных\n",
    "\n",
    "2 Подготовка данных:\n",
    "  - замена названий столбцов (приведение к нижнему регистру)\n",
    "  - обработка пропусков и преобразование данных в нужные типы\n",
    "  - подсчет суммарных продаж во всех регионах и запись в отдельный столбец\n",
    "  \n",
    "3 Исследовательский анализ данных:\n",
    "  - исследование количества выпускаемых игр в разные годы\n",
    "  - исследование изменения продаж по платформам\n",
    "  - исследование данных, которые помогут построить прогноз на 2017 год\n",
    "  - исследование платформ, лидирующих попродажам, растущих и падающих \n",
    "  - построение графика «ящик с усами» по глобальным продажам игр в разбивке по платформам\n",
    "  - исследование влияния на продажи внутри одной популярной платформы отзывов пользователей и критиков\n",
    "  - соотнесение выводов с продажами игр на других платформах\n",
    "  - исследование общего распределения игр по жанрам\n",
    "\n",
    "4 Составление портрета пользователя каждого региона (NA, EU, JP):\n",
    "  - определение самых популярных платформ (топ-5)\n",
    "  - определение самых популярных жанров (топ-5)\n",
    "  - определение влияния рейтинга ESRB на продажи в отдельном регионе\n",
    "\n",
    "5 Проверка гипотез\n",
    "  - средние пользовательские рейтинги платформ Xbox One и PC одинаковые\n",
    "  - средние пользовательские рейтинги жанров Action (англ. «действие», экшен-игры) и Sports (англ. «спортивные соревнования») разные\n",
    "  \n",
    "6 Общий вывод"
   ]
  },
  {
   "cell_type": "markdown",
   "id": "c518f6a5",
   "metadata": {},
   "source": [
    "## Изучение данных"
   ]
  },
  {
   "cell_type": "code",
   "execution_count": 1,
   "id": "671d4eaa",
   "metadata": {},
   "outputs": [],
   "source": [
    "#импорт необходимых библиотек\n",
    "import pandas as pd\n",
    "import matplotlib.pyplot as plt\n",
    "import seaborn as sns\n",
    "import numpy as np\n",
    "from scipy import stats as st"
   ]
  },
  {
   "cell_type": "code",
   "execution_count": 3,
   "id": "18f93f13",
   "metadata": {},
   "outputs": [
    {
     "data": {
      "text/html": [
       "<div>\n",
       "<style scoped>\n",
       "    .dataframe tbody tr th:only-of-type {\n",
       "        vertical-align: middle;\n",
       "    }\n",
       "\n",
       "    .dataframe tbody tr th {\n",
       "        vertical-align: top;\n",
       "    }\n",
       "\n",
       "    .dataframe thead th {\n",
       "        text-align: right;\n",
       "    }\n",
       "</style>\n",
       "<table border=\"1\" class=\"dataframe\">\n",
       "  <thead>\n",
       "    <tr style=\"text-align: right;\">\n",
       "      <th></th>\n",
       "      <th>Name</th>\n",
       "      <th>Platform</th>\n",
       "      <th>Year_of_Release</th>\n",
       "      <th>Genre</th>\n",
       "      <th>NA_sales</th>\n",
       "      <th>EU_sales</th>\n",
       "      <th>JP_sales</th>\n",
       "      <th>Other_sales</th>\n",
       "      <th>Critic_Score</th>\n",
       "      <th>User_Score</th>\n",
       "      <th>Rating</th>\n",
       "    </tr>\n",
       "  </thead>\n",
       "  <tbody>\n",
       "    <tr>\n",
       "      <th>0</th>\n",
       "      <td>Wii Sports</td>\n",
       "      <td>Wii</td>\n",
       "      <td>2006.0</td>\n",
       "      <td>Sports</td>\n",
       "      <td>41.36</td>\n",
       "      <td>28.96</td>\n",
       "      <td>3.77</td>\n",
       "      <td>8.45</td>\n",
       "      <td>76.0</td>\n",
       "      <td>8</td>\n",
       "      <td>E</td>\n",
       "    </tr>\n",
       "    <tr>\n",
       "      <th>1</th>\n",
       "      <td>Super Mario Bros.</td>\n",
       "      <td>NES</td>\n",
       "      <td>1985.0</td>\n",
       "      <td>Platform</td>\n",
       "      <td>29.08</td>\n",
       "      <td>3.58</td>\n",
       "      <td>6.81</td>\n",
       "      <td>0.77</td>\n",
       "      <td>NaN</td>\n",
       "      <td>NaN</td>\n",
       "      <td>NaN</td>\n",
       "    </tr>\n",
       "    <tr>\n",
       "      <th>2</th>\n",
       "      <td>Mario Kart Wii</td>\n",
       "      <td>Wii</td>\n",
       "      <td>2008.0</td>\n",
       "      <td>Racing</td>\n",
       "      <td>15.68</td>\n",
       "      <td>12.76</td>\n",
       "      <td>3.79</td>\n",
       "      <td>3.29</td>\n",
       "      <td>82.0</td>\n",
       "      <td>8.3</td>\n",
       "      <td>E</td>\n",
       "    </tr>\n",
       "    <tr>\n",
       "      <th>3</th>\n",
       "      <td>Wii Sports Resort</td>\n",
       "      <td>Wii</td>\n",
       "      <td>2009.0</td>\n",
       "      <td>Sports</td>\n",
       "      <td>15.61</td>\n",
       "      <td>10.93</td>\n",
       "      <td>3.28</td>\n",
       "      <td>2.95</td>\n",
       "      <td>80.0</td>\n",
       "      <td>8</td>\n",
       "      <td>E</td>\n",
       "    </tr>\n",
       "    <tr>\n",
       "      <th>4</th>\n",
       "      <td>Pokemon Red/Pokemon Blue</td>\n",
       "      <td>GB</td>\n",
       "      <td>1996.0</td>\n",
       "      <td>Role-Playing</td>\n",
       "      <td>11.27</td>\n",
       "      <td>8.89</td>\n",
       "      <td>10.22</td>\n",
       "      <td>1.00</td>\n",
       "      <td>NaN</td>\n",
       "      <td>NaN</td>\n",
       "      <td>NaN</td>\n",
       "    </tr>\n",
       "    <tr>\n",
       "      <th>5</th>\n",
       "      <td>Tetris</td>\n",
       "      <td>GB</td>\n",
       "      <td>1989.0</td>\n",
       "      <td>Puzzle</td>\n",
       "      <td>23.20</td>\n",
       "      <td>2.26</td>\n",
       "      <td>4.22</td>\n",
       "      <td>0.58</td>\n",
       "      <td>NaN</td>\n",
       "      <td>NaN</td>\n",
       "      <td>NaN</td>\n",
       "    </tr>\n",
       "    <tr>\n",
       "      <th>6</th>\n",
       "      <td>New Super Mario Bros.</td>\n",
       "      <td>DS</td>\n",
       "      <td>2006.0</td>\n",
       "      <td>Platform</td>\n",
       "      <td>11.28</td>\n",
       "      <td>9.14</td>\n",
       "      <td>6.50</td>\n",
       "      <td>2.88</td>\n",
       "      <td>89.0</td>\n",
       "      <td>8.5</td>\n",
       "      <td>E</td>\n",
       "    </tr>\n",
       "    <tr>\n",
       "      <th>7</th>\n",
       "      <td>Wii Play</td>\n",
       "      <td>Wii</td>\n",
       "      <td>2006.0</td>\n",
       "      <td>Misc</td>\n",
       "      <td>13.96</td>\n",
       "      <td>9.18</td>\n",
       "      <td>2.93</td>\n",
       "      <td>2.84</td>\n",
       "      <td>58.0</td>\n",
       "      <td>6.6</td>\n",
       "      <td>E</td>\n",
       "    </tr>\n",
       "    <tr>\n",
       "      <th>8</th>\n",
       "      <td>New Super Mario Bros. Wii</td>\n",
       "      <td>Wii</td>\n",
       "      <td>2009.0</td>\n",
       "      <td>Platform</td>\n",
       "      <td>14.44</td>\n",
       "      <td>6.94</td>\n",
       "      <td>4.70</td>\n",
       "      <td>2.24</td>\n",
       "      <td>87.0</td>\n",
       "      <td>8.4</td>\n",
       "      <td>E</td>\n",
       "    </tr>\n",
       "    <tr>\n",
       "      <th>9</th>\n",
       "      <td>Duck Hunt</td>\n",
       "      <td>NES</td>\n",
       "      <td>1984.0</td>\n",
       "      <td>Shooter</td>\n",
       "      <td>26.93</td>\n",
       "      <td>0.63</td>\n",
       "      <td>0.28</td>\n",
       "      <td>0.47</td>\n",
       "      <td>NaN</td>\n",
       "      <td>NaN</td>\n",
       "      <td>NaN</td>\n",
       "    </tr>\n",
       "    <tr>\n",
       "      <th>10</th>\n",
       "      <td>Nintendogs</td>\n",
       "      <td>DS</td>\n",
       "      <td>2005.0</td>\n",
       "      <td>Simulation</td>\n",
       "      <td>9.05</td>\n",
       "      <td>10.95</td>\n",
       "      <td>1.93</td>\n",
       "      <td>2.74</td>\n",
       "      <td>NaN</td>\n",
       "      <td>NaN</td>\n",
       "      <td>NaN</td>\n",
       "    </tr>\n",
       "    <tr>\n",
       "      <th>11</th>\n",
       "      <td>Mario Kart DS</td>\n",
       "      <td>DS</td>\n",
       "      <td>2005.0</td>\n",
       "      <td>Racing</td>\n",
       "      <td>9.71</td>\n",
       "      <td>7.47</td>\n",
       "      <td>4.13</td>\n",
       "      <td>1.90</td>\n",
       "      <td>91.0</td>\n",
       "      <td>8.6</td>\n",
       "      <td>E</td>\n",
       "    </tr>\n",
       "    <tr>\n",
       "      <th>12</th>\n",
       "      <td>Pokemon Gold/Pokemon Silver</td>\n",
       "      <td>GB</td>\n",
       "      <td>1999.0</td>\n",
       "      <td>Role-Playing</td>\n",
       "      <td>9.00</td>\n",
       "      <td>6.18</td>\n",
       "      <td>7.20</td>\n",
       "      <td>0.71</td>\n",
       "      <td>NaN</td>\n",
       "      <td>NaN</td>\n",
       "      <td>NaN</td>\n",
       "    </tr>\n",
       "    <tr>\n",
       "      <th>13</th>\n",
       "      <td>Wii Fit</td>\n",
       "      <td>Wii</td>\n",
       "      <td>2007.0</td>\n",
       "      <td>Sports</td>\n",
       "      <td>8.92</td>\n",
       "      <td>8.03</td>\n",
       "      <td>3.60</td>\n",
       "      <td>2.15</td>\n",
       "      <td>80.0</td>\n",
       "      <td>7.7</td>\n",
       "      <td>E</td>\n",
       "    </tr>\n",
       "    <tr>\n",
       "      <th>14</th>\n",
       "      <td>Kinect Adventures!</td>\n",
       "      <td>X360</td>\n",
       "      <td>2010.0</td>\n",
       "      <td>Misc</td>\n",
       "      <td>15.00</td>\n",
       "      <td>4.89</td>\n",
       "      <td>0.24</td>\n",
       "      <td>1.69</td>\n",
       "      <td>61.0</td>\n",
       "      <td>6.3</td>\n",
       "      <td>E</td>\n",
       "    </tr>\n",
       "    <tr>\n",
       "      <th>15</th>\n",
       "      <td>Wii Fit Plus</td>\n",
       "      <td>Wii</td>\n",
       "      <td>2009.0</td>\n",
       "      <td>Sports</td>\n",
       "      <td>9.01</td>\n",
       "      <td>8.49</td>\n",
       "      <td>2.53</td>\n",
       "      <td>1.77</td>\n",
       "      <td>80.0</td>\n",
       "      <td>7.4</td>\n",
       "      <td>E</td>\n",
       "    </tr>\n",
       "    <tr>\n",
       "      <th>16</th>\n",
       "      <td>Grand Theft Auto V</td>\n",
       "      <td>PS3</td>\n",
       "      <td>2013.0</td>\n",
       "      <td>Action</td>\n",
       "      <td>7.02</td>\n",
       "      <td>9.09</td>\n",
       "      <td>0.98</td>\n",
       "      <td>3.96</td>\n",
       "      <td>97.0</td>\n",
       "      <td>8.2</td>\n",
       "      <td>M</td>\n",
       "    </tr>\n",
       "    <tr>\n",
       "      <th>17</th>\n",
       "      <td>Grand Theft Auto: San Andreas</td>\n",
       "      <td>PS2</td>\n",
       "      <td>2004.0</td>\n",
       "      <td>Action</td>\n",
       "      <td>9.43</td>\n",
       "      <td>0.40</td>\n",
       "      <td>0.41</td>\n",
       "      <td>10.57</td>\n",
       "      <td>95.0</td>\n",
       "      <td>9</td>\n",
       "      <td>M</td>\n",
       "    </tr>\n",
       "    <tr>\n",
       "      <th>18</th>\n",
       "      <td>Super Mario World</td>\n",
       "      <td>SNES</td>\n",
       "      <td>1990.0</td>\n",
       "      <td>Platform</td>\n",
       "      <td>12.78</td>\n",
       "      <td>3.75</td>\n",
       "      <td>3.54</td>\n",
       "      <td>0.55</td>\n",
       "      <td>NaN</td>\n",
       "      <td>NaN</td>\n",
       "      <td>NaN</td>\n",
       "    </tr>\n",
       "    <tr>\n",
       "      <th>19</th>\n",
       "      <td>Brain Age: Train Your Brain in Minutes a Day</td>\n",
       "      <td>DS</td>\n",
       "      <td>2005.0</td>\n",
       "      <td>Misc</td>\n",
       "      <td>4.74</td>\n",
       "      <td>9.20</td>\n",
       "      <td>4.16</td>\n",
       "      <td>2.04</td>\n",
       "      <td>77.0</td>\n",
       "      <td>7.9</td>\n",
       "      <td>E</td>\n",
       "    </tr>\n",
       "  </tbody>\n",
       "</table>\n",
       "</div>"
      ],
      "text/plain": [
       "                                            Name Platform  Year_of_Release  \\\n",
       "0                                     Wii Sports      Wii           2006.0   \n",
       "1                              Super Mario Bros.      NES           1985.0   \n",
       "2                                 Mario Kart Wii      Wii           2008.0   \n",
       "3                              Wii Sports Resort      Wii           2009.0   \n",
       "4                       Pokemon Red/Pokemon Blue       GB           1996.0   \n",
       "5                                         Tetris       GB           1989.0   \n",
       "6                          New Super Mario Bros.       DS           2006.0   \n",
       "7                                       Wii Play      Wii           2006.0   \n",
       "8                      New Super Mario Bros. Wii      Wii           2009.0   \n",
       "9                                      Duck Hunt      NES           1984.0   \n",
       "10                                    Nintendogs       DS           2005.0   \n",
       "11                                 Mario Kart DS       DS           2005.0   \n",
       "12                   Pokemon Gold/Pokemon Silver       GB           1999.0   \n",
       "13                                       Wii Fit      Wii           2007.0   \n",
       "14                            Kinect Adventures!     X360           2010.0   \n",
       "15                                  Wii Fit Plus      Wii           2009.0   \n",
       "16                            Grand Theft Auto V      PS3           2013.0   \n",
       "17                 Grand Theft Auto: San Andreas      PS2           2004.0   \n",
       "18                             Super Mario World     SNES           1990.0   \n",
       "19  Brain Age: Train Your Brain in Minutes a Day       DS           2005.0   \n",
       "\n",
       "           Genre  NA_sales  EU_sales  JP_sales  Other_sales  Critic_Score  \\\n",
       "0         Sports     41.36     28.96      3.77         8.45          76.0   \n",
       "1       Platform     29.08      3.58      6.81         0.77           NaN   \n",
       "2         Racing     15.68     12.76      3.79         3.29          82.0   \n",
       "3         Sports     15.61     10.93      3.28         2.95          80.0   \n",
       "4   Role-Playing     11.27      8.89     10.22         1.00           NaN   \n",
       "5         Puzzle     23.20      2.26      4.22         0.58           NaN   \n",
       "6       Platform     11.28      9.14      6.50         2.88          89.0   \n",
       "7           Misc     13.96      9.18      2.93         2.84          58.0   \n",
       "8       Platform     14.44      6.94      4.70         2.24          87.0   \n",
       "9        Shooter     26.93      0.63      0.28         0.47           NaN   \n",
       "10    Simulation      9.05     10.95      1.93         2.74           NaN   \n",
       "11        Racing      9.71      7.47      4.13         1.90          91.0   \n",
       "12  Role-Playing      9.00      6.18      7.20         0.71           NaN   \n",
       "13        Sports      8.92      8.03      3.60         2.15          80.0   \n",
       "14          Misc     15.00      4.89      0.24         1.69          61.0   \n",
       "15        Sports      9.01      8.49      2.53         1.77          80.0   \n",
       "16        Action      7.02      9.09      0.98         3.96          97.0   \n",
       "17        Action      9.43      0.40      0.41        10.57          95.0   \n",
       "18      Platform     12.78      3.75      3.54         0.55           NaN   \n",
       "19          Misc      4.74      9.20      4.16         2.04          77.0   \n",
       "\n",
       "   User_Score Rating  \n",
       "0           8      E  \n",
       "1         NaN    NaN  \n",
       "2         8.3      E  \n",
       "3           8      E  \n",
       "4         NaN    NaN  \n",
       "5         NaN    NaN  \n",
       "6         8.5      E  \n",
       "7         6.6      E  \n",
       "8         8.4      E  \n",
       "9         NaN    NaN  \n",
       "10        NaN    NaN  \n",
       "11        8.6      E  \n",
       "12        NaN    NaN  \n",
       "13        7.7      E  \n",
       "14        6.3      E  \n",
       "15        7.4      E  \n",
       "16        8.2      M  \n",
       "17          9      M  \n",
       "18        NaN    NaN  \n",
       "19        7.9      E  "
      ]
     },
     "execution_count": 3,
     "metadata": {},
     "output_type": "execute_result"
    }
   ],
   "source": [
    "#вывод первых 20 строчек датафрейма\n",
    "data.head(20)"
   ]
  },
  {
   "cell_type": "code",
   "execution_count": 4,
   "id": "794943c6",
   "metadata": {},
   "outputs": [
    {
     "name": "stdout",
     "output_type": "stream",
     "text": [
      "<class 'pandas.core.frame.DataFrame'>\n",
      "RangeIndex: 16715 entries, 0 to 16714\n",
      "Data columns (total 11 columns):\n",
      " #   Column           Non-Null Count  Dtype  \n",
      "---  ------           --------------  -----  \n",
      " 0   Name             16713 non-null  object \n",
      " 1   Platform         16715 non-null  object \n",
      " 2   Year_of_Release  16446 non-null  float64\n",
      " 3   Genre            16713 non-null  object \n",
      " 4   NA_sales         16715 non-null  float64\n",
      " 5   EU_sales         16715 non-null  float64\n",
      " 6   JP_sales         16715 non-null  float64\n",
      " 7   Other_sales      16715 non-null  float64\n",
      " 8   Critic_Score     8137 non-null   float64\n",
      " 9   User_Score       10014 non-null  object \n",
      " 10  Rating           9949 non-null   object \n",
      "dtypes: float64(6), object(5)\n",
      "memory usage: 1.4+ MB\n"
     ]
    }
   ],
   "source": [
    "#вывод основной информации о датафрейме\n",
    "data.info()"
   ]
  },
  {
   "cell_type": "code",
   "execution_count": 5,
   "id": "7fe359c4",
   "metadata": {},
   "outputs": [
    {
     "data": {
      "text/plain": [
       "0"
      ]
     },
     "execution_count": 5,
     "metadata": {},
     "output_type": "execute_result"
    }
   ],
   "source": [
    "#проверим данные на явные дубликаты\n",
    "data.duplicated().sum()"
   ]
  },
  {
   "cell_type": "code",
   "execution_count": 6,
   "id": "35ea85fc",
   "metadata": {},
   "outputs": [
    {
     "data": {
      "text/plain": [
       "Name                  2\n",
       "Platform              0\n",
       "Year_of_Release     269\n",
       "Genre                 2\n",
       "NA_sales              0\n",
       "EU_sales              0\n",
       "JP_sales              0\n",
       "Other_sales           0\n",
       "Critic_Score       8578\n",
       "User_Score         6701\n",
       "Rating             6766\n",
       "dtype: int64"
      ]
     },
     "execution_count": 6,
     "metadata": {},
     "output_type": "execute_result"
    }
   ],
   "source": [
    "#проверим пропуски в столбцах\n",
    "data.isna().sum()"
   ]
  },
  {
   "cell_type": "code",
   "execution_count": 7,
   "id": "a0f1d666",
   "metadata": {},
   "outputs": [
    {
     "data": {
      "text/html": [
       "<div>\n",
       "<style scoped>\n",
       "    .dataframe tbody tr th:only-of-type {\n",
       "        vertical-align: middle;\n",
       "    }\n",
       "\n",
       "    .dataframe tbody tr th {\n",
       "        vertical-align: top;\n",
       "    }\n",
       "\n",
       "    .dataframe thead th {\n",
       "        text-align: right;\n",
       "    }\n",
       "</style>\n",
       "<table border=\"1\" class=\"dataframe\">\n",
       "  <thead>\n",
       "    <tr style=\"text-align: right;\">\n",
       "      <th></th>\n",
       "      <th>Year_of_Release</th>\n",
       "      <th>NA_sales</th>\n",
       "      <th>EU_sales</th>\n",
       "      <th>JP_sales</th>\n",
       "      <th>Other_sales</th>\n",
       "      <th>Critic_Score</th>\n",
       "    </tr>\n",
       "  </thead>\n",
       "  <tbody>\n",
       "    <tr>\n",
       "      <th>count</th>\n",
       "      <td>16446.000000</td>\n",
       "      <td>16715.000000</td>\n",
       "      <td>16715.000000</td>\n",
       "      <td>16715.000000</td>\n",
       "      <td>16715.000000</td>\n",
       "      <td>8137.000000</td>\n",
       "    </tr>\n",
       "    <tr>\n",
       "      <th>mean</th>\n",
       "      <td>2006.484616</td>\n",
       "      <td>0.263377</td>\n",
       "      <td>0.145060</td>\n",
       "      <td>0.077617</td>\n",
       "      <td>0.047342</td>\n",
       "      <td>68.967679</td>\n",
       "    </tr>\n",
       "    <tr>\n",
       "      <th>std</th>\n",
       "      <td>5.877050</td>\n",
       "      <td>0.813604</td>\n",
       "      <td>0.503339</td>\n",
       "      <td>0.308853</td>\n",
       "      <td>0.186731</td>\n",
       "      <td>13.938165</td>\n",
       "    </tr>\n",
       "    <tr>\n",
       "      <th>min</th>\n",
       "      <td>1980.000000</td>\n",
       "      <td>0.000000</td>\n",
       "      <td>0.000000</td>\n",
       "      <td>0.000000</td>\n",
       "      <td>0.000000</td>\n",
       "      <td>13.000000</td>\n",
       "    </tr>\n",
       "    <tr>\n",
       "      <th>25%</th>\n",
       "      <td>2003.000000</td>\n",
       "      <td>0.000000</td>\n",
       "      <td>0.000000</td>\n",
       "      <td>0.000000</td>\n",
       "      <td>0.000000</td>\n",
       "      <td>60.000000</td>\n",
       "    </tr>\n",
       "    <tr>\n",
       "      <th>50%</th>\n",
       "      <td>2007.000000</td>\n",
       "      <td>0.080000</td>\n",
       "      <td>0.020000</td>\n",
       "      <td>0.000000</td>\n",
       "      <td>0.010000</td>\n",
       "      <td>71.000000</td>\n",
       "    </tr>\n",
       "    <tr>\n",
       "      <th>75%</th>\n",
       "      <td>2010.000000</td>\n",
       "      <td>0.240000</td>\n",
       "      <td>0.110000</td>\n",
       "      <td>0.040000</td>\n",
       "      <td>0.030000</td>\n",
       "      <td>79.000000</td>\n",
       "    </tr>\n",
       "    <tr>\n",
       "      <th>max</th>\n",
       "      <td>2016.000000</td>\n",
       "      <td>41.360000</td>\n",
       "      <td>28.960000</td>\n",
       "      <td>10.220000</td>\n",
       "      <td>10.570000</td>\n",
       "      <td>98.000000</td>\n",
       "    </tr>\n",
       "  </tbody>\n",
       "</table>\n",
       "</div>"
      ],
      "text/plain": [
       "       Year_of_Release      NA_sales      EU_sales      JP_sales  \\\n",
       "count     16446.000000  16715.000000  16715.000000  16715.000000   \n",
       "mean       2006.484616      0.263377      0.145060      0.077617   \n",
       "std           5.877050      0.813604      0.503339      0.308853   \n",
       "min        1980.000000      0.000000      0.000000      0.000000   \n",
       "25%        2003.000000      0.000000      0.000000      0.000000   \n",
       "50%        2007.000000      0.080000      0.020000      0.000000   \n",
       "75%        2010.000000      0.240000      0.110000      0.040000   \n",
       "max        2016.000000     41.360000     28.960000     10.220000   \n",
       "\n",
       "        Other_sales  Critic_Score  \n",
       "count  16715.000000   8137.000000  \n",
       "mean       0.047342     68.967679  \n",
       "std        0.186731     13.938165  \n",
       "min        0.000000     13.000000  \n",
       "25%        0.000000     60.000000  \n",
       "50%        0.010000     71.000000  \n",
       "75%        0.030000     79.000000  \n",
       "max       10.570000     98.000000  "
      ]
     },
     "execution_count": 7,
     "metadata": {},
     "output_type": "execute_result"
    }
   ],
   "source": [
    "#посмотрим описание числовых данных датафрейма\n",
    "data.describe()"
   ]
  },
  {
   "cell_type": "markdown",
   "id": "dcf3fb82",
   "metadata": {},
   "source": [
    "Данные имеют пропуски в столбцах `Name`, `Year_of_Release`, `Genre`, `Critic_Score`, `User_Score`, `Rating`, причем в последних 3-х столбцах значительное количество пропусков.  В следующем разделе рассмотрим необходимость их заполнения.\n",
    "Также можно отметить, что названия столбцов не приведены в нижний регистр. Кроме того, данные были проверены на явные дубликаты - их нет.\n",
    "Тип данных в столбце `Year_of_Release` подразумевает целые числа `int`, а сейчас тип данных - вещественный `float`.  Также тип данных в столбце `User_Score` подразумевает вещественный `float` (это оценка пользователями игры от 0 до 10 баллов), а на самом деле его тип сейчас - строка `object`. Аномалии и выбросы не были выявлены.\n",
    "\n",
    "Все отмеченные особенности данных будут рассмотрены в следующем разделе."
   ]
  },
  {
   "cell_type": "markdown",
   "id": "59ab7c9e",
   "metadata": {},
   "source": [
    "## Подготовка данных"
   ]
  },
  {
   "cell_type": "markdown",
   "id": "1378bbd7",
   "metadata": {},
   "source": [
    "### Замена названий столбцов (приведение к нижнему регистру)"
   ]
  },
  {
   "cell_type": "code",
   "execution_count": 8,
   "id": "5ac8eb6b",
   "metadata": {},
   "outputs": [],
   "source": [
    "#приведем названия столбцов к нижнему регистру\n",
    "data.columns = data.columns.str.lower()"
   ]
  },
  {
   "cell_type": "code",
   "execution_count": 9,
   "id": "0767ca80",
   "metadata": {},
   "outputs": [
    {
     "data": {
      "text/plain": [
       "Index(['name', 'platform', 'year_of_release', 'genre', 'na_sales', 'eu_sales',\n",
       "       'jp_sales', 'other_sales', 'critic_score', 'user_score', 'rating'],\n",
       "      dtype='object')"
      ]
     },
     "execution_count": 9,
     "metadata": {},
     "output_type": "execute_result"
    }
   ],
   "source": [
    "#проверим замену названий столбцов\n",
    "data.columns"
   ]
  },
  {
   "cell_type": "markdown",
   "id": "1c1a45c1",
   "metadata": {},
   "source": [
    "В данном подпункте названия столбцов были приведены к нижнему регистру для удобства работы с данными."
   ]
  },
  {
   "cell_type": "markdown",
   "id": "8b16603e",
   "metadata": {},
   "source": [
    "### Обработка пропусков и преобразование данных в нужные типы"
   ]
  },
  {
   "cell_type": "code",
   "execution_count": 10,
   "id": "8149dd92",
   "metadata": {},
   "outputs": [
    {
     "data": {
      "text/plain": [
       "name                  2\n",
       "platform              0\n",
       "year_of_release     269\n",
       "genre                 2\n",
       "na_sales              0\n",
       "eu_sales              0\n",
       "jp_sales              0\n",
       "other_sales           0\n",
       "critic_score       8578\n",
       "user_score         6701\n",
       "rating             6766\n",
       "dtype: int64"
      ]
     },
     "execution_count": 10,
     "metadata": {},
     "output_type": "execute_result"
    }
   ],
   "source": [
    "#проверим пропуски в столбцах\n",
    "data.isna().sum()"
   ]
  },
  {
   "cell_type": "markdown",
   "id": "91176b6f",
   "metadata": {},
   "source": [
    "Пропуски в столбцах `name`, `year_of_release` и `genre` восстановить не получится. Название и жанр узнать не представляется возможным. Год не получится установить, так как даже при наличии его в названии, возможно, что выход игры был раньше или позже на год. Поэтому удалим строки с пропусками в этих столбцах."
   ]
  },
  {
   "cell_type": "code",
   "execution_count": 11,
   "id": "3fc15f9b",
   "metadata": {},
   "outputs": [],
   "source": [
    "#удалим пропуски в столбцах 'name', 'year_of_release', 'genre'\n",
    "data = data.dropna(subset=['name', 'genre', 'year_of_release']).reset_index()"
   ]
  },
  {
   "cell_type": "code",
   "execution_count": 12,
   "id": "e97b391e",
   "metadata": {},
   "outputs": [
    {
     "data": {
      "text/plain": [
       "array([76., nan, 82., 80., 89., 58., 87., 91., 61., 97., 95., 77., 88.,\n",
       "       83., 94., 93., 85., 86., 98., 96., 90., 84., 73., 74., 78., 92.,\n",
       "       71., 72., 68., 62., 49., 67., 81., 66., 56., 79., 70., 59., 64.,\n",
       "       75., 60., 63., 69., 50., 25., 42., 44., 55., 48., 57., 29., 47.,\n",
       "       65., 54., 20., 53., 37., 38., 33., 52., 30., 32., 43., 45., 51.,\n",
       "       40., 46., 39., 34., 41., 36., 31., 27., 35., 26., 19., 28., 23.,\n",
       "       24., 21., 17., 13.])"
      ]
     },
     "execution_count": 12,
     "metadata": {},
     "output_type": "execute_result"
    }
   ],
   "source": [
    "#рассмотрим уникальные значения в столбце 'critic_score'\n",
    "data['critic_score'].unique()"
   ]
  },
  {
   "cell_type": "code",
   "execution_count": 13,
   "id": "130725ed",
   "metadata": {},
   "outputs": [
    {
     "data": {
      "text/plain": [
       "array(['8', nan, '8.3', '8.5', '6.6', '8.4', '8.6', '7.7', '6.3', '7.4',\n",
       "       '8.2', '9', '7.9', '8.1', '8.7', '7.1', '3.4', '5.3', '4.8', '3.2',\n",
       "       '8.9', '6.4', '7.8', '7.5', '2.6', '7.2', '9.2', '7', '7.3', '4.3',\n",
       "       '7.6', '5.7', '5', '9.1', '6.5', 'tbd', '8.8', '6.9', '9.4', '6.8',\n",
       "       '6.1', '6.7', '5.4', '4', '4.9', '4.5', '9.3', '6.2', '4.2', '6',\n",
       "       '3.7', '4.1', '5.8', '5.6', '5.5', '4.4', '4.6', '5.9', '3.9',\n",
       "       '3.1', '2.9', '5.2', '3.3', '4.7', '5.1', '3.5', '2.5', '1.9', '3',\n",
       "       '2.7', '2.2', '2', '9.5', '2.1', '3.6', '2.8', '1.8', '3.8', '0',\n",
       "       '1.6', '9.6', '2.4', '1.7', '1.1', '0.3', '1.5', '0.7', '1.2',\n",
       "       '2.3', '0.5', '1.3', '0.2', '0.6', '1.4', '0.9', '1', '9.7'],\n",
       "      dtype=object)"
      ]
     },
     "execution_count": 13,
     "metadata": {},
     "output_type": "execute_result"
    }
   ],
   "source": [
    "#рассмотрим уникальные значения в столбце 'user_score'\n",
    "data['user_score'].unique()"
   ]
  },
  {
   "cell_type": "markdown",
   "id": "1085bc2e",
   "metadata": {},
   "source": [
    "В столбце `user_score` данные относятся к строкам, хотя подразумевается, что это вещественные числа от 0 до 10 (оценка игры пользователями). Поэтому необходимо будет перевести тип данных к `float`, однако необходимо разобраться с значением `tbd`. Эта аббревиатура означает _to be determined_ (_будет определено_). Этим значением обозначили те игры, которые пользователи не оценили, возможно, это делали при релизе игры или добавлении в базу данных, а позднее не обновляли. Заменим эти значения на Nan, так как фактически - это пропуски."
   ]
  },
  {
   "cell_type": "code",
   "execution_count": 14,
   "id": "a7691db8",
   "metadata": {},
   "outputs": [],
   "source": [
    "#замена значений 'tbd' на nan в столбце 'user_score'\n",
    "data['user_score'] = data['user_score'].replace('tbd', np.nan)"
   ]
  },
  {
   "cell_type": "code",
   "execution_count": 15,
   "id": "8d12da3b",
   "metadata": {},
   "outputs": [
    {
     "data": {
      "text/plain": [
       "array(['8', nan, '8.3', '8.5', '6.6', '8.4', '8.6', '7.7', '6.3', '7.4',\n",
       "       '8.2', '9', '7.9', '8.1', '8.7', '7.1', '3.4', '5.3', '4.8', '3.2',\n",
       "       '8.9', '6.4', '7.8', '7.5', '2.6', '7.2', '9.2', '7', '7.3', '4.3',\n",
       "       '7.6', '5.7', '5', '9.1', '6.5', '8.8', '6.9', '9.4', '6.8', '6.1',\n",
       "       '6.7', '5.4', '4', '4.9', '4.5', '9.3', '6.2', '4.2', '6', '3.7',\n",
       "       '4.1', '5.8', '5.6', '5.5', '4.4', '4.6', '5.9', '3.9', '3.1',\n",
       "       '2.9', '5.2', '3.3', '4.7', '5.1', '3.5', '2.5', '1.9', '3', '2.7',\n",
       "       '2.2', '2', '9.5', '2.1', '3.6', '2.8', '1.8', '3.8', '0', '1.6',\n",
       "       '9.6', '2.4', '1.7', '1.1', '0.3', '1.5', '0.7', '1.2', '2.3',\n",
       "       '0.5', '1.3', '0.2', '0.6', '1.4', '0.9', '1', '9.7'], dtype=object)"
      ]
     },
     "execution_count": 15,
     "metadata": {},
     "output_type": "execute_result"
    }
   ],
   "source": [
    "#проверим уникальные значения в столбце 'user_score'\n",
    "data['user_score'].unique()"
   ]
  },
  {
   "cell_type": "code",
   "execution_count": 16,
   "id": "ddccf6a0",
   "metadata": {},
   "outputs": [
    {
     "data": {
      "text/plain": [
       "array(['E', nan, 'M', 'T', 'E10+', 'K-A', 'AO', 'EC', 'RP'], dtype=object)"
      ]
     },
     "execution_count": 16,
     "metadata": {},
     "output_type": "execute_result"
    }
   ],
   "source": [
    "#рассмотрим уникальные значения в столбце 'rating'\n",
    "data['rating'].unique()"
   ]
  },
  {
   "cell_type": "markdown",
   "id": "5aab9478",
   "metadata": {},
   "source": [
    "В столбце `rating` значение `K-A`(_Kids to Adults_) должно входить в `E`(_Everyone_), так как `K-A` был до 1998 года, а потом эту группу переименовали в `E`. Для объективной оценки рейтинга необходимо заменить значение `K-A` на `E`. Также заменим пропуски на значение `U`(_unknown_), так как это категориальные данные."
   ]
  },
  {
   "cell_type": "code",
   "execution_count": 17,
   "id": "a5d5959f",
   "metadata": {},
   "outputs": [],
   "source": [
    "#заменим значения 'K-A' на 'E' в столбце 'rating'\n",
    "data['rating'] = data['rating'].replace('K-A', 'E')"
   ]
  },
  {
   "cell_type": "code",
   "execution_count": 18,
   "id": "98a674be",
   "metadata": {},
   "outputs": [],
   "source": [
    "#заменим пропуски в столбце 'rating' на 'undefined'\n",
    "data['rating'] = data['rating'].fillna('U')"
   ]
  },
  {
   "cell_type": "code",
   "execution_count": 19,
   "id": "b53a24a4",
   "metadata": {},
   "outputs": [
    {
     "data": {
      "text/plain": [
       "array(['E', 'U', 'M', 'T', 'E10+', 'AO', 'EC', 'RP'], dtype=object)"
      ]
     },
     "execution_count": 19,
     "metadata": {},
     "output_type": "execute_result"
    }
   ],
   "source": [
    "#проверим уникальные значения в столбце 'rating'\n",
    "data['rating'].unique()"
   ]
  },
  {
   "cell_type": "code",
   "execution_count": 20,
   "id": "cc07b3a1",
   "metadata": {},
   "outputs": [],
   "source": [
    "#заменим типы данных в столбцах 'year_of_release' и 'user_score'\n",
    "data['year_of_release'] = data['year_of_release'].astype('int')\n",
    "data['user_score'] = data['user_score'].astype('float')"
   ]
  },
  {
   "cell_type": "code",
   "execution_count": 21,
   "id": "36a1cb7c",
   "metadata": {},
   "outputs": [
    {
     "name": "stdout",
     "output_type": "stream",
     "text": [
      "<class 'pandas.core.frame.DataFrame'>\n",
      "RangeIndex: 16444 entries, 0 to 16443\n",
      "Data columns (total 12 columns):\n",
      " #   Column           Non-Null Count  Dtype  \n",
      "---  ------           --------------  -----  \n",
      " 0   index            16444 non-null  int64  \n",
      " 1   name             16444 non-null  object \n",
      " 2   platform         16444 non-null  object \n",
      " 3   year_of_release  16444 non-null  int64  \n",
      " 4   genre            16444 non-null  object \n",
      " 5   na_sales         16444 non-null  float64\n",
      " 6   eu_sales         16444 non-null  float64\n",
      " 7   jp_sales         16444 non-null  float64\n",
      " 8   other_sales      16444 non-null  float64\n",
      " 9   critic_score     7983 non-null   float64\n",
      " 10  user_score       7463 non-null   float64\n",
      " 11  rating           16444 non-null  object \n",
      "dtypes: float64(6), int64(2), object(4)\n",
      "memory usage: 1.5+ MB\n"
     ]
    }
   ],
   "source": [
    "#посмотрим, как изменился датафрейм после предобработки\n",
    "data.info()"
   ]
  },
  {
   "cell_type": "markdown",
   "id": "afeebc87",
   "metadata": {},
   "source": [
    "В данном подпункте были обработаны пропуски в столбцах `name`, `year_of_release`, `genre`. Пропуски были удалены. Пропуски могли возникнуть из-за ошибки оператора, а также из-за того, что на момент внесения игры в базу не былы определены окончательно название, жанр или год выпуска, было решено их внести позднее, и, в итоге, не внесли.\n",
    "\n",
    "В столбце `user_score` данные относились к строкам, хотя подразумевались вещественные числа от 0 до 10 (оценка игры пользователями). Поэтому столбец был переведен к типу `float`, после работы с значением **`tbd`**. Эта аббревиатура означает _to be determined_ (_будет определено_). Этим значением обозначили те игры, которые пользователи не оценили, возможно, это делали при релизе игры или добавлении в базу данных, а позднее не обновляли. Эти значения были заменены на Nan, так как фактически - это пропуски. Пропуски в этом столбце обусловлены тем, что пользователи могли просто не оценивать эту игру из-за того, что она или слишком старая, или слишком новая и еще нет ее оценки. \n",
    "\n",
    "В столбцах `user_score` и `critic_score` пропуски остались незаполненными, чтобы не искажать картину данных.\n",
    "\n",
    "В столбце `rating` для объективной оценки рейтинга значение `K-A`(_Kids to Adults_) заменили на `E`(_Everyone_), так как `K-A` был до 1998 года, а потом эту группу переименовали в `E`.Также пропуски были заменены на значение`U`(_unknown_), чтобы не удалять пропуски и при этом не искажать группы. Пропуски в этом столбце могут быть обусловлены просто отсутствием игры в рейтинге организации ESRB или невозможностью определить категорию."
   ]
  },
  {
   "cell_type": "markdown",
   "id": "61b0d1fc",
   "metadata": {},
   "source": [
    "### Подсчет суммарных продаж во всех регионах и запись в отдельный столбец"
   ]
  },
  {
   "cell_type": "code",
   "execution_count": 22,
   "id": "1f93eb23",
   "metadata": {},
   "outputs": [],
   "source": [
    "#подсчет суммарных продаж игр во всех регионах\n",
    "data['total_sales'] = data[['na_sales', 'eu_sales', 'jp_sales', 'other_sales']].sum(axis=1)"
   ]
  },
  {
   "cell_type": "code",
   "execution_count": 23,
   "id": "119f7138",
   "metadata": {},
   "outputs": [
    {
     "data": {
      "text/html": [
       "<div>\n",
       "<style scoped>\n",
       "    .dataframe tbody tr th:only-of-type {\n",
       "        vertical-align: middle;\n",
       "    }\n",
       "\n",
       "    .dataframe tbody tr th {\n",
       "        vertical-align: top;\n",
       "    }\n",
       "\n",
       "    .dataframe thead th {\n",
       "        text-align: right;\n",
       "    }\n",
       "</style>\n",
       "<table border=\"1\" class=\"dataframe\">\n",
       "  <thead>\n",
       "    <tr style=\"text-align: right;\">\n",
       "      <th></th>\n",
       "      <th>index</th>\n",
       "      <th>name</th>\n",
       "      <th>platform</th>\n",
       "      <th>year_of_release</th>\n",
       "      <th>genre</th>\n",
       "      <th>na_sales</th>\n",
       "      <th>eu_sales</th>\n",
       "      <th>jp_sales</th>\n",
       "      <th>other_sales</th>\n",
       "      <th>critic_score</th>\n",
       "      <th>user_score</th>\n",
       "      <th>rating</th>\n",
       "      <th>total_sales</th>\n",
       "    </tr>\n",
       "  </thead>\n",
       "  <tbody>\n",
       "    <tr>\n",
       "      <th>0</th>\n",
       "      <td>0</td>\n",
       "      <td>Wii Sports</td>\n",
       "      <td>Wii</td>\n",
       "      <td>2006</td>\n",
       "      <td>Sports</td>\n",
       "      <td>41.36</td>\n",
       "      <td>28.96</td>\n",
       "      <td>3.77</td>\n",
       "      <td>8.45</td>\n",
       "      <td>76.0</td>\n",
       "      <td>8.0</td>\n",
       "      <td>E</td>\n",
       "      <td>82.54</td>\n",
       "    </tr>\n",
       "    <tr>\n",
       "      <th>1</th>\n",
       "      <td>1</td>\n",
       "      <td>Super Mario Bros.</td>\n",
       "      <td>NES</td>\n",
       "      <td>1985</td>\n",
       "      <td>Platform</td>\n",
       "      <td>29.08</td>\n",
       "      <td>3.58</td>\n",
       "      <td>6.81</td>\n",
       "      <td>0.77</td>\n",
       "      <td>NaN</td>\n",
       "      <td>NaN</td>\n",
       "      <td>U</td>\n",
       "      <td>40.24</td>\n",
       "    </tr>\n",
       "    <tr>\n",
       "      <th>2</th>\n",
       "      <td>2</td>\n",
       "      <td>Mario Kart Wii</td>\n",
       "      <td>Wii</td>\n",
       "      <td>2008</td>\n",
       "      <td>Racing</td>\n",
       "      <td>15.68</td>\n",
       "      <td>12.76</td>\n",
       "      <td>3.79</td>\n",
       "      <td>3.29</td>\n",
       "      <td>82.0</td>\n",
       "      <td>8.3</td>\n",
       "      <td>E</td>\n",
       "      <td>35.52</td>\n",
       "    </tr>\n",
       "    <tr>\n",
       "      <th>3</th>\n",
       "      <td>3</td>\n",
       "      <td>Wii Sports Resort</td>\n",
       "      <td>Wii</td>\n",
       "      <td>2009</td>\n",
       "      <td>Sports</td>\n",
       "      <td>15.61</td>\n",
       "      <td>10.93</td>\n",
       "      <td>3.28</td>\n",
       "      <td>2.95</td>\n",
       "      <td>80.0</td>\n",
       "      <td>8.0</td>\n",
       "      <td>E</td>\n",
       "      <td>32.77</td>\n",
       "    </tr>\n",
       "    <tr>\n",
       "      <th>4</th>\n",
       "      <td>4</td>\n",
       "      <td>Pokemon Red/Pokemon Blue</td>\n",
       "      <td>GB</td>\n",
       "      <td>1996</td>\n",
       "      <td>Role-Playing</td>\n",
       "      <td>11.27</td>\n",
       "      <td>8.89</td>\n",
       "      <td>10.22</td>\n",
       "      <td>1.00</td>\n",
       "      <td>NaN</td>\n",
       "      <td>NaN</td>\n",
       "      <td>U</td>\n",
       "      <td>31.38</td>\n",
       "    </tr>\n",
       "    <tr>\n",
       "      <th>5</th>\n",
       "      <td>5</td>\n",
       "      <td>Tetris</td>\n",
       "      <td>GB</td>\n",
       "      <td>1989</td>\n",
       "      <td>Puzzle</td>\n",
       "      <td>23.20</td>\n",
       "      <td>2.26</td>\n",
       "      <td>4.22</td>\n",
       "      <td>0.58</td>\n",
       "      <td>NaN</td>\n",
       "      <td>NaN</td>\n",
       "      <td>U</td>\n",
       "      <td>30.26</td>\n",
       "    </tr>\n",
       "    <tr>\n",
       "      <th>6</th>\n",
       "      <td>6</td>\n",
       "      <td>New Super Mario Bros.</td>\n",
       "      <td>DS</td>\n",
       "      <td>2006</td>\n",
       "      <td>Platform</td>\n",
       "      <td>11.28</td>\n",
       "      <td>9.14</td>\n",
       "      <td>6.50</td>\n",
       "      <td>2.88</td>\n",
       "      <td>89.0</td>\n",
       "      <td>8.5</td>\n",
       "      <td>E</td>\n",
       "      <td>29.80</td>\n",
       "    </tr>\n",
       "    <tr>\n",
       "      <th>7</th>\n",
       "      <td>7</td>\n",
       "      <td>Wii Play</td>\n",
       "      <td>Wii</td>\n",
       "      <td>2006</td>\n",
       "      <td>Misc</td>\n",
       "      <td>13.96</td>\n",
       "      <td>9.18</td>\n",
       "      <td>2.93</td>\n",
       "      <td>2.84</td>\n",
       "      <td>58.0</td>\n",
       "      <td>6.6</td>\n",
       "      <td>E</td>\n",
       "      <td>28.91</td>\n",
       "    </tr>\n",
       "    <tr>\n",
       "      <th>8</th>\n",
       "      <td>8</td>\n",
       "      <td>New Super Mario Bros. Wii</td>\n",
       "      <td>Wii</td>\n",
       "      <td>2009</td>\n",
       "      <td>Platform</td>\n",
       "      <td>14.44</td>\n",
       "      <td>6.94</td>\n",
       "      <td>4.70</td>\n",
       "      <td>2.24</td>\n",
       "      <td>87.0</td>\n",
       "      <td>8.4</td>\n",
       "      <td>E</td>\n",
       "      <td>28.32</td>\n",
       "    </tr>\n",
       "    <tr>\n",
       "      <th>9</th>\n",
       "      <td>9</td>\n",
       "      <td>Duck Hunt</td>\n",
       "      <td>NES</td>\n",
       "      <td>1984</td>\n",
       "      <td>Shooter</td>\n",
       "      <td>26.93</td>\n",
       "      <td>0.63</td>\n",
       "      <td>0.28</td>\n",
       "      <td>0.47</td>\n",
       "      <td>NaN</td>\n",
       "      <td>NaN</td>\n",
       "      <td>U</td>\n",
       "      <td>28.31</td>\n",
       "    </tr>\n",
       "  </tbody>\n",
       "</table>\n",
       "</div>"
      ],
      "text/plain": [
       "   index                       name platform  year_of_release         genre  \\\n",
       "0      0                 Wii Sports      Wii             2006        Sports   \n",
       "1      1          Super Mario Bros.      NES             1985      Platform   \n",
       "2      2             Mario Kart Wii      Wii             2008        Racing   \n",
       "3      3          Wii Sports Resort      Wii             2009        Sports   \n",
       "4      4   Pokemon Red/Pokemon Blue       GB             1996  Role-Playing   \n",
       "5      5                     Tetris       GB             1989        Puzzle   \n",
       "6      6      New Super Mario Bros.       DS             2006      Platform   \n",
       "7      7                   Wii Play      Wii             2006          Misc   \n",
       "8      8  New Super Mario Bros. Wii      Wii             2009      Platform   \n",
       "9      9                  Duck Hunt      NES             1984       Shooter   \n",
       "\n",
       "   na_sales  eu_sales  jp_sales  other_sales  critic_score  user_score rating  \\\n",
       "0     41.36     28.96      3.77         8.45          76.0         8.0      E   \n",
       "1     29.08      3.58      6.81         0.77           NaN         NaN      U   \n",
       "2     15.68     12.76      3.79         3.29          82.0         8.3      E   \n",
       "3     15.61     10.93      3.28         2.95          80.0         8.0      E   \n",
       "4     11.27      8.89     10.22         1.00           NaN         NaN      U   \n",
       "5     23.20      2.26      4.22         0.58           NaN         NaN      U   \n",
       "6     11.28      9.14      6.50         2.88          89.0         8.5      E   \n",
       "7     13.96      9.18      2.93         2.84          58.0         6.6      E   \n",
       "8     14.44      6.94      4.70         2.24          87.0         8.4      E   \n",
       "9     26.93      0.63      0.28         0.47           NaN         NaN      U   \n",
       "\n",
       "   total_sales  \n",
       "0        82.54  \n",
       "1        40.24  \n",
       "2        35.52  \n",
       "3        32.77  \n",
       "4        31.38  \n",
       "5        30.26  \n",
       "6        29.80  \n",
       "7        28.91  \n",
       "8        28.32  \n",
       "9        28.31  "
      ]
     },
     "execution_count": 23,
     "metadata": {},
     "output_type": "execute_result"
    }
   ],
   "source": [
    "#проверим добавление столбца\n",
    "data.head(10)"
   ]
  },
  {
   "cell_type": "markdown",
   "id": "81499267",
   "metadata": {},
   "source": [
    "В данном подпункте был добавлен столбец `total_sales`, необходимый для работы в следующих разделах."
   ]
  },
  {
   "cell_type": "markdown",
   "id": "57a6a413",
   "metadata": {},
   "source": [
    "## Исследовательский анализ данных"
   ]
  },
  {
   "cell_type": "markdown",
   "id": "f1366a98",
   "metadata": {},
   "source": [
    "### Исследование количества выпускаемых игр в разные годы"
   ]
  },
  {
   "cell_type": "code",
   "execution_count": 24,
   "id": "8d09502e",
   "metadata": {},
   "outputs": [
    {
     "data": {
      "text/html": [
       "<div>\n",
       "<style scoped>\n",
       "    .dataframe tbody tr th:only-of-type {\n",
       "        vertical-align: middle;\n",
       "    }\n",
       "\n",
       "    .dataframe tbody tr th {\n",
       "        vertical-align: top;\n",
       "    }\n",
       "\n",
       "    .dataframe thead th {\n",
       "        text-align: right;\n",
       "    }\n",
       "</style>\n",
       "<table border=\"1\" class=\"dataframe\">\n",
       "  <thead>\n",
       "    <tr style=\"text-align: right;\">\n",
       "      <th></th>\n",
       "      <th>year_of_release</th>\n",
       "      <th>number_of_games</th>\n",
       "    </tr>\n",
       "  </thead>\n",
       "  <tbody>\n",
       "    <tr>\n",
       "      <th>0</th>\n",
       "      <td>1980</td>\n",
       "      <td>9</td>\n",
       "    </tr>\n",
       "    <tr>\n",
       "      <th>1</th>\n",
       "      <td>1981</td>\n",
       "      <td>46</td>\n",
       "    </tr>\n",
       "    <tr>\n",
       "      <th>2</th>\n",
       "      <td>1982</td>\n",
       "      <td>36</td>\n",
       "    </tr>\n",
       "    <tr>\n",
       "      <th>3</th>\n",
       "      <td>1983</td>\n",
       "      <td>17</td>\n",
       "    </tr>\n",
       "    <tr>\n",
       "      <th>4</th>\n",
       "      <td>1984</td>\n",
       "      <td>14</td>\n",
       "    </tr>\n",
       "    <tr>\n",
       "      <th>5</th>\n",
       "      <td>1985</td>\n",
       "      <td>14</td>\n",
       "    </tr>\n",
       "    <tr>\n",
       "      <th>6</th>\n",
       "      <td>1986</td>\n",
       "      <td>21</td>\n",
       "    </tr>\n",
       "    <tr>\n",
       "      <th>7</th>\n",
       "      <td>1987</td>\n",
       "      <td>16</td>\n",
       "    </tr>\n",
       "    <tr>\n",
       "      <th>8</th>\n",
       "      <td>1988</td>\n",
       "      <td>15</td>\n",
       "    </tr>\n",
       "    <tr>\n",
       "      <th>9</th>\n",
       "      <td>1989</td>\n",
       "      <td>17</td>\n",
       "    </tr>\n",
       "    <tr>\n",
       "      <th>10</th>\n",
       "      <td>1990</td>\n",
       "      <td>16</td>\n",
       "    </tr>\n",
       "    <tr>\n",
       "      <th>11</th>\n",
       "      <td>1991</td>\n",
       "      <td>41</td>\n",
       "    </tr>\n",
       "    <tr>\n",
       "      <th>12</th>\n",
       "      <td>1992</td>\n",
       "      <td>43</td>\n",
       "    </tr>\n",
       "    <tr>\n",
       "      <th>13</th>\n",
       "      <td>1993</td>\n",
       "      <td>60</td>\n",
       "    </tr>\n",
       "    <tr>\n",
       "      <th>14</th>\n",
       "      <td>1994</td>\n",
       "      <td>121</td>\n",
       "    </tr>\n",
       "    <tr>\n",
       "      <th>15</th>\n",
       "      <td>1995</td>\n",
       "      <td>219</td>\n",
       "    </tr>\n",
       "    <tr>\n",
       "      <th>16</th>\n",
       "      <td>1996</td>\n",
       "      <td>263</td>\n",
       "    </tr>\n",
       "    <tr>\n",
       "      <th>17</th>\n",
       "      <td>1997</td>\n",
       "      <td>289</td>\n",
       "    </tr>\n",
       "    <tr>\n",
       "      <th>18</th>\n",
       "      <td>1998</td>\n",
       "      <td>379</td>\n",
       "    </tr>\n",
       "    <tr>\n",
       "      <th>19</th>\n",
       "      <td>1999</td>\n",
       "      <td>338</td>\n",
       "    </tr>\n",
       "    <tr>\n",
       "      <th>20</th>\n",
       "      <td>2000</td>\n",
       "      <td>350</td>\n",
       "    </tr>\n",
       "    <tr>\n",
       "      <th>21</th>\n",
       "      <td>2001</td>\n",
       "      <td>482</td>\n",
       "    </tr>\n",
       "    <tr>\n",
       "      <th>22</th>\n",
       "      <td>2002</td>\n",
       "      <td>829</td>\n",
       "    </tr>\n",
       "    <tr>\n",
       "      <th>23</th>\n",
       "      <td>2003</td>\n",
       "      <td>775</td>\n",
       "    </tr>\n",
       "    <tr>\n",
       "      <th>24</th>\n",
       "      <td>2004</td>\n",
       "      <td>762</td>\n",
       "    </tr>\n",
       "    <tr>\n",
       "      <th>25</th>\n",
       "      <td>2005</td>\n",
       "      <td>939</td>\n",
       "    </tr>\n",
       "    <tr>\n",
       "      <th>26</th>\n",
       "      <td>2006</td>\n",
       "      <td>1006</td>\n",
       "    </tr>\n",
       "    <tr>\n",
       "      <th>27</th>\n",
       "      <td>2007</td>\n",
       "      <td>1197</td>\n",
       "    </tr>\n",
       "    <tr>\n",
       "      <th>28</th>\n",
       "      <td>2008</td>\n",
       "      <td>1427</td>\n",
       "    </tr>\n",
       "    <tr>\n",
       "      <th>29</th>\n",
       "      <td>2009</td>\n",
       "      <td>1426</td>\n",
       "    </tr>\n",
       "    <tr>\n",
       "      <th>30</th>\n",
       "      <td>2010</td>\n",
       "      <td>1255</td>\n",
       "    </tr>\n",
       "    <tr>\n",
       "      <th>31</th>\n",
       "      <td>2011</td>\n",
       "      <td>1136</td>\n",
       "    </tr>\n",
       "    <tr>\n",
       "      <th>32</th>\n",
       "      <td>2012</td>\n",
       "      <td>653</td>\n",
       "    </tr>\n",
       "    <tr>\n",
       "      <th>33</th>\n",
       "      <td>2013</td>\n",
       "      <td>544</td>\n",
       "    </tr>\n",
       "    <tr>\n",
       "      <th>34</th>\n",
       "      <td>2014</td>\n",
       "      <td>581</td>\n",
       "    </tr>\n",
       "    <tr>\n",
       "      <th>35</th>\n",
       "      <td>2015</td>\n",
       "      <td>606</td>\n",
       "    </tr>\n",
       "    <tr>\n",
       "      <th>36</th>\n",
       "      <td>2016</td>\n",
       "      <td>502</td>\n",
       "    </tr>\n",
       "  </tbody>\n",
       "</table>\n",
       "</div>"
      ],
      "text/plain": [
       "    year_of_release  number_of_games\n",
       "0              1980                9\n",
       "1              1981               46\n",
       "2              1982               36\n",
       "3              1983               17\n",
       "4              1984               14\n",
       "5              1985               14\n",
       "6              1986               21\n",
       "7              1987               16\n",
       "8              1988               15\n",
       "9              1989               17\n",
       "10             1990               16\n",
       "11             1991               41\n",
       "12             1992               43\n",
       "13             1993               60\n",
       "14             1994              121\n",
       "15             1995              219\n",
       "16             1996              263\n",
       "17             1997              289\n",
       "18             1998              379\n",
       "19             1999              338\n",
       "20             2000              350\n",
       "21             2001              482\n",
       "22             2002              829\n",
       "23             2003              775\n",
       "24             2004              762\n",
       "25             2005              939\n",
       "26             2006             1006\n",
       "27             2007             1197\n",
       "28             2008             1427\n",
       "29             2009             1426\n",
       "30             2010             1255\n",
       "31             2011             1136\n",
       "32             2012              653\n",
       "33             2013              544\n",
       "34             2014              581\n",
       "35             2015              606\n",
       "36             2016              502"
      ]
     },
     "execution_count": 24,
     "metadata": {},
     "output_type": "execute_result"
    }
   ],
   "source": [
    "#посчитаем количество выпускаемых игр в разные годы\n",
    "games_per_year = data.groupby('year_of_release').agg(number_of_games=('name', 'count')).reset_index()\n",
    "games_per_year"
   ]
  },
  {
   "cell_type": "code",
   "execution_count": 25,
   "id": "3308c2e9",
   "metadata": {},
   "outputs": [
    {
     "data": {
      "image/png": "[encoded data removed]",
      "text/plain": [
       "<Figure size 1080x576 with 1 Axes>"
      ]
     },
     "metadata": {
      "needs_background": "light"
     },
     "output_type": "display_data"
    }
   ],
   "source": [
    "#построим столбчатую диаграмму по количеству выпускаемых игр в разные годы\n",
    "plt.figure(figsize=(15,8))\n",
    "sns.barplot(x=games_per_year['year_of_release'], y=games_per_year['number_of_games'])\\\n",
    "    .set_title('Количество выпускаемых игр в разные годы')\n",
    "plt.xlabel('Годы выпуска')\n",
    "plt.ylabel('Количество выпущенных игр')\n",
    "plt.xticks(rotation=90)\n",
    "plt.show()"
   ]
  },
  {
   "cell_type": "markdown",
   "id": "3f621505",
   "metadata": {},
   "source": [
    "Благодаря графику можно увидеть, что для исследования данных по играм имеет смысл брать годы, начиная с 1994 года. Количество игр, относящихся к периоду до 1994 года, суммарно невелико. Для дальнейшей работы отфильтруем данные."
   ]
  },
  {
   "cell_type": "code",
   "execution_count": 26,
   "id": "5caf2675",
   "metadata": {},
   "outputs": [],
   "source": [
    "#уберем данные до 1994\n",
    "data = data.query('year_of_release >= 1994')"
   ]
  },
  {
   "cell_type": "markdown",
   "id": "9384f4bb",
   "metadata": {},
   "source": [
    "### Исследование изменения продаж по платформам"
   ]
  },
  {
   "cell_type": "code",
   "execution_count": 27,
   "id": "ac3e16ce",
   "metadata": {},
   "outputs": [
    {
     "data": {
      "text/html": [
       "<div>\n",
       "<style scoped>\n",
       "    .dataframe tbody tr th:only-of-type {\n",
       "        vertical-align: middle;\n",
       "    }\n",
       "\n",
       "    .dataframe tbody tr th {\n",
       "        vertical-align: top;\n",
       "    }\n",
       "\n",
       "    .dataframe thead th {\n",
       "        text-align: right;\n",
       "    }\n",
       "</style>\n",
       "<table border=\"1\" class=\"dataframe\">\n",
       "  <thead>\n",
       "    <tr style=\"text-align: right;\">\n",
       "      <th></th>\n",
       "      <th>platform</th>\n",
       "      <th>total_sales</th>\n",
       "    </tr>\n",
       "  </thead>\n",
       "  <tbody>\n",
       "    <tr>\n",
       "      <th>14</th>\n",
       "      <td>PS2</td>\n",
       "      <td>1233.56</td>\n",
       "    </tr>\n",
       "    <tr>\n",
       "      <th>26</th>\n",
       "      <td>X360</td>\n",
       "      <td>961.24</td>\n",
       "    </tr>\n",
       "    <tr>\n",
       "      <th>15</th>\n",
       "      <td>PS3</td>\n",
       "      <td>931.34</td>\n",
       "    </tr>\n",
       "    <tr>\n",
       "      <th>24</th>\n",
       "      <td>Wii</td>\n",
       "      <td>891.18</td>\n",
       "    </tr>\n",
       "    <tr>\n",
       "      <th>3</th>\n",
       "      <td>DS</td>\n",
       "      <td>802.76</td>\n",
       "    </tr>\n",
       "    <tr>\n",
       "      <th>13</th>\n",
       "      <td>PS</td>\n",
       "      <td>727.58</td>\n",
       "    </tr>\n",
       "    <tr>\n",
       "      <th>16</th>\n",
       "      <td>PS4</td>\n",
       "      <td>314.14</td>\n",
       "    </tr>\n",
       "    <tr>\n",
       "      <th>5</th>\n",
       "      <td>GBA</td>\n",
       "      <td>312.88</td>\n",
       "    </tr>\n",
       "    <tr>\n",
       "      <th>17</th>\n",
       "      <td>PSP</td>\n",
       "      <td>289.53</td>\n",
       "    </tr>\n",
       "    <tr>\n",
       "      <th>1</th>\n",
       "      <td>3DS</td>\n",
       "      <td>257.81</td>\n",
       "    </tr>\n",
       "    <tr>\n",
       "      <th>11</th>\n",
       "      <td>PC</td>\n",
       "      <td>252.66</td>\n",
       "    </tr>\n",
       "    <tr>\n",
       "      <th>27</th>\n",
       "      <td>XB</td>\n",
       "      <td>251.57</td>\n",
       "    </tr>\n",
       "    <tr>\n",
       "      <th>8</th>\n",
       "      <td>N64</td>\n",
       "      <td>218.01</td>\n",
       "    </tr>\n",
       "    <tr>\n",
       "      <th>6</th>\n",
       "      <td>GC</td>\n",
       "      <td>196.73</td>\n",
       "    </tr>\n",
       "    <tr>\n",
       "      <th>28</th>\n",
       "      <td>XOne</td>\n",
       "      <td>159.32</td>\n",
       "    </tr>\n",
       "    <tr>\n",
       "      <th>4</th>\n",
       "      <td>GB</td>\n",
       "      <td>152.08</td>\n",
       "    </tr>\n",
       "    <tr>\n",
       "      <th>21</th>\n",
       "      <td>SNES</td>\n",
       "      <td>84.67</td>\n",
       "    </tr>\n",
       "    <tr>\n",
       "      <th>25</th>\n",
       "      <td>WiiU</td>\n",
       "      <td>82.19</td>\n",
       "    </tr>\n",
       "    <tr>\n",
       "      <th>18</th>\n",
       "      <td>PSV</td>\n",
       "      <td>53.81</td>\n",
       "    </tr>\n",
       "    <tr>\n",
       "      <th>19</th>\n",
       "      <td>SAT</td>\n",
       "      <td>33.59</td>\n",
       "    </tr>\n",
       "  </tbody>\n",
       "</table>\n",
       "</div>"
      ],
      "text/plain": [
       "   platform  total_sales\n",
       "14      PS2      1233.56\n",
       "26     X360       961.24\n",
       "15      PS3       931.34\n",
       "24      Wii       891.18\n",
       "3        DS       802.76\n",
       "13       PS       727.58\n",
       "16      PS4       314.14\n",
       "5       GBA       312.88\n",
       "17      PSP       289.53\n",
       "1       3DS       257.81\n",
       "11       PC       252.66\n",
       "27       XB       251.57\n",
       "8       N64       218.01\n",
       "6        GC       196.73\n",
       "28     XOne       159.32\n",
       "4        GB       152.08\n",
       "21     SNES        84.67\n",
       "25     WiiU        82.19\n",
       "18      PSV        53.81\n",
       "19      SAT        33.59"
      ]
     },
     "execution_count": 27,
     "metadata": {},
     "output_type": "execute_result"
    }
   ],
   "source": [
    "#выведем 20 платформ с наибольшими суммарными продажами \n",
    "data.groupby('platform')['total_sales'].sum().reset_index().sort_values(by='total_sales', ascending=False).head(20)"
   ]
  },
  {
   "cell_type": "markdown",
   "id": "6220d7c4",
   "metadata": {},
   "source": [
    "Построим графики для 10 первых платформ с продажами по годам."
   ]
  },
  {
   "cell_type": "code",
   "execution_count": 28,
   "id": "5c7ce667",
   "metadata": {},
   "outputs": [
    {
     "data": {
      "image/png": "[encoded data removed]",
      "text/plain": [
       "<Figure size 864x432 with 1 Axes>"
      ]
     },
     "metadata": {
      "needs_background": "light"
     },
     "output_type": "display_data"
    }
   ],
   "source": [
    "#построим график для платформы PS2\n",
    "(data.query('platform == \"PS2\"')\\\n",
    "    .pivot_table(index='year_of_release', values='total_sales', aggfunc='sum').reset_index()\\\n",
    "    .plot(kind='bar', figsize=(12,6), x='year_of_release', y='total_sales').set_title('Продажи платформы PS2 по годам'))\n",
    "plt.xlabel('Годы выпуска')\n",
    "plt.ylabel('Продажи')\n",
    "plt.xticks(rotation=90)\n",
    "plt.show()"
   ]
  },
  {
   "cell_type": "code",
   "execution_count": 29,
   "id": "0a5ae874",
   "metadata": {},
   "outputs": [
    {
     "data": {
      "image/png": "[encoded data removed]",
      "text/plain": [
       "<Figure size 864x432 with 1 Axes>"
      ]
     },
     "metadata": {
      "needs_background": "light"
     },
     "output_type": "display_data"
    }
   ],
   "source": [
    "#построим график для платформы X360\n",
    "(data.query('platform == \"X360\"')\\\n",
    "    .pivot_table(index='year_of_release', values='total_sales', aggfunc='sum').reset_index()\\\n",
    "    .plot(kind='bar', figsize=(12,6), x='year_of_release', y='total_sales').set_title('Продажи платформы X360 по годам'))\n",
    "plt.xlabel('Годы выпуска')\n",
    "plt.ylabel('Продажи')\n",
    "plt.xticks(rotation=90)\n",
    "plt.show()"
   ]
  },
  {
   "cell_type": "code",
   "execution_count": 30,
   "id": "079e1a38",
   "metadata": {},
   "outputs": [
    {
     "data": {
      "image/png": "[encoded data removed]",
      "text/plain": [
       "<Figure size 864x432 with 1 Axes>"
      ]
     },
     "metadata": {
      "needs_background": "light"
     },
     "output_type": "display_data"
    }
   ],
   "source": [
    "#построим график для платформы PS3\n",
    "(data.query('platform == \"PS3\"')\\\n",
    "    .pivot_table(index='year_of_release', values='total_sales', aggfunc='sum').reset_index()\\\n",
    "    .plot(kind='bar', figsize=(12,6), x='year_of_release', y='total_sales').set_title('Продажи платформы PS3 по годам'))\n",
    "plt.xlabel('Годы выпуска')\n",
    "plt.ylabel('Продажи')\n",
    "plt.xticks(rotation=90)\n",
    "plt.show()"
   ]
  },
  {
   "cell_type": "code",
   "execution_count": 31,
   "id": "a154b966",
   "metadata": {},
   "outputs": [
    {
     "data": {
      "image/png": "[encoded data removed]",
      "text/plain": [
       "<Figure size 864x432 with 1 Axes>"
      ]
     },
     "metadata": {
      "needs_background": "light"
     },
     "output_type": "display_data"
    }
   ],
   "source": [
    "#построим график для платформы Wii\n",
    "(data.query('platform == \"Wii\"')\\\n",
    "    .pivot_table(index='year_of_release', values='total_sales', aggfunc='sum').reset_index()\\\n",
    "    .plot(kind='bar', figsize=(12,6), x='year_of_release', y='total_sales').set_title('Продажи платформы Wii по годам'))\n",
    "plt.xlabel('Годы выпуска')\n",
    "plt.ylabel('Продажи')\n",
    "plt.xticks(rotation=90)\n",
    "plt.show()"
   ]
  },
  {
   "cell_type": "code",
   "execution_count": 32,
   "id": "8eac7c41",
   "metadata": {},
   "outputs": [
    {
     "data": {
      "image/png": "[encoded data removed]",
      "text/plain": [
       "<Figure size 864x432 with 1 Axes>"
      ]
     },
     "metadata": {
      "needs_background": "light"
     },
     "output_type": "display_data"
    }
   ],
   "source": [
    "#построим график для платформы DS\n",
    "(data.query('platform == \"DS\"')\\\n",
    "    .pivot_table(index='year_of_release', values='total_sales', aggfunc='sum').reset_index()\\\n",
    "    .plot(kind='bar', figsize=(12,6), x='year_of_release', y='total_sales').set_title('Продажи платформы DS по годам'))\n",
    "plt.xlabel('Годы выпуска')\n",
    "plt.ylabel('Продажи')\n",
    "plt.xticks(rotation=90)\n",
    "plt.show()"
   ]
  },
  {
   "cell_type": "code",
   "execution_count": 33,
   "id": "733c70a5",
   "metadata": {},
   "outputs": [
    {
     "data": {
      "image/png": "[encoded data removed]",
      "text/plain": [
       "<Figure size 864x432 with 1 Axes>"
      ]
     },
     "metadata": {
      "needs_background": "light"
     },
     "output_type": "display_data"
    }
   ],
   "source": [
    "#построим график для платформы PS\n",
    "(data.query('platform == \"PS\"')\\\n",
    "    .pivot_table(index='year_of_release', values='total_sales', aggfunc='sum').reset_index()\\\n",
    "    .plot(kind='bar', figsize=(12,6), x='year_of_release', y='total_sales').set_title('Продажи платформы PS по годам'))\n",
    "plt.xlabel('Годы выпуска')\n",
    "plt.ylabel('Продажи')\n",
    "plt.xticks(rotation=90)\n",
    "plt.show()"
   ]
  },
  {
   "cell_type": "code",
   "execution_count": 34,
   "id": "f4660769",
   "metadata": {},
   "outputs": [
    {
     "data": {
      "image/png": "[encoded data removed]",
      "text/plain": [
       "<Figure size 864x432 with 1 Axes>"
      ]
     },
     "metadata": {
      "needs_background": "light"
     },
     "output_type": "display_data"
    }
   ],
   "source": [
    "#построим график для платформы PS4\n",
    "(data.query('platform == \"PS4\"')\\\n",
    "    .pivot_table(index='year_of_release', values='total_sales', aggfunc='sum').reset_index()\\\n",
    "    .plot(kind='bar', figsize=(12,6), x='year_of_release', y='total_sales').set_title('Продажи платформы PS4 по годам'))\n",
    "plt.xlabel('Годы выпуска')\n",
    "plt.ylabel('Продажи')\n",
    "plt.xticks(rotation=90)\n",
    "plt.show()"
   ]
  },
  {
   "cell_type": "code",
   "execution_count": 35,
   "id": "cf2de047",
   "metadata": {},
   "outputs": [
    {
     "data": {
      "image/png": "[encoded data removed]",
      "text/plain": [
       "<Figure size 864x432 with 1 Axes>"
      ]
     },
     "metadata": {
      "needs_background": "light"
     },
     "output_type": "display_data"
    }
   ],
   "source": [
    "#построим график для платформы GBA\n",
    "(data.query('platform == \"GBA\"')\\\n",
    "    .pivot_table(index='year_of_release', values='total_sales', aggfunc='sum').reset_index()\\\n",
    "    .plot(kind='bar', figsize=(12,6), x='year_of_release', y='total_sales').set_title('Продажи платформы GBA по годам'))\n",
    "plt.xlabel('Годы выпуска')\n",
    "plt.ylabel('Продажи')\n",
    "plt.xticks(rotation=90)\n",
    "plt.show()"
   ]
  },
  {
   "cell_type": "code",
   "execution_count": 36,
   "id": "e400809e",
   "metadata": {},
   "outputs": [
    {
     "data": {
      "image/png": "[encoded data removed]",
      "text/plain": [
       "<Figure size 864x432 with 1 Axes>"
      ]
     },
     "metadata": {
      "needs_background": "light"
     },
     "output_type": "display_data"
    }
   ],
   "source": [
    "#построим график для платформы PSP\n",
    "(data.query('platform == \"PSP\"')\\\n",
    "    .pivot_table(index='year_of_release', values='total_sales', aggfunc='sum').reset_index()\\\n",
    "    .plot(kind='bar', figsize=(12,6), x='year_of_release', y='total_sales').set_title('Продажи платформы PSP по годам'))\n",
    "plt.xlabel('Годы выпуска')\n",
    "plt.ylabel('Продажи')\n",
    "plt.xticks(rotation=90)\n",
    "plt.show()"
   ]
  },
  {
   "cell_type": "code",
   "execution_count": 37,
   "id": "3c10a175",
   "metadata": {},
   "outputs": [
    {
     "data": {
      "image/png": "[encoded data removed]",
      "text/plain": [
       "<Figure size 864x432 with 1 Axes>"
      ]
     },
     "metadata": {
      "needs_background": "light"
     },
     "output_type": "display_data"
    }
   ],
   "source": [
    "#построим график для платформы 3DS\n",
    "(data.query('platform == \"3DS\"')\\\n",
    "    .pivot_table(index='year_of_release', values='total_sales', aggfunc='sum').reset_index()\\\n",
    "    .plot(kind='bar', figsize=(12,6), x='year_of_release', y='total_sales').set_title('Продажи платформы 3DS по годам'))\n",
    "plt.xlabel('Годы выпуска')\n",
    "plt.ylabel('Продажи')\n",
    "plt.xticks(rotation=90)\n",
    "plt.show()"
   ]
  },
  {
   "cell_type": "markdown",
   "id": "9eae28b4",
   "metadata": {},
   "source": [
    "В данном пункте были выбраны платформы с наибольшими суммарными продажами и построены распределения продаж по годам. \n",
    "10 платформ с наибольшими суммарными продажами: `PS2`, `X360`, `PS3`, `Wii`, `DS`, `PS`, `PS4`, `GBA`, `PSP`, `3DS`.\n",
    "Средний срок жизни платформы - _10 лет_, для менее популярных платформ - _5-6 лет_. _PlayStation_ и _Nintendo_ обновляют свои платформы каждые 5-6 лет, таким образом, они выравнивают продажи при смене поколения платформы."
   ]
  },
  {
   "cell_type": "markdown",
   "id": "c03d55da",
   "metadata": {},
   "source": [
    "### Исследование данных, которые помогут построить прогноз на 2017 год"
   ]
  },
  {
   "cell_type": "markdown",
   "id": "c5e30fe9",
   "metadata": {},
   "source": [
    "Для прогноза 2017 года возьмем данные, начиная с 2013 года, когда вышли свежие платформы _PS4_ и _XOne_, так как, судя по среднему сроку жизни платформы, у них будет пик в ближайшие 1-2 года."
   ]
  },
  {
   "cell_type": "code",
   "execution_count": 38,
   "id": "ed07746a",
   "metadata": {},
   "outputs": [
    {
     "data": {
      "text/html": [
       "<div>\n",
       "<style scoped>\n",
       "    .dataframe tbody tr th:only-of-type {\n",
       "        vertical-align: middle;\n",
       "    }\n",
       "\n",
       "    .dataframe tbody tr th {\n",
       "        vertical-align: top;\n",
       "    }\n",
       "\n",
       "    .dataframe thead th {\n",
       "        text-align: right;\n",
       "    }\n",
       "</style>\n",
       "<table border=\"1\" class=\"dataframe\">\n",
       "  <thead>\n",
       "    <tr style=\"text-align: right;\">\n",
       "      <th></th>\n",
       "      <th>platform</th>\n",
       "      <th>total_sales</th>\n",
       "    </tr>\n",
       "  </thead>\n",
       "  <tbody>\n",
       "    <tr>\n",
       "      <th>4</th>\n",
       "      <td>PS4</td>\n",
       "      <td>314.14</td>\n",
       "    </tr>\n",
       "    <tr>\n",
       "      <th>3</th>\n",
       "      <td>PS3</td>\n",
       "      <td>181.43</td>\n",
       "    </tr>\n",
       "    <tr>\n",
       "      <th>10</th>\n",
       "      <td>XOne</td>\n",
       "      <td>159.32</td>\n",
       "    </tr>\n",
       "    <tr>\n",
       "      <th>0</th>\n",
       "      <td>3DS</td>\n",
       "      <td>143.25</td>\n",
       "    </tr>\n",
       "    <tr>\n",
       "      <th>9</th>\n",
       "      <td>X360</td>\n",
       "      <td>136.80</td>\n",
       "    </tr>\n",
       "    <tr>\n",
       "      <th>8</th>\n",
       "      <td>WiiU</td>\n",
       "      <td>64.63</td>\n",
       "    </tr>\n",
       "    <tr>\n",
       "      <th>2</th>\n",
       "      <td>PC</td>\n",
       "      <td>39.43</td>\n",
       "    </tr>\n",
       "    <tr>\n",
       "      <th>6</th>\n",
       "      <td>PSV</td>\n",
       "      <td>32.99</td>\n",
       "    </tr>\n",
       "    <tr>\n",
       "      <th>7</th>\n",
       "      <td>Wii</td>\n",
       "      <td>13.66</td>\n",
       "    </tr>\n",
       "    <tr>\n",
       "      <th>5</th>\n",
       "      <td>PSP</td>\n",
       "      <td>3.50</td>\n",
       "    </tr>\n",
       "    <tr>\n",
       "      <th>1</th>\n",
       "      <td>DS</td>\n",
       "      <td>1.54</td>\n",
       "    </tr>\n",
       "  </tbody>\n",
       "</table>\n",
       "</div>"
      ],
      "text/plain": [
       "   platform  total_sales\n",
       "4       PS4       314.14\n",
       "3       PS3       181.43\n",
       "10     XOne       159.32\n",
       "0       3DS       143.25\n",
       "9      X360       136.80\n",
       "8      WiiU        64.63\n",
       "2        PC        39.43\n",
       "6       PSV        32.99\n",
       "7       Wii        13.66\n",
       "5       PSP         3.50\n",
       "1        DS         1.54"
      ]
     },
     "execution_count": 38,
     "metadata": {},
     "output_type": "execute_result"
    }
   ],
   "source": [
    "#расчет суммы продаж по платформам, начиная с 2013 года\n",
    "data.query('year_of_release >= 2013').groupby('platform')['total_sales'].sum().reset_index()\\\n",
    ".sort_values(by='total_sales', ascending=False)"
   ]
  },
  {
   "cell_type": "markdown",
   "id": "435500b8",
   "metadata": {},
   "source": [
    "Для дальнейшего анализа выделим 5 платформ, у которых общие продажи более 100 млн экземпляров игр. Это `PS4`, `PS3`, `XOne`, `3DS`, `X360`."
   ]
  },
  {
   "cell_type": "markdown",
   "id": "02356f69",
   "metadata": {},
   "source": [
    "### Исследование платформ, лидирующих попродажам, растущих и падающих "
   ]
  },
  {
   "cell_type": "code",
   "execution_count": 39,
   "id": "1588b388",
   "metadata": {},
   "outputs": [
    {
     "data": {
      "image/png": "[encoded data removed]",
      "text/plain": [
       "<Figure size 1080x576 with 1 Axes>"
      ]
     },
     "metadata": {
      "needs_background": "light"
     },
     "output_type": "display_data"
    }
   ],
   "source": [
    "#построим линейные графики по каждой платформе по годам\n",
    "plt.figure(figsize=(15,8))\n",
    "data_pop_platform = data.query('platform == [\"PS4\", \"PS3\", \"XOne\", \"3DS\", \"X360\"] & year_of_release >=2013')\\\n",
    ".groupby(['platform','year_of_release'])['total_sales'].sum().reset_index()\n",
    "sns.lineplot(data=data_pop_platform, x='year_of_release', y='total_sales', hue='platform').set_title('5 популярных платформ 2013-2016')\n",
    "plt.xlabel('Годы выпуска')\n",
    "plt.ylabel('Продажи')\n",
    "plt.show()"
   ]
  },
  {
   "cell_type": "markdown",
   "id": "031a415b",
   "metadata": {},
   "source": [
    "Несомненным лидером по продажам является платформа `PS4`, показывает рост платформа `XOne`. У обеих платформ в 2016 году идет падение, это объясняется неполными данными за 2016 год. Падение показывают платформы `PS3` и `X360` (обе предшественницы нынешних лидеров `PS4` и `XOne`), а также `3DS`. "
   ]
  },
  {
   "cell_type": "markdown",
   "id": "ee60f5fc",
   "metadata": {},
   "source": [
    "### Построение графика «ящик с усами» по глобальным продажам игр в разбивке по платформам"
   ]
  },
  {
   "cell_type": "code",
   "execution_count": 40,
   "id": "9cad096a",
   "metadata": {},
   "outputs": [
    {
     "data": {
      "image/png": "[encoded data removed]",
      "text/plain": [
       "<Figure size 1080x576 with 1 Axes>"
      ]
     },
     "metadata": {
      "needs_background": "light"
     },
     "output_type": "display_data"
    }
   ],
   "source": [
    "#построим график «ящик с усами» по глобальным продажам игр в разбивке по 5 платформам\n",
    "plt.figure(figsize=(15,8))\n",
    "sns.boxplot(data=data_pop_platform, x='platform', y='total_sales').set_title('5 популярных платформ 2013-2016')\n",
    "plt.xlabel('Платформа')\n",
    "plt.ylabel('Продажи')\n",
    "plt.show()"
   ]
  },
  {
   "cell_type": "markdown",
   "id": "1814d4ec",
   "metadata": {},
   "source": [
    "Данный график также иллюстрирует лидерские позиции платформы `PS4`. Ее медиана суммарных продаж в 2 раза больше остальных платформ.  "
   ]
  },
  {
   "cell_type": "markdown",
   "id": "3879fe03",
   "metadata": {},
   "source": [
    "### Исследование влияния на продажи внутри одной популярной платформы отзывов пользователей и критиков"
   ]
  },
  {
   "cell_type": "code",
   "execution_count": 41,
   "id": "38737b24",
   "metadata": {},
   "outputs": [],
   "source": [
    "#выделим данные по платформе PS4\n",
    "ps4 = data.query('platform == \"PS4\" & year_of_release >=2013')"
   ]
  },
  {
   "cell_type": "code",
   "execution_count": 42,
   "id": "ed3cd496",
   "metadata": {},
   "outputs": [
    {
     "data": {
      "text/html": [
       "<div>\n",
       "<style scoped>\n",
       "    .dataframe tbody tr th:only-of-type {\n",
       "        vertical-align: middle;\n",
       "    }\n",
       "\n",
       "    .dataframe tbody tr th {\n",
       "        vertical-align: top;\n",
       "    }\n",
       "\n",
       "    .dataframe thead th {\n",
       "        text-align: right;\n",
       "    }\n",
       "</style>\n",
       "<table border=\"1\" class=\"dataframe\">\n",
       "  <thead>\n",
       "    <tr style=\"text-align: right;\">\n",
       "      <th></th>\n",
       "      <th>total_sales</th>\n",
       "      <th>critic_score</th>\n",
       "      <th>user_score</th>\n",
       "    </tr>\n",
       "  </thead>\n",
       "  <tbody>\n",
       "    <tr>\n",
       "      <th>total_sales</th>\n",
       "      <td>1.000000</td>\n",
       "      <td>0.406568</td>\n",
       "      <td>-0.031957</td>\n",
       "    </tr>\n",
       "    <tr>\n",
       "      <th>critic_score</th>\n",
       "      <td>0.406568</td>\n",
       "      <td>1.000000</td>\n",
       "      <td>0.557654</td>\n",
       "    </tr>\n",
       "    <tr>\n",
       "      <th>user_score</th>\n",
       "      <td>-0.031957</td>\n",
       "      <td>0.557654</td>\n",
       "      <td>1.000000</td>\n",
       "    </tr>\n",
       "  </tbody>\n",
       "</table>\n",
       "</div>"
      ],
      "text/plain": [
       "              total_sales  critic_score  user_score\n",
       "total_sales      1.000000      0.406568   -0.031957\n",
       "critic_score     0.406568      1.000000    0.557654\n",
       "user_score      -0.031957      0.557654    1.000000"
      ]
     },
     "execution_count": 42,
     "metadata": {},
     "output_type": "execute_result"
    }
   ],
   "source": [
    "#посмотрим корреляцию продаж и отзывов пользователей и критиков\n",
    "ps4[['total_sales', 'critic_score', 'user_score']].corr()"
   ]
  },
  {
   "cell_type": "code",
   "execution_count": 43,
   "id": "e46116eb",
   "metadata": {},
   "outputs": [
    {
     "data": {
      "image/png": "[encoded data removed]",
      "text/plain": [
       "<Figure size 720x360 with 1 Axes>"
      ]
     },
     "metadata": {
      "needs_background": "light"
     },
     "output_type": "display_data"
    }
   ],
   "source": [
    "#построим диаграмму рассеяния для суммарных продаж и оценки критиков платформы PS4\n",
    "ps4.plot(kind='scatter', x='critic_score', y='total_sales', alpha=0.5, figsize=(10,5))\\\n",
    ".set_title('Корреляция продаж и оценки критиков платформы PS4')\n",
    "plt.xlabel('Оценка критиков')\n",
    "plt.ylabel('Продажи')\n",
    "plt.show()"
   ]
  },
  {
   "cell_type": "code",
   "execution_count": 44,
   "id": "8a3d95ce",
   "metadata": {},
   "outputs": [
    {
     "data": {
      "image/png": "[encoded data removed]",
      "text/plain": [
       "<Figure size 720x360 with 1 Axes>"
      ]
     },
     "metadata": {
      "needs_background": "light"
     },
     "output_type": "display_data"
    }
   ],
   "source": [
    "#построим диаграмму рассеяния для суммарных продаж и оценки пользователей платформы PS4\n",
    "ps4.plot.scatter(x='user_score', y='total_sales', alpha=0.5, figsize=(10,5))\\\n",
    ".set_title('Корреляция продаж и оценки пользователей платформы PS4')\n",
    "plt.xlabel('Оценка пользователей')\n",
    "plt.ylabel('Продажи')\n",
    "plt.show()"
   ]
  },
  {
   "cell_type": "markdown",
   "id": "f6afae72",
   "metadata": {},
   "source": [
    "Зависимость между _продажами и оценкой критиков_ для платформы `PS4` составляет примерно **0.41**, что является _умеренной_ положительной зависимостью. Зависимость между _продажами и оценкой пользователей_ для платформы `PS4` составляет примерно **-0.032**, что является _отсутствием_ зависимости. Можно сделать вывод, что для увеличения продаж надо обратить внимание, на игры, высоко оцененные критиками."
   ]
  },
  {
   "cell_type": "markdown",
   "id": "3902e0ea",
   "metadata": {},
   "source": [
    "### Cоотнесение выводов с продажами игр на других платформах"
   ]
  },
  {
   "cell_type": "code",
   "execution_count": 45,
   "id": "05dfad07",
   "metadata": {},
   "outputs": [
    {
     "data": {
      "text/html": [
       "<div>\n",
       "<style scoped>\n",
       "    .dataframe tbody tr th:only-of-type {\n",
       "        vertical-align: middle;\n",
       "    }\n",
       "\n",
       "    .dataframe tbody tr th {\n",
       "        vertical-align: top;\n",
       "    }\n",
       "\n",
       "    .dataframe thead th {\n",
       "        text-align: right;\n",
       "    }\n",
       "</style>\n",
       "<table border=\"1\" class=\"dataframe\">\n",
       "  <thead>\n",
       "    <tr style=\"text-align: right;\">\n",
       "      <th></th>\n",
       "      <th>total_sales</th>\n",
       "      <th>critic_score</th>\n",
       "      <th>user_score</th>\n",
       "    </tr>\n",
       "  </thead>\n",
       "  <tbody>\n",
       "    <tr>\n",
       "      <th>total_sales</th>\n",
       "      <td>1.000000</td>\n",
       "      <td>0.334285</td>\n",
       "      <td>0.002394</td>\n",
       "    </tr>\n",
       "    <tr>\n",
       "      <th>critic_score</th>\n",
       "      <td>0.334285</td>\n",
       "      <td>1.000000</td>\n",
       "      <td>0.599920</td>\n",
       "    </tr>\n",
       "    <tr>\n",
       "      <th>user_score</th>\n",
       "      <td>0.002394</td>\n",
       "      <td>0.599920</td>\n",
       "      <td>1.000000</td>\n",
       "    </tr>\n",
       "  </tbody>\n",
       "</table>\n",
       "</div>"
      ],
      "text/plain": [
       "              total_sales  critic_score  user_score\n",
       "total_sales      1.000000      0.334285    0.002394\n",
       "critic_score     0.334285      1.000000    0.599920\n",
       "user_score       0.002394      0.599920    1.000000"
      ]
     },
     "execution_count": 45,
     "metadata": {},
     "output_type": "execute_result"
    }
   ],
   "source": [
    "#выделим данные по платформе PS3\n",
    "ps3 = data.query('platform == \"PS3\" & year_of_release >=2013')\n",
    "#посмотрим корреляцию продаж и отзывов пользователей и критиков\n",
    "ps3[['total_sales', 'critic_score', 'user_score']].corr()"
   ]
  },
  {
   "cell_type": "code",
   "execution_count": 46,
   "id": "13c260f8",
   "metadata": {},
   "outputs": [
    {
     "data": {
      "text/html": [
       "<div>\n",
       "<style scoped>\n",
       "    .dataframe tbody tr th:only-of-type {\n",
       "        vertical-align: middle;\n",
       "    }\n",
       "\n",
       "    .dataframe tbody tr th {\n",
       "        vertical-align: top;\n",
       "    }\n",
       "\n",
       "    .dataframe thead th {\n",
       "        text-align: right;\n",
       "    }\n",
       "</style>\n",
       "<table border=\"1\" class=\"dataframe\">\n",
       "  <thead>\n",
       "    <tr style=\"text-align: right;\">\n",
       "      <th></th>\n",
       "      <th>total_sales</th>\n",
       "      <th>critic_score</th>\n",
       "      <th>user_score</th>\n",
       "    </tr>\n",
       "  </thead>\n",
       "  <tbody>\n",
       "    <tr>\n",
       "      <th>total_sales</th>\n",
       "      <td>1.000000</td>\n",
       "      <td>0.357057</td>\n",
       "      <td>0.241504</td>\n",
       "    </tr>\n",
       "    <tr>\n",
       "      <th>critic_score</th>\n",
       "      <td>0.357057</td>\n",
       "      <td>1.000000</td>\n",
       "      <td>0.769536</td>\n",
       "    </tr>\n",
       "    <tr>\n",
       "      <th>user_score</th>\n",
       "      <td>0.241504</td>\n",
       "      <td>0.769536</td>\n",
       "      <td>1.000000</td>\n",
       "    </tr>\n",
       "  </tbody>\n",
       "</table>\n",
       "</div>"
      ],
      "text/plain": [
       "              total_sales  critic_score  user_score\n",
       "total_sales      1.000000      0.357057    0.241504\n",
       "critic_score     0.357057      1.000000    0.769536\n",
       "user_score       0.241504      0.769536    1.000000"
      ]
     },
     "execution_count": 46,
     "metadata": {},
     "output_type": "execute_result"
    }
   ],
   "source": [
    "#выделим данные по платформе 3DS\n",
    "ds3 = data.query('platform == \"3DS\" & year_of_release >=2013')\n",
    "#посмотрим корреляцию продаж и отзывов пользователей и критиков\n",
    "ds3[['total_sales', 'critic_score', 'user_score']].corr()"
   ]
  },
  {
   "cell_type": "code",
   "execution_count": 47,
   "id": "8a3d2ab5",
   "metadata": {},
   "outputs": [
    {
     "data": {
      "text/html": [
       "<div>\n",
       "<style scoped>\n",
       "    .dataframe tbody tr th:only-of-type {\n",
       "        vertical-align: middle;\n",
       "    }\n",
       "\n",
       "    .dataframe tbody tr th {\n",
       "        vertical-align: top;\n",
       "    }\n",
       "\n",
       "    .dataframe thead th {\n",
       "        text-align: right;\n",
       "    }\n",
       "</style>\n",
       "<table border=\"1\" class=\"dataframe\">\n",
       "  <thead>\n",
       "    <tr style=\"text-align: right;\">\n",
       "      <th></th>\n",
       "      <th>total_sales</th>\n",
       "      <th>critic_score</th>\n",
       "      <th>user_score</th>\n",
       "    </tr>\n",
       "  </thead>\n",
       "  <tbody>\n",
       "    <tr>\n",
       "      <th>total_sales</th>\n",
       "      <td>1.000000</td>\n",
       "      <td>0.350345</td>\n",
       "      <td>-0.011742</td>\n",
       "    </tr>\n",
       "    <tr>\n",
       "      <th>critic_score</th>\n",
       "      <td>0.350345</td>\n",
       "      <td>1.000000</td>\n",
       "      <td>0.520946</td>\n",
       "    </tr>\n",
       "    <tr>\n",
       "      <th>user_score</th>\n",
       "      <td>-0.011742</td>\n",
       "      <td>0.520946</td>\n",
       "      <td>1.000000</td>\n",
       "    </tr>\n",
       "  </tbody>\n",
       "</table>\n",
       "</div>"
      ],
      "text/plain": [
       "              total_sales  critic_score  user_score\n",
       "total_sales      1.000000      0.350345   -0.011742\n",
       "critic_score     0.350345      1.000000    0.520946\n",
       "user_score      -0.011742      0.520946    1.000000"
      ]
     },
     "execution_count": 47,
     "metadata": {},
     "output_type": "execute_result"
    }
   ],
   "source": [
    "#выделим данные по платформе X360\n",
    "x360 = data.query('platform == \"X360\" & year_of_release >=2013')\n",
    "#посмотрим корреляцию продаж и отзывов пользователей и критиков\n",
    "x360[['total_sales', 'critic_score', 'user_score']].corr()"
   ]
  },
  {
   "cell_type": "code",
   "execution_count": 48,
   "id": "3d80ed18",
   "metadata": {},
   "outputs": [
    {
     "data": {
      "text/html": [
       "<div>\n",
       "<style scoped>\n",
       "    .dataframe tbody tr th:only-of-type {\n",
       "        vertical-align: middle;\n",
       "    }\n",
       "\n",
       "    .dataframe tbody tr th {\n",
       "        vertical-align: top;\n",
       "    }\n",
       "\n",
       "    .dataframe thead th {\n",
       "        text-align: right;\n",
       "    }\n",
       "</style>\n",
       "<table border=\"1\" class=\"dataframe\">\n",
       "  <thead>\n",
       "    <tr style=\"text-align: right;\">\n",
       "      <th></th>\n",
       "      <th>total_sales</th>\n",
       "      <th>critic_score</th>\n",
       "      <th>user_score</th>\n",
       "    </tr>\n",
       "  </thead>\n",
       "  <tbody>\n",
       "    <tr>\n",
       "      <th>total_sales</th>\n",
       "      <td>1.000000</td>\n",
       "      <td>0.416998</td>\n",
       "      <td>-0.068925</td>\n",
       "    </tr>\n",
       "    <tr>\n",
       "      <th>critic_score</th>\n",
       "      <td>0.416998</td>\n",
       "      <td>1.000000</td>\n",
       "      <td>0.472462</td>\n",
       "    </tr>\n",
       "    <tr>\n",
       "      <th>user_score</th>\n",
       "      <td>-0.068925</td>\n",
       "      <td>0.472462</td>\n",
       "      <td>1.000000</td>\n",
       "    </tr>\n",
       "  </tbody>\n",
       "</table>\n",
       "</div>"
      ],
      "text/plain": [
       "              total_sales  critic_score  user_score\n",
       "total_sales      1.000000      0.416998   -0.068925\n",
       "critic_score     0.416998      1.000000    0.472462\n",
       "user_score      -0.068925      0.472462    1.000000"
      ]
     },
     "execution_count": 48,
     "metadata": {},
     "output_type": "execute_result"
    }
   ],
   "source": [
    "#выделим данные по платформе XOne\n",
    "x1 = data.query('platform == \"XOne\" & year_of_release >=2013')\n",
    "#посмотрим корреляцию продаж и отзывов пользователей и критиков\n",
    "x1[['total_sales', 'critic_score', 'user_score']].corr()"
   ]
  },
  {
   "cell_type": "markdown",
   "id": "ba7508ce",
   "metadata": {},
   "source": [
    "Данные по другим платформам подтвердили вывод в предыдущем пункте. \n",
    "\n",
    "Зависимость между _продажами и оценкой критиков_ для платформ:\n",
    "- `PS3` составляет примерно **0.33**, \n",
    "\n",
    "- `3DS` составляет примерно **0.36**,\n",
    "\n",
    "- `X360` составляет примерно **0.35**,\n",
    "\n",
    "- `XOne` составляет примерно **0.42**,\n",
    "\n",
    "что является _умеренной_ положительной зависимостью. \n",
    "\n",
    "Зависимость между _продажами и оценкой пользователей_ для платформ:\n",
    "- `PS3` составляет примерно **0.002**, \n",
    "\n",
    "- `3DS` составляет примерно **0.24**,\n",
    "\n",
    "- `X360` составляет примерно **-0.01**,\n",
    "\n",
    "- `XOne` составляет примерно **-0.07**,\n",
    "\n",
    "что является _слабой_ зависимостью или _отсутствием_ зависимости. \n",
    "\n",
    "Можно сделать вывод, что для увеличения продаж надо обратить внимание, на игры, высоко оцененные критиками. А также можно заметить, что на самых недавних платформах зависимость между _продажами и оценкой пользователей_ приблизилась к 0."
   ]
  },
  {
   "cell_type": "markdown",
   "id": "abddd6e9",
   "metadata": {},
   "source": [
    "### Исследование общего распределения игр по жанрам"
   ]
  },
  {
   "cell_type": "code",
   "execution_count": 49,
   "id": "e5a957d2",
   "metadata": {},
   "outputs": [
    {
     "data": {
      "text/html": [
       "<div>\n",
       "<style scoped>\n",
       "    .dataframe tbody tr th:only-of-type {\n",
       "        vertical-align: middle;\n",
       "    }\n",
       "\n",
       "    .dataframe tbody tr th {\n",
       "        vertical-align: top;\n",
       "    }\n",
       "\n",
       "    .dataframe thead th {\n",
       "        text-align: right;\n",
       "    }\n",
       "</style>\n",
       "<table border=\"1\" class=\"dataframe\">\n",
       "  <thead>\n",
       "    <tr style=\"text-align: right;\">\n",
       "      <th></th>\n",
       "      <th>genre</th>\n",
       "      <th>genres_grouped</th>\n",
       "      <th>genres_sales</th>\n",
       "    </tr>\n",
       "  </thead>\n",
       "  <tbody>\n",
       "    <tr>\n",
       "      <th>0</th>\n",
       "      <td>Action</td>\n",
       "      <td>766</td>\n",
       "      <td>321.87</td>\n",
       "    </tr>\n",
       "    <tr>\n",
       "      <th>1</th>\n",
       "      <td>Adventure</td>\n",
       "      <td>245</td>\n",
       "      <td>23.64</td>\n",
       "    </tr>\n",
       "    <tr>\n",
       "      <th>2</th>\n",
       "      <td>Fighting</td>\n",
       "      <td>80</td>\n",
       "      <td>35.31</td>\n",
       "    </tr>\n",
       "    <tr>\n",
       "      <th>3</th>\n",
       "      <td>Misc</td>\n",
       "      <td>155</td>\n",
       "      <td>62.82</td>\n",
       "    </tr>\n",
       "    <tr>\n",
       "      <th>4</th>\n",
       "      <td>Platform</td>\n",
       "      <td>74</td>\n",
       "      <td>42.63</td>\n",
       "    </tr>\n",
       "    <tr>\n",
       "      <th>5</th>\n",
       "      <td>Puzzle</td>\n",
       "      <td>17</td>\n",
       "      <td>3.17</td>\n",
       "    </tr>\n",
       "    <tr>\n",
       "      <th>6</th>\n",
       "      <td>Racing</td>\n",
       "      <td>85</td>\n",
       "      <td>39.89</td>\n",
       "    </tr>\n",
       "    <tr>\n",
       "      <th>7</th>\n",
       "      <td>Role-Playing</td>\n",
       "      <td>292</td>\n",
       "      <td>145.89</td>\n",
       "    </tr>\n",
       "    <tr>\n",
       "      <th>8</th>\n",
       "      <td>Shooter</td>\n",
       "      <td>187</td>\n",
       "      <td>232.98</td>\n",
       "    </tr>\n",
       "    <tr>\n",
       "      <th>9</th>\n",
       "      <td>Simulation</td>\n",
       "      <td>62</td>\n",
       "      <td>21.76</td>\n",
       "    </tr>\n",
       "    <tr>\n",
       "      <th>10</th>\n",
       "      <td>Sports</td>\n",
       "      <td>214</td>\n",
       "      <td>150.65</td>\n",
       "    </tr>\n",
       "    <tr>\n",
       "      <th>11</th>\n",
       "      <td>Strategy</td>\n",
       "      <td>56</td>\n",
       "      <td>10.08</td>\n",
       "    </tr>\n",
       "  </tbody>\n",
       "</table>\n",
       "</div>"
      ],
      "text/plain": [
       "           genre  genres_grouped  genres_sales\n",
       "0         Action             766        321.87\n",
       "1      Adventure             245         23.64\n",
       "2       Fighting              80         35.31\n",
       "3           Misc             155         62.82\n",
       "4       Platform              74         42.63\n",
       "5         Puzzle              17          3.17\n",
       "6         Racing              85         39.89\n",
       "7   Role-Playing             292        145.89\n",
       "8        Shooter             187        232.98\n",
       "9     Simulation              62         21.76\n",
       "10        Sports             214        150.65\n",
       "11      Strategy              56         10.08"
      ]
     },
     "execution_count": 49,
     "metadata": {},
     "output_type": "execute_result"
    }
   ],
   "source": [
    "#посчитаем количество игр по жанрам и их продажи\n",
    "games_genre = data.query('year_of_release >=2013').groupby('genre').agg(genres_grouped=('name', 'count'), \\\n",
    "                                                                        genres_sales=('total_sales', 'sum')).reset_index()\n",
    "games_genre"
   ]
  },
  {
   "cell_type": "code",
   "execution_count": 50,
   "id": "8f2dab75",
   "metadata": {},
   "outputs": [
    {
     "data": {
      "image/png": "[encoded data removed]",
      "text/plain": [
       "<Figure size 720x432 with 1 Axes>"
      ]
     },
     "metadata": {
      "needs_background": "light"
     },
     "output_type": "display_data"
    }
   ],
   "source": [
    "#построим гистограмму по количеству продаж игр в 2013-2016\n",
    "games_genre = games_genre.sort_values(by='genres_sales', ascending=False)\n",
    "plt.figure(figsize=(10,6))\n",
    "sns.barplot(x=games_genre['genre'], y=games_genre['genres_sales'])\\\n",
    "    .set_title('Сумма продаж по жанрам 2013-2016')\n",
    "plt.xlabel('Жанры')\n",
    "plt.ylabel('Продажи игр по жанрам')\n",
    "plt.xticks(rotation=45)\n",
    "plt.show()"
   ]
  },
  {
   "cell_type": "code",
   "execution_count": 51,
   "id": "bb2fe633",
   "metadata": {},
   "outputs": [
    {
     "data": {
      "image/png": "[encoded data removed]",
      "text/plain": [
       "<Figure size 720x432 with 1 Axes>"
      ]
     },
     "metadata": {
      "needs_background": "light"
     },
     "output_type": "display_data"
    }
   ],
   "source": [
    "#построим гистограмму по количеству выпускаемых игр в 2013-2016\n",
    "games_genre = games_genre.sort_values(by='genres_grouped', ascending=False)\n",
    "plt.figure(figsize=(10,6))\n",
    "sns.barplot(x=games_genre['genre'], y=games_genre['genres_grouped'])\\\n",
    "    .set_title('Количество проданных игр по жанрам 2013-2016')\n",
    "plt.xlabel('Жанры')\n",
    "plt.ylabel('Количество игр по жанрам')\n",
    "plt.xticks(rotation=45)\n",
    "plt.show()"
   ]
  },
  {
   "cell_type": "markdown",
   "id": "7bef2388",
   "metadata": {},
   "source": [
    "**Самый прибыльный** жанр _Action_, он лидирует и по сумме проданных копий, и по количеству игр этого жанра. Далее по прибыльноси идут жанры _Shooter_ и _Sports_. **Наименее прибыльные** жанры: _Puzzle_, _Strategy_, _Simulation_. Их меньше вмего и по количесвтву игр жанра. Покупатели предпочитают активные и командные игры, чем спокойные, с медленноразвивающимся сюжетом."
   ]
  },
  {
   "cell_type": "markdown",
   "id": "55dee5e8",
   "metadata": {},
   "source": [
    "## Составление портрета пользователя каждого региона (NA, EU, JP)"
   ]
  },
  {
   "cell_type": "markdown",
   "id": "cfda08c2",
   "metadata": {},
   "source": [
    "### Определение самых популярных платформ (топ-5)"
   ]
  },
  {
   "cell_type": "code",
   "execution_count": 52,
   "id": "23572d10",
   "metadata": {},
   "outputs": [
    {
     "data": {
      "text/html": [
       "<div>\n",
       "<style scoped>\n",
       "    .dataframe tbody tr th:only-of-type {\n",
       "        vertical-align: middle;\n",
       "    }\n",
       "\n",
       "    .dataframe tbody tr th {\n",
       "        vertical-align: top;\n",
       "    }\n",
       "\n",
       "    .dataframe thead th {\n",
       "        text-align: right;\n",
       "    }\n",
       "</style>\n",
       "<table border=\"1\" class=\"dataframe\">\n",
       "  <thead>\n",
       "    <tr style=\"text-align: right;\">\n",
       "      <th></th>\n",
       "      <th>platform</th>\n",
       "      <th>na_sales</th>\n",
       "    </tr>\n",
       "  </thead>\n",
       "  <tbody>\n",
       "    <tr>\n",
       "      <th>4</th>\n",
       "      <td>PS4</td>\n",
       "      <td>108.74</td>\n",
       "    </tr>\n",
       "    <tr>\n",
       "      <th>10</th>\n",
       "      <td>XOne</td>\n",
       "      <td>93.12</td>\n",
       "    </tr>\n",
       "    <tr>\n",
       "      <th>9</th>\n",
       "      <td>X360</td>\n",
       "      <td>81.66</td>\n",
       "    </tr>\n",
       "    <tr>\n",
       "      <th>3</th>\n",
       "      <td>PS3</td>\n",
       "      <td>63.50</td>\n",
       "    </tr>\n",
       "    <tr>\n",
       "      <th>0</th>\n",
       "      <td>3DS</td>\n",
       "      <td>38.20</td>\n",
       "    </tr>\n",
       "  </tbody>\n",
       "</table>\n",
       "</div>"
      ],
      "text/plain": [
       "   platform  na_sales\n",
       "4       PS4    108.74\n",
       "10     XOne     93.12\n",
       "9      X360     81.66\n",
       "3       PS3     63.50\n",
       "0       3DS     38.20"
      ]
     },
     "execution_count": 52,
     "metadata": {},
     "output_type": "execute_result"
    }
   ],
   "source": [
    "#посмотрим топ-5 самых популярных платформ для Северной Америки\n",
    "platform_na = data.query('year_of_release >=2013').groupby('platform')['na_sales'].agg('sum')\\\n",
    "                    .reset_index().sort_values(by='na_sales', ascending=False).head()\n",
    "platform_na"
   ]
  },
  {
   "cell_type": "code",
   "execution_count": 53,
   "id": "b3fa8ee2",
   "metadata": {},
   "outputs": [
    {
     "data": {
      "image/png": "[encoded data removed]",
      "text/plain": [
       "<Figure size 504x504 with 1 Axes>"
      ]
     },
     "metadata": {},
     "output_type": "display_data"
    }
   ],
   "source": [
    "#построим круговую диаграмму топ-5 самых популярных платформ для Северной Америки\n",
    "platform_na.plot(kind='pie', y='na_sales', labels=platform_na['platform'], \\\n",
    "                 title='Топ-5 самых популярных платформ для Северной Америки', figsize=(7,7))\n",
    "plt.show()"
   ]
  },
  {
   "cell_type": "code",
   "execution_count": 54,
   "id": "397ea690",
   "metadata": {},
   "outputs": [
    {
     "data": {
      "text/html": [
       "<div>\n",
       "<style scoped>\n",
       "    .dataframe tbody tr th:only-of-type {\n",
       "        vertical-align: middle;\n",
       "    }\n",
       "\n",
       "    .dataframe tbody tr th {\n",
       "        vertical-align: top;\n",
       "    }\n",
       "\n",
       "    .dataframe thead th {\n",
       "        text-align: right;\n",
       "    }\n",
       "</style>\n",
       "<table border=\"1\" class=\"dataframe\">\n",
       "  <thead>\n",
       "    <tr style=\"text-align: right;\">\n",
       "      <th></th>\n",
       "      <th>platform</th>\n",
       "      <th>eu_sales</th>\n",
       "    </tr>\n",
       "  </thead>\n",
       "  <tbody>\n",
       "    <tr>\n",
       "      <th>4</th>\n",
       "      <td>PS4</td>\n",
       "      <td>141.09</td>\n",
       "    </tr>\n",
       "    <tr>\n",
       "      <th>3</th>\n",
       "      <td>PS3</td>\n",
       "      <td>67.81</td>\n",
       "    </tr>\n",
       "    <tr>\n",
       "      <th>10</th>\n",
       "      <td>XOne</td>\n",
       "      <td>51.59</td>\n",
       "    </tr>\n",
       "    <tr>\n",
       "      <th>9</th>\n",
       "      <td>X360</td>\n",
       "      <td>42.52</td>\n",
       "    </tr>\n",
       "    <tr>\n",
       "      <th>0</th>\n",
       "      <td>3DS</td>\n",
       "      <td>30.96</td>\n",
       "    </tr>\n",
       "  </tbody>\n",
       "</table>\n",
       "</div>"
      ],
      "text/plain": [
       "   platform  eu_sales\n",
       "4       PS4    141.09\n",
       "3       PS3     67.81\n",
       "10     XOne     51.59\n",
       "9      X360     42.52\n",
       "0       3DS     30.96"
      ]
     },
     "execution_count": 54,
     "metadata": {},
     "output_type": "execute_result"
    }
   ],
   "source": [
    "#посмотрим топ-5 самых популярных платформ для Европы\n",
    "platform_eu = data.query('year_of_release >=2013').groupby('platform')['eu_sales'].agg('sum')\\\n",
    "                    .reset_index().sort_values(by='eu_sales', ascending=False).head()\n",
    "platform_eu"
   ]
  },
  {
   "cell_type": "code",
   "execution_count": 55,
   "id": "8b1f1e3b",
   "metadata": {},
   "outputs": [
    {
     "data": {
      "image/png": "[encoded data removed]",
      "text/plain": [
       "<Figure size 504x504 with 1 Axes>"
      ]
     },
     "metadata": {},
     "output_type": "display_data"
    }
   ],
   "source": [
    "#построим круговую диаграмму топ-5 самых популярных платформ для Европы\n",
    "platform_eu.plot(kind='pie', y='eu_sales', labels=platform_eu['platform'], \\\n",
    "                 title='Топ-5 самых популярных платформ для Европы', figsize=(7,7))\n",
    "plt.show()"
   ]
  },
  {
   "cell_type": "code",
   "execution_count": 56,
   "id": "3c8697bf",
   "metadata": {},
   "outputs": [
    {
     "data": {
      "text/html": [
       "<div>\n",
       "<style scoped>\n",
       "    .dataframe tbody tr th:only-of-type {\n",
       "        vertical-align: middle;\n",
       "    }\n",
       "\n",
       "    .dataframe tbody tr th {\n",
       "        vertical-align: top;\n",
       "    }\n",
       "\n",
       "    .dataframe thead th {\n",
       "        text-align: right;\n",
       "    }\n",
       "</style>\n",
       "<table border=\"1\" class=\"dataframe\">\n",
       "  <thead>\n",
       "    <tr style=\"text-align: right;\">\n",
       "      <th></th>\n",
       "      <th>platform</th>\n",
       "      <th>jp_sales</th>\n",
       "    </tr>\n",
       "  </thead>\n",
       "  <tbody>\n",
       "    <tr>\n",
       "      <th>0</th>\n",
       "      <td>3DS</td>\n",
       "      <td>67.81</td>\n",
       "    </tr>\n",
       "    <tr>\n",
       "      <th>3</th>\n",
       "      <td>PS3</td>\n",
       "      <td>23.35</td>\n",
       "    </tr>\n",
       "    <tr>\n",
       "      <th>6</th>\n",
       "      <td>PSV</td>\n",
       "      <td>18.59</td>\n",
       "    </tr>\n",
       "    <tr>\n",
       "      <th>4</th>\n",
       "      <td>PS4</td>\n",
       "      <td>15.96</td>\n",
       "    </tr>\n",
       "    <tr>\n",
       "      <th>8</th>\n",
       "      <td>WiiU</td>\n",
       "      <td>10.88</td>\n",
       "    </tr>\n",
       "  </tbody>\n",
       "</table>\n",
       "</div>"
      ],
      "text/plain": [
       "  platform  jp_sales\n",
       "0      3DS     67.81\n",
       "3      PS3     23.35\n",
       "6      PSV     18.59\n",
       "4      PS4     15.96\n",
       "8     WiiU     10.88"
      ]
     },
     "execution_count": 56,
     "metadata": {},
     "output_type": "execute_result"
    }
   ],
   "source": [
    "#посмотрим топ-5 самых популярных платформ для Японии\n",
    "platform_jp = data.query('year_of_release >=2013').groupby('platform')['jp_sales'].agg('sum').reset_index()\\\n",
    "                    .sort_values(by='jp_sales', ascending=False).head()\n",
    "platform_jp"
   ]
  },
  {
   "cell_type": "code",
   "execution_count": 57,
   "id": "13f21646",
   "metadata": {},
   "outputs": [
    {
     "data": {
      "image/png": "[encoded data removed]",
      "text/plain": [
       "<Figure size 504x504 with 1 Axes>"
      ]
     },
     "metadata": {},
     "output_type": "display_data"
    }
   ],
   "source": [
    "#построим круговую диаграмму топ-5 самых популярных платформ для Японии\n",
    "platform_jp.plot(kind='pie', y='jp_sales', labels=platform_jp['platform'], \\\n",
    "                 title='Топ-5 самых популярных платформ для Японии', figsize=(7,7))\n",
    "plt.show()"
   ]
  },
  {
   "cell_type": "markdown",
   "id": "8691edf3",
   "metadata": {},
   "source": [
    "Топ-5 популярных платформ **совпадает** у Северной Америки и Европы. \n",
    "На 1 месте в обоих регионах стоит `PS4`, на 5 месте стоит `3DS`, а 2, 3 и 4 делятся так `XOne`, `X360` и `PS3` у Америки и `PS3`, `XOne`, `X360` у Европы.\n",
    "\n",
    "Американская платформа `X360` и `XOne` от Xbox в Японии просто **отсутствует**.\n",
    "\n",
    "В Японии все платформы от японских производителей, идут чередуясь: Nintendo и PlayStation. И на 1 месте стоит платформа `3DS`, которая 5 в рейтинге Америки и Европы, а на 4 месте стоит `PS4`, которая на 1 месте в рейтинге Америки и Европы.\n",
    "\n",
    "Также можно отметить, что _больше всего продаж_ игр в Америке, и _меньше всего_ - в Японии, это объяснимо, так как японцы - очень работящая нация, там не принято много времени проводить вне работы, а почетнее всего - на работе."
   ]
  },
  {
   "cell_type": "markdown",
   "id": "eb065060",
   "metadata": {},
   "source": [
    "### Определение самых популярных жанров (топ-5)"
   ]
  },
  {
   "cell_type": "code",
   "execution_count": 58,
   "id": "427a391a",
   "metadata": {},
   "outputs": [
    {
     "data": {
      "text/html": [
       "<div>\n",
       "<style scoped>\n",
       "    .dataframe tbody tr th:only-of-type {\n",
       "        vertical-align: middle;\n",
       "    }\n",
       "\n",
       "    .dataframe tbody tr th {\n",
       "        vertical-align: top;\n",
       "    }\n",
       "\n",
       "    .dataframe thead th {\n",
       "        text-align: right;\n",
       "    }\n",
       "</style>\n",
       "<table border=\"1\" class=\"dataframe\">\n",
       "  <thead>\n",
       "    <tr style=\"text-align: right;\">\n",
       "      <th></th>\n",
       "      <th>genre</th>\n",
       "      <th>genres_na_sales</th>\n",
       "    </tr>\n",
       "  </thead>\n",
       "  <tbody>\n",
       "    <tr>\n",
       "      <th>0</th>\n",
       "      <td>Action</td>\n",
       "      <td>126.05</td>\n",
       "    </tr>\n",
       "    <tr>\n",
       "      <th>8</th>\n",
       "      <td>Shooter</td>\n",
       "      <td>109.74</td>\n",
       "    </tr>\n",
       "    <tr>\n",
       "      <th>10</th>\n",
       "      <td>Sports</td>\n",
       "      <td>65.27</td>\n",
       "    </tr>\n",
       "    <tr>\n",
       "      <th>7</th>\n",
       "      <td>Role-Playing</td>\n",
       "      <td>46.40</td>\n",
       "    </tr>\n",
       "    <tr>\n",
       "      <th>3</th>\n",
       "      <td>Misc</td>\n",
       "      <td>27.49</td>\n",
       "    </tr>\n",
       "  </tbody>\n",
       "</table>\n",
       "</div>"
      ],
      "text/plain": [
       "           genre  genres_na_sales\n",
       "0         Action           126.05\n",
       "8        Shooter           109.74\n",
       "10        Sports            65.27\n",
       "7   Role-Playing            46.40\n",
       "3           Misc            27.49"
      ]
     },
     "execution_count": 58,
     "metadata": {},
     "output_type": "execute_result"
    }
   ],
   "source": [
    "#посмотрим топ-5 жанров в Северной Америке\n",
    "games_genre_na = data.query('year_of_release >=2013').groupby('genre').agg(genres_na_sales=('na_sales', 'sum')).reset_index()\\\n",
    "                        .sort_values(by='genres_na_sales', ascending=False).head()\n",
    "games_genre_na"
   ]
  },
  {
   "cell_type": "code",
   "execution_count": 59,
   "id": "6fa932f6",
   "metadata": {},
   "outputs": [
    {
     "data": {
      "image/png": "[encoded data removed]",
      "text/plain": [
       "<Figure size 576x576 with 1 Axes>"
      ]
     },
     "metadata": {},
     "output_type": "display_data"
    }
   ],
   "source": [
    "#построим круговую диаграмму топ-5 самых популярных жанров для Северной Америки\n",
    "games_genre_na.plot(kind='pie', y='genres_na_sales', labels=games_genre_na['genre'], \\\n",
    "                 title='Топ-5 самых популярных жанров для Северной Америки', figsize=(8,8))\n",
    "plt.show()"
   ]
  },
  {
   "cell_type": "code",
   "execution_count": 60,
   "id": "216013e0",
   "metadata": {},
   "outputs": [
    {
     "data": {
      "text/html": [
       "<div>\n",
       "<style scoped>\n",
       "    .dataframe tbody tr th:only-of-type {\n",
       "        vertical-align: middle;\n",
       "    }\n",
       "\n",
       "    .dataframe tbody tr th {\n",
       "        vertical-align: top;\n",
       "    }\n",
       "\n",
       "    .dataframe thead th {\n",
       "        text-align: right;\n",
       "    }\n",
       "</style>\n",
       "<table border=\"1\" class=\"dataframe\">\n",
       "  <thead>\n",
       "    <tr style=\"text-align: right;\">\n",
       "      <th></th>\n",
       "      <th>genre</th>\n",
       "      <th>genres_eu_sales</th>\n",
       "    </tr>\n",
       "  </thead>\n",
       "  <tbody>\n",
       "    <tr>\n",
       "      <th>0</th>\n",
       "      <td>Action</td>\n",
       "      <td>118.13</td>\n",
       "    </tr>\n",
       "    <tr>\n",
       "      <th>8</th>\n",
       "      <td>Shooter</td>\n",
       "      <td>87.86</td>\n",
       "    </tr>\n",
       "    <tr>\n",
       "      <th>10</th>\n",
       "      <td>Sports</td>\n",
       "      <td>60.52</td>\n",
       "    </tr>\n",
       "    <tr>\n",
       "      <th>7</th>\n",
       "      <td>Role-Playing</td>\n",
       "      <td>36.97</td>\n",
       "    </tr>\n",
       "    <tr>\n",
       "      <th>6</th>\n",
       "      <td>Racing</td>\n",
       "      <td>20.19</td>\n",
       "    </tr>\n",
       "  </tbody>\n",
       "</table>\n",
       "</div>"
      ],
      "text/plain": [
       "           genre  genres_eu_sales\n",
       "0         Action           118.13\n",
       "8        Shooter            87.86\n",
       "10        Sports            60.52\n",
       "7   Role-Playing            36.97\n",
       "6         Racing            20.19"
      ]
     },
     "execution_count": 60,
     "metadata": {},
     "output_type": "execute_result"
    }
   ],
   "source": [
    "#посмотрим топ-5 жанров в Европе\n",
    "games_genre_eu = data.query('year_of_release >=2013').groupby('genre').agg(genres_eu_sales=('eu_sales', 'sum')).reset_index()\\\n",
    "                        .sort_values(by='genres_eu_sales', ascending=False).head()\n",
    "games_genre_eu"
   ]
  },
  {
   "cell_type": "code",
   "execution_count": 61,
   "id": "2ffe40fe",
   "metadata": {},
   "outputs": [
    {
     "data": {
      "image/png": "[encoded data removed]",
      "text/plain": [
       "<Figure size 576x576 with 1 Axes>"
      ]
     },
     "metadata": {},
     "output_type": "display_data"
    }
   ],
   "source": [
    "#построим круговую диаграмму топ-5 самых популярных жанров для Европы\n",
    "games_genre_eu.plot(kind='pie', y='genres_eu_sales', labels=games_genre_eu['genre'], \\\n",
    "                 title='Топ-5 самых популярных жанров для Европы', figsize=(8,8))\n",
    "plt.show()"
   ]
  },
  {
   "cell_type": "code",
   "execution_count": 62,
   "id": "e9b3de41",
   "metadata": {
    "scrolled": true
   },
   "outputs": [
    {
     "data": {
      "text/html": [
       "<div>\n",
       "<style scoped>\n",
       "    .dataframe tbody tr th:only-of-type {\n",
       "        vertical-align: middle;\n",
       "    }\n",
       "\n",
       "    .dataframe tbody tr th {\n",
       "        vertical-align: top;\n",
       "    }\n",
       "\n",
       "    .dataframe thead th {\n",
       "        text-align: right;\n",
       "    }\n",
       "</style>\n",
       "<table border=\"1\" class=\"dataframe\">\n",
       "  <thead>\n",
       "    <tr style=\"text-align: right;\">\n",
       "      <th></th>\n",
       "      <th>genre</th>\n",
       "      <th>genres_jp_sales</th>\n",
       "    </tr>\n",
       "  </thead>\n",
       "  <tbody>\n",
       "    <tr>\n",
       "      <th>7</th>\n",
       "      <td>Role-Playing</td>\n",
       "      <td>51.04</td>\n",
       "    </tr>\n",
       "    <tr>\n",
       "      <th>0</th>\n",
       "      <td>Action</td>\n",
       "      <td>40.49</td>\n",
       "    </tr>\n",
       "    <tr>\n",
       "      <th>3</th>\n",
       "      <td>Misc</td>\n",
       "      <td>9.20</td>\n",
       "    </tr>\n",
       "    <tr>\n",
       "      <th>2</th>\n",
       "      <td>Fighting</td>\n",
       "      <td>7.65</td>\n",
       "    </tr>\n",
       "    <tr>\n",
       "      <th>8</th>\n",
       "      <td>Shooter</td>\n",
       "      <td>6.61</td>\n",
       "    </tr>\n",
       "  </tbody>\n",
       "</table>\n",
       "</div>"
      ],
      "text/plain": [
       "          genre  genres_jp_sales\n",
       "7  Role-Playing            51.04\n",
       "0        Action            40.49\n",
       "3          Misc             9.20\n",
       "2      Fighting             7.65\n",
       "8       Shooter             6.61"
      ]
     },
     "execution_count": 62,
     "metadata": {},
     "output_type": "execute_result"
    }
   ],
   "source": [
    "#посмотрим топ-5 жанров в Японии\n",
    "games_genre_jp = data.query('year_of_release >=2013').groupby('genre').agg(genres_jp_sales=('jp_sales', 'sum')).reset_index()\\\n",
    "                        .sort_values(by='genres_jp_sales', ascending=False).head()\n",
    "games_genre_jp"
   ]
  },
  {
   "cell_type": "code",
   "execution_count": 63,
   "id": "b5c13550",
   "metadata": {},
   "outputs": [
    {
     "data": {
      "image/png": "[encoded data removed]",
      "text/plain": [
       "<Figure size 576x576 with 1 Axes>"
      ]
     },
     "metadata": {},
     "output_type": "display_data"
    }
   ],
   "source": [
    "#построим круговую диаграмму топ-5 самых популярных жанров для Японии\n",
    "games_genre_jp.plot(kind='pie', y='genres_jp_sales', labels=games_genre_jp['genre'], \\\n",
    "                 title='Топ-5 самых популярных жанров для Японии', figsize=(8,8))\n",
    "plt.show()"
   ]
  },
  {
   "cell_type": "markdown",
   "id": "6784ff00",
   "metadata": {},
   "source": [
    "Топ-5 жанров игр **совпадает** у Северной Америки и Европы с 1-ми 4 местами: _Action_, _Shooter_, _Sports\t_, _Role-Playing_, 5 места отличаются: у Америки - _Misc_, у Европы - _Racing_. \n",
    "\n",
    "У Японии с Америкой **совпадают** 4 жанра, с Европой - 3. Но порядок популярности жанров в Японии выглядит иначе, а вместо жанра _Sports_, представлен жанр _Fighting_. Другой порядок жанров и 1 другой жанр объясняются менталитетом японцев."
   ]
  },
  {
   "cell_type": "markdown",
   "id": "850b3f82",
   "metadata": {},
   "source": [
    "###  Определение влияния рейтинга ESRB на продажи в отдельном регионе"
   ]
  },
  {
   "cell_type": "code",
   "execution_count": 64,
   "id": "c3b36d18",
   "metadata": {},
   "outputs": [
    {
     "data": {
      "text/html": [
       "<div>\n",
       "<style scoped>\n",
       "    .dataframe tbody tr th:only-of-type {\n",
       "        vertical-align: middle;\n",
       "    }\n",
       "\n",
       "    .dataframe tbody tr th {\n",
       "        vertical-align: top;\n",
       "    }\n",
       "\n",
       "    .dataframe thead th {\n",
       "        text-align: right;\n",
       "    }\n",
       "</style>\n",
       "<table border=\"1\" class=\"dataframe\">\n",
       "  <thead>\n",
       "    <tr style=\"text-align: right;\">\n",
       "      <th></th>\n",
       "      <th>rating</th>\n",
       "      <th>rating_na_sales</th>\n",
       "    </tr>\n",
       "  </thead>\n",
       "  <tbody>\n",
       "    <tr>\n",
       "      <th>2</th>\n",
       "      <td>M</td>\n",
       "      <td>165.21</td>\n",
       "    </tr>\n",
       "    <tr>\n",
       "      <th>4</th>\n",
       "      <td>U</td>\n",
       "      <td>89.42</td>\n",
       "    </tr>\n",
       "    <tr>\n",
       "      <th>0</th>\n",
       "      <td>E</td>\n",
       "      <td>79.05</td>\n",
       "    </tr>\n",
       "    <tr>\n",
       "      <th>1</th>\n",
       "      <td>E10+</td>\n",
       "      <td>54.24</td>\n",
       "    </tr>\n",
       "    <tr>\n",
       "      <th>3</th>\n",
       "      <td>T</td>\n",
       "      <td>49.79</td>\n",
       "    </tr>\n",
       "  </tbody>\n",
       "</table>\n",
       "</div>"
      ],
      "text/plain": [
       "  rating  rating_na_sales\n",
       "2      M           165.21\n",
       "4      U            89.42\n",
       "0      E            79.05\n",
       "1   E10+            54.24\n",
       "3      T            49.79"
      ]
     },
     "execution_count": 64,
     "metadata": {},
     "output_type": "execute_result"
    }
   ],
   "source": [
    "#посмотрим распределение рейтингов по проданным играм в Северной Америке\n",
    "rating_na = data.query('year_of_release >=2013').groupby('rating').agg(rating_na_sales=('na_sales', 'sum')).reset_index()\\\n",
    "                        .sort_values(by='rating_na_sales', ascending=False).head()\n",
    "rating_na"
   ]
  },
  {
   "cell_type": "code",
   "execution_count": 65,
   "id": "9bfb9f1b",
   "metadata": {},
   "outputs": [
    {
     "data": {
      "text/html": [
       "<div>\n",
       "<style scoped>\n",
       "    .dataframe tbody tr th:only-of-type {\n",
       "        vertical-align: middle;\n",
       "    }\n",
       "\n",
       "    .dataframe tbody tr th {\n",
       "        vertical-align: top;\n",
       "    }\n",
       "\n",
       "    .dataframe thead th {\n",
       "        text-align: right;\n",
       "    }\n",
       "</style>\n",
       "<table border=\"1\" class=\"dataframe\">\n",
       "  <thead>\n",
       "    <tr style=\"text-align: right;\">\n",
       "      <th></th>\n",
       "      <th>rating</th>\n",
       "      <th>rating_eu_sales</th>\n",
       "    </tr>\n",
       "  </thead>\n",
       "  <tbody>\n",
       "    <tr>\n",
       "      <th>2</th>\n",
       "      <td>M</td>\n",
       "      <td>145.32</td>\n",
       "    </tr>\n",
       "    <tr>\n",
       "      <th>0</th>\n",
       "      <td>E</td>\n",
       "      <td>83.36</td>\n",
       "    </tr>\n",
       "    <tr>\n",
       "      <th>4</th>\n",
       "      <td>U</td>\n",
       "      <td>78.91</td>\n",
       "    </tr>\n",
       "    <tr>\n",
       "      <th>1</th>\n",
       "      <td>E10+</td>\n",
       "      <td>42.69</td>\n",
       "    </tr>\n",
       "    <tr>\n",
       "      <th>3</th>\n",
       "      <td>T</td>\n",
       "      <td>41.95</td>\n",
       "    </tr>\n",
       "  </tbody>\n",
       "</table>\n",
       "</div>"
      ],
      "text/plain": [
       "  rating  rating_eu_sales\n",
       "2      M           145.32\n",
       "0      E            83.36\n",
       "4      U            78.91\n",
       "1   E10+            42.69\n",
       "3      T            41.95"
      ]
     },
     "execution_count": 65,
     "metadata": {},
     "output_type": "execute_result"
    }
   ],
   "source": [
    "#посмотрим распределение рейтингов по проданным играм в Европе\n",
    "rating_eu = data.query('year_of_release >=2013').groupby('rating').agg(rating_eu_sales=('eu_sales', 'sum')).reset_index()\\\n",
    "                        .sort_values(by='rating_eu_sales', ascending=False).head()\n",
    "rating_eu"
   ]
  },
  {
   "cell_type": "code",
   "execution_count": 66,
   "id": "58ee9760",
   "metadata": {},
   "outputs": [
    {
     "data": {
      "text/html": [
       "<div>\n",
       "<style scoped>\n",
       "    .dataframe tbody tr th:only-of-type {\n",
       "        vertical-align: middle;\n",
       "    }\n",
       "\n",
       "    .dataframe tbody tr th {\n",
       "        vertical-align: top;\n",
       "    }\n",
       "\n",
       "    .dataframe thead th {\n",
       "        text-align: right;\n",
       "    }\n",
       "</style>\n",
       "<table border=\"1\" class=\"dataframe\">\n",
       "  <thead>\n",
       "    <tr style=\"text-align: right;\">\n",
       "      <th></th>\n",
       "      <th>rating</th>\n",
       "      <th>rating_jp_sales</th>\n",
       "    </tr>\n",
       "  </thead>\n",
       "  <tbody>\n",
       "    <tr>\n",
       "      <th>4</th>\n",
       "      <td>U</td>\n",
       "      <td>85.05</td>\n",
       "    </tr>\n",
       "    <tr>\n",
       "      <th>3</th>\n",
       "      <td>T</td>\n",
       "      <td>20.59</td>\n",
       "    </tr>\n",
       "    <tr>\n",
       "      <th>0</th>\n",
       "      <td>E</td>\n",
       "      <td>15.14</td>\n",
       "    </tr>\n",
       "    <tr>\n",
       "      <th>2</th>\n",
       "      <td>M</td>\n",
       "      <td>14.11</td>\n",
       "    </tr>\n",
       "    <tr>\n",
       "      <th>1</th>\n",
       "      <td>E10+</td>\n",
       "      <td>5.89</td>\n",
       "    </tr>\n",
       "  </tbody>\n",
       "</table>\n",
       "</div>"
      ],
      "text/plain": [
       "  rating  rating_jp_sales\n",
       "4      U            85.05\n",
       "3      T            20.59\n",
       "0      E            15.14\n",
       "2      M            14.11\n",
       "1   E10+             5.89"
      ]
     },
     "execution_count": 66,
     "metadata": {},
     "output_type": "execute_result"
    }
   ],
   "source": [
    "#посмотрим распределение рейтингов по проданным играм в Японии\n",
    "rating_jp = data.query('year_of_release >=2013').groupby('rating').agg(rating_jp_sales=('jp_sales', 'sum')).reset_index()\\\n",
    "                        .sort_values(by='rating_jp_sales', ascending=False).head()\n",
    "rating_jp"
   ]
  },
  {
   "cell_type": "code",
   "execution_count": 67,
   "id": "0a5a5131",
   "metadata": {},
   "outputs": [
    {
     "data": {
      "text/plain": [
       "4    0.204291\n",
       "Name: rating_na_sales, dtype: float64"
      ]
     },
     "execution_count": 67,
     "metadata": {},
     "output_type": "execute_result"
    }
   ],
   "source": [
    "#считаем долю рейтинга 'U' по отношению ко всем рейтингам в Северной Америке\n",
    "rating_u_na = rating_na[rating_na['rating'] == 'U']['rating_na_sales'] / rating_na['rating_na_sales'].sum()\n",
    "rating_u_na"
   ]
  },
  {
   "cell_type": "code",
   "execution_count": 68,
   "id": "a8299498",
   "metadata": {},
   "outputs": [
    {
     "data": {
      "text/plain": [
       "4    0.201183\n",
       "Name: rating_eu_sales, dtype: float64"
      ]
     },
     "execution_count": 68,
     "metadata": {},
     "output_type": "execute_result"
    }
   ],
   "source": [
    "#считаем долю рейтинга 'U' по отношению ко всем рейтингам в Европе\n",
    "rating_u_eu = rating_eu[rating_eu['rating'] == 'U']['rating_eu_sales'] / rating_eu['rating_eu_sales'].sum()\n",
    "rating_u_eu"
   ]
  },
  {
   "cell_type": "code",
   "execution_count": 69,
   "id": "c472f431",
   "metadata": {},
   "outputs": [
    {
     "data": {
      "text/plain": [
       "4    0.604134\n",
       "Name: rating_jp_sales, dtype: float64"
      ]
     },
     "execution_count": 69,
     "metadata": {},
     "output_type": "execute_result"
    }
   ],
   "source": [
    "#считаем долю рейтинга 'U' по отношению ко всем рейтингам в Японии\n",
    "rating_u_jp = rating_jp[rating_jp['rating'] == 'U']['rating_jp_sales'] / rating_jp['rating_jp_sales'].sum()\n",
    "rating_u_jp"
   ]
  },
  {
   "cell_type": "markdown",
   "id": "d36da9da",
   "metadata": {},
   "source": [
    "Значением `U`(_unknown_) были заполнены пропуски в столбце `rating`. Выше была посчитана доля игр с неизвестным рейтингом к общей доле игр с рейтингами по 3 регионам. \n",
    "\n",
    "Доля игр с неизвестным рейтингом для Северной Америки и Европы составила **20%**, а для Японии - **60%**. Из этого можно сделать вывод, что в Японии нет сильного внимания рейтинга ESRB. \n",
    "Это влияние сильнее в Северной Америке и Европе, так как там только каждая 5-я игра не иммеет рейтинга ESRB."
   ]
  },
  {
   "cell_type": "markdown",
   "id": "6704fc50",
   "metadata": {},
   "source": [
    "## Проверка гипотез"
   ]
  },
  {
   "cell_type": "markdown",
   "id": "c9d4191a",
   "metadata": {},
   "source": [
    "### Средние пользовательские рейтинги платформ Xbox One и PC одинаковые"
   ]
  },
  {
   "cell_type": "markdown",
   "id": "114a5782",
   "metadata": {},
   "source": [
    "Сформулируем нулевую _H0_ и альтернативную _H1_ гипотезы.\n",
    "\n",
    "H0: cредние пользовательские рейтинги платформ `Xbox One` и `PC` равны.\n",
    "\n",
    "H1: cредние пользовательские рейтинги платформ `Xbox One` и `PC` не равны.\n",
    "\n",
    "Проверять нулевую гипотезу будем методом для проверки гипотезы о равенстве среднего двух генеральных совокупностей по взятым из них выборкам."
   ]
  },
  {
   "cell_type": "code",
   "execution_count": 70,
   "id": "5e1cedd1",
   "metadata": {},
   "outputs": [
    {
     "name": "stdout",
     "output_type": "stream",
     "text": [
      "p-значение: 0.14759594013430463\n",
      "Не получилось отвергнуть нулевую гипотезу\n"
     ]
    }
   ],
   "source": [
    "#удалим пропуски в столбце 'user_score'\n",
    "data = data.dropna(subset=['user_score'])\n",
    "data = data.query('year_of_release >=2013').reset_index()\n",
    "\n",
    "x1 = data[data['platform'] == 'XOne']['user_score']\n",
    "pc = data[data['platform'] == 'PC']['user_score']\n",
    "\n",
    "alpha = .05 # критический уровень статистической значимости\n",
    "# если p-value окажется меньше него - отвергнем гипотезу\n",
    "\n",
    "results = st.ttest_ind(\n",
    "    x1, \n",
    "    pc,\n",
    "    equal_var=False)\n",
    "\n",
    "print('p-значение:', results.pvalue)\n",
    "\n",
    "if results.pvalue < alpha:\n",
    "    print(\"Отвергаем нулевую гипотезу\")\n",
    "else:\n",
    "    print(\"Не получилось отвергнуть нулевую гипотезу\") "
   ]
  },
  {
   "cell_type": "markdown",
   "id": "e2388ebf",
   "metadata": {},
   "source": [
    "С уровнем статистической значимости 5% не получилось отвергнуть нулевую гипотезу H0 о равенстве cредних пользовательских рейтингов платформ `Xbox One` и `PC`."
   ]
  },
  {
   "cell_type": "markdown",
   "id": "e654d101",
   "metadata": {},
   "source": [
    "### Средние пользовательские рейтинги жанров Action (англ. «действие», экшен-игры) и Sports (англ. «спортивные соревнования») разные"
   ]
  },
  {
   "cell_type": "markdown",
   "id": "2dbfdcda",
   "metadata": {},
   "source": [
    "Сформулируем нулевую _H0_ и альтернативную _H1_ гипотезы .\n",
    "\n",
    "H0: cредние пользовательские рейтинги жанров `Action` и `Sports` равны.\n",
    "\n",
    "H1: cредние пользовательские рейтинги жанров `Action` и `Sports` не равны.\n",
    "\n",
    "Проверять нулевую гипотезу будем методом для проверки гипотезы о равенстве среднего двух генеральных совокупностей по взятым из них выборкам."
   ]
  },
  {
   "cell_type": "code",
   "execution_count": 71,
   "id": "f6217309",
   "metadata": {},
   "outputs": [
    {
     "name": "stdout",
     "output_type": "stream",
     "text": [
      "p-значение: 1.4460039700704315e-20\n",
      "Отвергаем нулевую гипотезу\n"
     ]
    }
   ],
   "source": [
    "action = data[data['genre'] == 'Action']['user_score']\n",
    "sports = data[data['genre'] == 'Sports']['user_score']\n",
    "\n",
    "alpha = .05 # критический уровень статистической значимости\n",
    "# если p-value окажется меньше него - отвергнем гипотезу\n",
    "\n",
    "results = st.ttest_ind(\n",
    "    action, \n",
    "    sports,\n",
    "    equal_var=False)\n",
    "\n",
    "print('p-значение:', results.pvalue)\n",
    "\n",
    "if results.pvalue < alpha:\n",
    "    print(\"Отвергаем нулевую гипотезу\")\n",
    "else:\n",
    "    print(\"Не получилось отвергнуть нулевую гипотезу\") "
   ]
  },
  {
   "cell_type": "markdown",
   "id": "816347e7",
   "metadata": {},
   "source": [
    "С уровнем статистической значимости 5% отвергнаем нулевую гипотезу H0 о равенстве cредних пользовательских рейтингов жанров `Action` и `Sports`. Значит, принимаем альтернативную гипотезу H1."
   ]
  },
  {
   "cell_type": "markdown",
   "id": "75e62236",
   "metadata": {},
   "source": [
    "## Общий вывод"
   ]
  },
  {
   "cell_type": "markdown",
   "id": "3db1f914",
   "metadata": {},
   "source": [
    "В проекте исследовались взятые из открытых источников исторические данные о продажах компьютерных игр, оценки пользователей и экспертов, жанры и платформы.\n",
    "\n",
    "Данные имели особенности: пропуски, неверные типы данных и неверный регистр в названиях столбцов.\n",
    "\n",
    "Сначала необходимо было подготовить данные.\n",
    "\n",
    "Данные имели пропуски в столбцах `Name`, `Year_of_Release`, `Genre`, `Critic_Score`, `User_Score`, `Rating`, а также названия всех столбцов не были приведены к нижнему регистру. \n",
    "Сначала названия столбцов были приведены к нижнему регистру для удобства работы с данными. \n",
    "Далее были обработаны пропуски в столбцах `name`, `year_of_release`, `genre`. Пропуски были удалены. Пропуски могли возникнуть из-за ошибки оператора, а также из-за того, что на момент внесения игры в базу не былы определены окончательно название, жанр или год выпуска, было решено их внести позднее, и, в итоге, не внесли.\n",
    "\n",
    "В столбце `user_score` данные относились к строкам, хотя подразумевались вещественные числа от 0 до 10 (оценка игры пользователями). Поэтому столбец был переведен к типу `float`, после работы с значением `tbd`. Эта аббревиатура означает _to be determined_ (_будет определено_). Этим значением обозначили те игры, которые пользователи не оценили, возможно, это делали при релизе игры или добавлении в базу данных, а позднее не обновляли. Эти значения были заменены на Nan, так как фактически - это пропуски. Пропуски в этом столбце обусловлены тем, что пользователи могли просто не оценивать эту игру из-за того, что она или слишком старая, или слишком новая и еще нет ее оценки. \n",
    "\n",
    "В столбцах `user_score` и `critic_score` пропуски остались незаполненными, чтобы не искажать картину данных.\n",
    "\n",
    "В столбце `rating` для объективной оценки рейтинга значение `K-A`(_Kids to Adults_) заменили на `E`(_Everyone_), так как `K-A` был до 1998 года, а потом эту группу переименовали в `E`.Также пропуски были заменены на значение  `U` (`unknown`), чтобы не удалять пропуски и при этом не искажать группы. Пропуски в этом столбце могут быть обусловлены просто отсутствием игры в рейтинге организации ESRB или невозможностью определить категорию.\n",
    "\n",
    "Кроме того, был добавлен столбец `total_sales`, необходимый для работы в следующих разделах. \n",
    "На этом подготовка данных была завершена.\n",
    "\n",
    "Благодаря графику исследования количества выпускаемых игр в разные годы можно увидеть, что для исследования данных по играм имеет смысл брать годы, начиная с 1994 года. Количество игр, относящихся к периоду до 1994 года, суммарно невелико. Для дальнейшей работы были отфильтрованы данные.\n",
    "\n",
    "Далее были выбраны платформы с наибольшими суммарными продажами и построены распределения продаж по годам. \n",
    "Платформы с наибольшими суммарными продажами: `PS2`, `X360`, `PS3`, `Wii`, `DS`, `PS`, `PS4`, `GBA`, `PSP`, `3DS`.\n",
    "Средний срок жизни платформы - _10 лет_. _PlayStation_ и _Nintendo_ обновляют свои платформы каждые 5-6 лет, таким образом, они выравнивают продажи при смене поколения платформы.\n",
    "\n",
    "Для прогноза 2017 года были взяты данные, начиная с 2013 года, когда вышли свежие платформы _PS4_ и _XOne_, так как, судя по среднему сроку жизни платформы, у них будет пик в ближайшие 1-2 года.\n",
    "Для дальнейшего анализа выделили 5 платформ, у которых общие продажи более 100 млн экземпляров игр. Это `PS4`, `PS3`, `XOne`, `3DS`, `X360`.\n",
    "\n",
    "Несомненным лидером по продажам является платформа `PS4`, показывает рост платформа `XOne`. У обеих платформ в 2016 году идет падение, это объясняется неполными данными за 2016 год. Падение показывают платформы `PS3` и `X360` (обе предшественницы нынешних лидеров `PS4` и `XOne`), а также `3DS`. График также проиллюстрировал лидерские позиции платформы `PS4`. Ее медиана суммарных продаж в 2 раза больше остальных платформ.  \n",
    "\n",
    "Была исследована зависимость между _продажами и оценкой критиков_ для платформы `PS4` составляет примерно **0.41**, что является _умеренной_ положительной зависимостью. Зависимость между _продажами и оценкой пользователей_ для платформы `PS4` составляет примерно **-0.032**, что является _отсутствием_ зависимости. Можно сделать вывод, что для увеличения продаж надо обратить внимание, на игры, высоко оцененные критиками.\n",
    "\n",
    "Была исследована зависимость между _продажами и оценкой критиков_ для платформ:\n",
    "- `PS3` составляет примерно **0.33**, \n",
    "\n",
    "- `3DS` составляет примерно **0.36**,\n",
    "\n",
    "- `X360` составляет примерно **0.35**,\n",
    "\n",
    "- `XOne` составляет примерно **0.42**,\n",
    "\n",
    "что является _умеренной_ положительной зависимостью. \n",
    "\n",
    "Была исследована зависимость между _продажами и оценкой пользователей_ для платформ:\n",
    "- `PS3` составляет примерно **0.002**, \n",
    "\n",
    "- `3DS` составляет примерно **0.24**,\n",
    "\n",
    "- `X360` составляет примерно **-0.01**,\n",
    "\n",
    "- `XOne` составляет примерно **-0.07**,\n",
    "\n",
    "что является _слабой_ зависимостью или _отсутствием_ зависимости. \n",
    "\n",
    "Для увеличения продаж надо обратить внимание, на игры, высоко оцененные критиками. А также можно заметить, что на самых недавних платформах зависимость между _продажами и оценкой пользователей_ приблизилась к 0.\n",
    "\n",
    "Было проведено исследование общего распределения игр по жанрам. **Самый прибыльный** жанр _Action_, он лидирует и по сумме проданных копий, и по количеству игр этого жанра. Далее по прибыльноси идут жанры _Shooter_ и _Sports_. **Наименее прибыльные** жанры: _Puzzle_, _Strategy_, _Simulation_. Их меньше вмего и по количесвтву игр жанра. Покупатели предпочитают активные и командные игры, чем спокойные, с медленноразвивающимся сюжетом.\n",
    "\n",
    "Был составлен портрет пользователя каждого региона (NA, EU, JP).\n",
    "Были определены популярные платформы для каждого региона.\n",
    "Топ-5 популярных платформ **совпадает** у Северной Америки и Европы. \n",
    "На 1 месте в обоих регионах стоит `PS4`, на 5 месте стоит `3DS`, а 2, 3 и 4 делятся так `XOne`, `X360` и `PS3` у Америки и `PS3`, `XOne`, `X360` у Европы.\n",
    "\n",
    "Американская платформа `X360` и `XOne` от Xbox в Японии просто **отсутствует**.\n",
    "\n",
    "В Японии все платформы от японских производителей, идут чередуясь: Nintendo и PlayStation. И на 1 месте стоит платформа `3DS`, которая 5 в рейтинге Америки и Европы, а на 4 месте стоит `PS4`, которая на 1 месте в рейтинге Америки и Европы.\n",
    "\n",
    "Также можно отметить, что _больше всего продаж_ игр в Америке, и _меньше всего_ - в Японии, это объяснимо, так как японцы - очень работящая нация, там не принято много времени проводить вне работы, а почетнее всего - на работе.\n",
    "\n",
    "Были определены самые популярные жанров игр.\n",
    "Топ-5 жанров игр **совпадает** у Северной Америки и Европы с 1-ми 4 местами: _Action_, _Shooter_, _Sports\t_, _Role-Playing_, 5 места отличаются: у Америки - _Misc_, у Европы - _Racing_. \n",
    "\n",
    "У Японии с Америкой **совпадают** 4 жанра, с Европой - 3. Но порядок популярности жанров в Японии выглядит иначе, а вместо жанра _Sports_, представлен жанр _Fighting_. Другой порядок жанров и 1 другой жанр объясняются менталитетом японцев.\n",
    "\n",
    "Была определено влияние рейтинга ESRB на продажи в каждом регионе.Значением `U`(_unknown_) были заполнены пропуски в столбце `rating`. Была посчитана доля игр с неизвестным рейтингом к общей доле игр с рейтингами по 3 регионам. \n",
    "\n",
    "Доля игр с неизвестным рейтингом для Северной Америки и Европы составила **20%**, а для Японии - **60%**. Из этого можно сделать вывод, что в Японии нет сильного внимания рейтинга ESRB. \n",
    "Это влияние сильнее в Северной Америке и Европе, так как там только каждая 5-я игра не иммеет рейтинга ESRB.\n",
    "\n",
    "Были проверены 2 гипотезы:\n",
    "1. Средние пользовательские рейтинги платформ `Xbox One` и `PC` равны.\n",
    "С уровнем статистической значимости 5% не получилось отвергнуть нулевую гипотезу H0 о равенстве cредних пользовательских рейтингов платформ `Xbox One` и `PC`.\n",
    "2. Средние пользовательские рейтинги жанров `Action` и `Sports` равны.\n",
    "С уровнем статистической значимости 5% отвергнаем нулевую гипотезу H0 о равенстве cредних пользовательских рейтингов жанров `Action` и `Sports`. Значит, принимаем альтернативную гипотезу H1.\n",
    "\n",
    "Исходя из вышенаписанного в кампанию на 2017 год я бы включила:\n",
    "* игры на платформах: `PS4`, `XOne` и `3DS` (чтобы охватить все регионы);\n",
    "* игры жанров: _Action_, _Shooter_, _Sports_, _Role-Playing_; \n",
    "* игры с рейтингом ESRB: `M`, `E` (для Северной Америки и Евргопы);\n",
    "* игры с высокой оценкой критиков."
   ]
  }
 ],
 "metadata": {
  "ExecuteTimeLog": [
   {
    "duration": 1164,
    "start_time": "2022-12-02T17:04:37.621Z"
   },
   {
    "duration": 105,
    "start_time": "2022-12-02T17:04:38.787Z"
   },
   {
    "duration": 20,
    "start_time": "2022-12-02T17:04:41.166Z"
   },
   {
    "duration": 14,
    "start_time": "2022-12-02T17:04:42.655Z"
   },
   {
    "duration": 14,
    "start_time": "2022-12-02T17:04:43.731Z"
   },
   {
    "duration": 9,
    "start_time": "2022-12-02T17:05:44.442Z"
   },
   {
    "duration": 28,
    "start_time": "2022-12-02T17:15:09.018Z"
   },
   {
    "duration": 96,
    "start_time": "2022-12-02T17:19:01.418Z"
   },
   {
    "duration": 13,
    "start_time": "2022-12-02T17:19:22.817Z"
   },
   {
    "duration": 3,
    "start_time": "2022-12-02T17:19:37.117Z"
   },
   {
    "duration": 53,
    "start_time": "2022-12-02T17:19:37.121Z"
   },
   {
    "duration": 17,
    "start_time": "2022-12-02T17:19:37.176Z"
   },
   {
    "duration": 16,
    "start_time": "2022-12-02T17:19:37.194Z"
   },
   {
    "duration": 13,
    "start_time": "2022-12-02T17:19:37.212Z"
   },
   {
    "duration": 8,
    "start_time": "2022-12-02T17:19:37.226Z"
   },
   {
    "duration": 28,
    "start_time": "2022-12-02T17:19:37.235Z"
   },
   {
    "duration": 3,
    "start_time": "2022-12-02T17:19:37.264Z"
   },
   {
    "duration": 12,
    "start_time": "2022-12-02T17:19:37.268Z"
   },
   {
    "duration": 19,
    "start_time": "2022-12-02T17:19:37.282Z"
   },
   {
    "duration": 25,
    "start_time": "2022-12-02T17:19:37.303Z"
   },
   {
    "duration": 4,
    "start_time": "2022-12-02T17:19:37.330Z"
   },
   {
    "duration": 7,
    "start_time": "2022-12-02T17:19:37.337Z"
   },
   {
    "duration": 10,
    "start_time": "2022-12-02T17:19:37.346Z"
   },
   {
    "duration": 10,
    "start_time": "2022-12-02T17:19:37.357Z"
   },
   {
    "duration": 8,
    "start_time": "2022-12-02T17:19:37.368Z"
   },
   {
    "duration": 20,
    "start_time": "2022-12-02T17:19:37.377Z"
   },
   {
    "duration": 15,
    "start_time": "2022-12-02T17:19:37.399Z"
   },
   {
    "duration": 12,
    "start_time": "2022-12-02T17:19:37.415Z"
   },
   {
    "duration": 13,
    "start_time": "2022-12-02T17:19:37.429Z"
   },
   {
    "duration": 15,
    "start_time": "2022-12-02T17:19:37.444Z"
   },
   {
    "duration": 5,
    "start_time": "2022-12-02T17:19:37.461Z"
   },
   {
    "duration": 17,
    "start_time": "2022-12-02T17:19:37.467Z"
   },
   {
    "duration": 20,
    "start_time": "2022-12-02T17:19:37.486Z"
   },
   {
    "duration": 356,
    "start_time": "2022-12-02T17:19:37.508Z"
   },
   {
    "duration": 8,
    "start_time": "2022-12-02T17:19:37.866Z"
   },
   {
    "duration": 22,
    "start_time": "2022-12-02T17:19:37.876Z"
   },
   {
    "duration": 201,
    "start_time": "2022-12-02T17:19:37.899Z"
   },
   {
    "duration": 188,
    "start_time": "2022-12-02T17:19:38.102Z"
   },
   {
    "duration": 190,
    "start_time": "2022-12-02T17:19:38.291Z"
   },
   {
    "duration": 189,
    "start_time": "2022-12-02T17:19:38.482Z"
   },
   {
    "duration": 177,
    "start_time": "2022-12-02T17:19:38.675Z"
   },
   {
    "duration": 180,
    "start_time": "2022-12-02T17:19:38.854Z"
   },
   {
    "duration": 225,
    "start_time": "2022-12-02T17:19:39.036Z"
   },
   {
    "duration": 178,
    "start_time": "2022-12-02T17:19:39.262Z"
   },
   {
    "duration": 176,
    "start_time": "2022-12-02T17:19:39.441Z"
   },
   {
    "duration": 155,
    "start_time": "2022-12-02T17:19:39.618Z"
   },
   {
    "duration": 12,
    "start_time": "2022-12-02T17:19:39.775Z"
   },
   {
    "duration": 301,
    "start_time": "2022-12-02T17:19:39.797Z"
   },
   {
    "duration": 184,
    "start_time": "2022-12-02T17:19:40.101Z"
   },
   {
    "duration": 13,
    "start_time": "2022-12-02T17:19:40.286Z"
   },
   {
    "duration": 13,
    "start_time": "2022-12-02T17:19:40.300Z"
   },
   {
    "duration": 145,
    "start_time": "2022-12-02T17:19:40.314Z"
   },
   {
    "duration": 143,
    "start_time": "2022-12-02T17:19:40.460Z"
   },
   {
    "duration": 12,
    "start_time": "2022-12-02T17:19:40.605Z"
   },
   {
    "duration": 14,
    "start_time": "2022-12-02T17:19:40.618Z"
   },
   {
    "duration": 10,
    "start_time": "2022-12-02T17:19:40.633Z"
   },
   {
    "duration": 9,
    "start_time": "2022-12-02T17:19:40.645Z"
   },
   {
    "duration": 45,
    "start_time": "2022-12-02T17:19:40.655Z"
   },
   {
    "duration": 177,
    "start_time": "2022-12-02T17:19:40.701Z"
   },
   {
    "duration": 192,
    "start_time": "2022-12-02T17:19:40.880Z"
   },
   {
    "duration": 12,
    "start_time": "2022-12-02T17:19:41.074Z"
   },
   {
    "duration": 19,
    "start_time": "2022-12-02T17:19:41.087Z"
   },
   {
    "duration": 10,
    "start_time": "2022-12-02T17:19:41.108Z"
   },
   {
    "duration": 13,
    "start_time": "2022-12-02T17:19:41.119Z"
   },
   {
    "duration": 19,
    "start_time": "2022-12-02T17:19:41.134Z"
   },
   {
    "duration": 14,
    "start_time": "2022-12-02T17:19:41.155Z"
   },
   {
    "duration": 40,
    "start_time": "2022-12-02T17:19:41.170Z"
   },
   {
    "duration": 14,
    "start_time": "2022-12-02T17:19:41.211Z"
   },
   {
    "duration": 14,
    "start_time": "2022-12-02T17:19:41.226Z"
   },
   {
    "duration": 5,
    "start_time": "2022-12-02T17:19:41.241Z"
   },
   {
    "duration": 10,
    "start_time": "2022-12-02T17:19:41.247Z"
   },
   {
    "duration": 8,
    "start_time": "2022-12-02T17:19:41.258Z"
   },
   {
    "duration": 16,
    "start_time": "2022-12-02T17:19:50.349Z"
   },
   {
    "duration": 13,
    "start_time": "2022-12-02T17:20:27.478Z"
   },
   {
    "duration": 8,
    "start_time": "2022-12-02T17:22:15.090Z"
   },
   {
    "duration": 152,
    "start_time": "2022-12-02T17:43:47.687Z"
   },
   {
    "duration": 232,
    "start_time": "2022-12-02T17:44:31.687Z"
   },
   {
    "duration": 11,
    "start_time": "2022-12-02T17:45:04.706Z"
   },
   {
    "duration": 172,
    "start_time": "2022-12-02T17:45:11.826Z"
   },
   {
    "duration": 726,
    "start_time": "2022-12-02T17:50:43.432Z"
   },
   {
    "duration": 169,
    "start_time": "2022-12-02T17:50:58.047Z"
   },
   {
    "duration": 168,
    "start_time": "2022-12-02T17:51:07.161Z"
   },
   {
    "duration": 163,
    "start_time": "2022-12-02T17:51:18.376Z"
   },
   {
    "duration": 223,
    "start_time": "2022-12-02T17:51:24.833Z"
   },
   {
    "duration": 187,
    "start_time": "2022-12-02T17:51:34.829Z"
   },
   {
    "duration": 171,
    "start_time": "2022-12-02T17:52:28.652Z"
   },
   {
    "duration": 178,
    "start_time": "2022-12-02T17:53:01.794Z"
   },
   {
    "duration": 1022,
    "start_time": "2022-12-02T17:59:41.460Z"
   },
   {
    "duration": 53,
    "start_time": "2022-12-02T17:59:42.484Z"
   },
   {
    "duration": 22,
    "start_time": "2022-12-02T17:59:42.539Z"
   },
   {
    "duration": 13,
    "start_time": "2022-12-02T17:59:42.564Z"
   },
   {
    "duration": 13,
    "start_time": "2022-12-02T17:59:42.578Z"
   },
   {
    "duration": 7,
    "start_time": "2022-12-02T17:59:42.593Z"
   },
   {
    "duration": 28,
    "start_time": "2022-12-02T17:59:42.602Z"
   },
   {
    "duration": 2,
    "start_time": "2022-12-02T17:59:42.632Z"
   },
   {
    "duration": 7,
    "start_time": "2022-12-02T17:59:42.636Z"
   },
   {
    "duration": 10,
    "start_time": "2022-12-02T17:59:42.645Z"
   },
   {
    "duration": 9,
    "start_time": "2022-12-02T17:59:42.656Z"
   },
   {
    "duration": 5,
    "start_time": "2022-12-02T17:59:42.666Z"
   },
   {
    "duration": 4,
    "start_time": "2022-12-02T17:59:42.698Z"
   },
   {
    "duration": 6,
    "start_time": "2022-12-02T17:59:42.704Z"
   },
   {
    "duration": 6,
    "start_time": "2022-12-02T17:59:42.712Z"
   },
   {
    "duration": 8,
    "start_time": "2022-12-02T17:59:42.720Z"
   },
   {
    "duration": 5,
    "start_time": "2022-12-02T17:59:42.730Z"
   },
   {
    "duration": 8,
    "start_time": "2022-12-02T17:59:42.737Z"
   },
   {
    "duration": 6,
    "start_time": "2022-12-02T17:59:42.747Z"
   },
   {
    "duration": 6,
    "start_time": "2022-12-02T17:59:42.754Z"
   },
   {
    "duration": 12,
    "start_time": "2022-12-02T17:59:42.762Z"
   },
   {
    "duration": 6,
    "start_time": "2022-12-02T17:59:42.797Z"
   },
   {
    "duration": 15,
    "start_time": "2022-12-02T17:59:42.813Z"
   },
   {
    "duration": 15,
    "start_time": "2022-12-02T17:59:42.830Z"
   },
   {
    "duration": 379,
    "start_time": "2022-12-02T17:59:42.847Z"
   },
   {
    "duration": 8,
    "start_time": "2022-12-02T17:59:43.227Z"
   },
   {
    "duration": 16,
    "start_time": "2022-12-02T17:59:43.236Z"
   },
   {
    "duration": 202,
    "start_time": "2022-12-02T17:59:43.256Z"
   },
   {
    "duration": 191,
    "start_time": "2022-12-02T17:59:43.460Z"
   },
   {
    "duration": 192,
    "start_time": "2022-12-02T17:59:43.653Z"
   },
   {
    "duration": 200,
    "start_time": "2022-12-02T17:59:43.847Z"
   },
   {
    "duration": 178,
    "start_time": "2022-12-02T17:59:44.048Z"
   },
   {
    "duration": 252,
    "start_time": "2022-12-02T17:59:44.227Z"
   },
   {
    "duration": 176,
    "start_time": "2022-12-02T17:59:44.481Z"
   },
   {
    "duration": 194,
    "start_time": "2022-12-02T17:59:44.659Z"
   },
   {
    "duration": 180,
    "start_time": "2022-12-02T17:59:44.854Z"
   },
   {
    "duration": 157,
    "start_time": "2022-12-02T17:59:45.035Z"
   },
   {
    "duration": 15,
    "start_time": "2022-12-02T17:59:45.193Z"
   },
   {
    "duration": 285,
    "start_time": "2022-12-02T17:59:45.209Z"
   },
   {
    "duration": 180,
    "start_time": "2022-12-02T17:59:45.496Z"
   },
   {
    "duration": 7,
    "start_time": "2022-12-02T17:59:45.679Z"
   },
   {
    "duration": 14,
    "start_time": "2022-12-02T17:59:45.697Z"
   },
   {
    "duration": 158,
    "start_time": "2022-12-02T17:59:45.713Z"
   },
   {
    "duration": 157,
    "start_time": "2022-12-02T17:59:45.873Z"
   },
   {
    "duration": 13,
    "start_time": "2022-12-02T17:59:46.032Z"
   },
   {
    "duration": 11,
    "start_time": "2022-12-02T17:59:46.047Z"
   },
   {
    "duration": 12,
    "start_time": "2022-12-02T17:59:46.059Z"
   },
   {
    "duration": 12,
    "start_time": "2022-12-02T17:59:46.097Z"
   },
   {
    "duration": 19,
    "start_time": "2022-12-02T17:59:46.111Z"
   },
   {
    "duration": 204,
    "start_time": "2022-12-02T17:59:46.132Z"
   },
   {
    "duration": 218,
    "start_time": "2022-12-02T17:59:46.338Z"
   },
   {
    "duration": 13,
    "start_time": "2022-12-02T17:59:46.557Z"
   },
   {
    "duration": 345,
    "start_time": "2022-12-02T17:59:46.571Z"
   },
   {
    "duration": 14,
    "start_time": "2022-12-02T17:59:46.921Z"
   },
   {
    "duration": 176,
    "start_time": "2022-12-02T17:59:46.936Z"
   },
   {
    "duration": 13,
    "start_time": "2022-12-02T17:59:47.113Z"
   },
   {
    "duration": 176,
    "start_time": "2022-12-02T17:59:47.128Z"
   },
   {
    "duration": 16,
    "start_time": "2022-12-02T17:59:47.306Z"
   },
   {
    "duration": 181,
    "start_time": "2022-12-02T17:59:47.324Z"
   },
   {
    "duration": 16,
    "start_time": "2022-12-02T17:59:47.507Z"
   },
   {
    "duration": 183,
    "start_time": "2022-12-02T17:59:47.525Z"
   },
   {
    "duration": 15,
    "start_time": "2022-12-02T17:59:47.710Z"
   },
   {
    "duration": 180,
    "start_time": "2022-12-02T17:59:47.727Z"
   },
   {
    "duration": 16,
    "start_time": "2022-12-02T17:59:47.909Z"
   },
   {
    "duration": 15,
    "start_time": "2022-12-02T17:59:47.926Z"
   },
   {
    "duration": 20,
    "start_time": "2022-12-02T17:59:47.942Z"
   },
   {
    "duration": 7,
    "start_time": "2022-12-02T17:59:47.964Z"
   },
   {
    "duration": 6,
    "start_time": "2022-12-02T17:59:47.998Z"
   },
   {
    "duration": 9,
    "start_time": "2022-12-02T17:59:48.005Z"
   },
   {
    "duration": 16,
    "start_time": "2022-12-02T17:59:48.016Z"
   },
   {
    "duration": 6,
    "start_time": "2022-12-02T17:59:48.034Z"
   }
  ],
  "kernelspec": {
   "display_name": "Python 3 (ipykernel)",
   "language": "python",
   "name": "python3"
  },
  "language_info": {
   "codemirror_mode": {
    "name": "ipython",
    "version": 3
   },
   "file_extension": ".py",
   "mimetype": "text/x-python",
   "name": "python",
   "nbconvert_exporter": "python",
   "pygments_lexer": "ipython3",
   "version": "3.9.12"
  },
  "toc": {
   "base_numbering": 1,
   "nav_menu": {},
   "number_sections": true,
   "sideBar": true,
   "skip_h1_title": true,
   "title_cell": "Table of Contents",
   "title_sidebar": "Contents",
   "toc_cell": true,
   "toc_position": {},
   "toc_section_display": true,
   "toc_window_display": true
  }
 },
 "nbformat": 4,
 "nbformat_minor": 5
}
