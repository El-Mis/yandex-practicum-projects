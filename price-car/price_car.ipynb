{
 "cells": [
  {
   "cell_type": "markdown",
   "id": "abb21ac3",
   "metadata": {
    "toc": true
   },
   "source": [
    "<h1>Table of Contents<span class=\"tocSkip\"></span></h1>\n",
    "<div class=\"toc\"><ul class=\"toc-item\"><li><span><a href=\"#Описание-проекта\" data-toc-modified-id=\"Описание-проекта-1\"><span class=\"toc-item-num\">1&nbsp;&nbsp;</span>Описание проекта</a></span><ul class=\"toc-item\"><li><span><a href=\"#Цель-проекта\" data-toc-modified-id=\"Цель-проекта-1.1\"><span class=\"toc-item-num\">1.1&nbsp;&nbsp;</span>Цель проекта</a></span></li><li><span><a href=\"#Описание-данных\" data-toc-modified-id=\"Описание-данных-1.2\"><span class=\"toc-item-num\">1.2&nbsp;&nbsp;</span>Описание данных</a></span></li><li><span><a href=\"#План-работы\" data-toc-modified-id=\"План-работы-1.3\"><span class=\"toc-item-num\">1.3&nbsp;&nbsp;</span>План работы</a></span></li></ul></li><li><span><a href=\"#Загрузка-и-подготовка-данных\" data-toc-modified-id=\"Загрузка-и-подготовка-данных-2\"><span class=\"toc-item-num\">2&nbsp;&nbsp;</span>Загрузка и подготовка данных</a></span></li><li><span><a href=\"#Изучение-данных\" data-toc-modified-id=\"Изучение-данных-3\"><span class=\"toc-item-num\">3&nbsp;&nbsp;</span>Изучение данных</a></span></li><li><span><a href=\"#Подготовка-выборок-для-обучения-моделей\" data-toc-modified-id=\"Подготовка-выборок-для-обучения-моделей-4\"><span class=\"toc-item-num\">4&nbsp;&nbsp;</span>Подготовка выборок для обучения моделей</a></span><ul class=\"toc-item\"><li><span><a href=\"#Подготовка-выборок-для-линейной-регрессии\" data-toc-modified-id=\"Подготовка-выборок-для-линейной-регрессии-4.1\"><span class=\"toc-item-num\">4.1&nbsp;&nbsp;</span>Подготовка выборок для линейной регрессии</a></span></li><li><span><a href=\"#Подготовка-выборок-для-моделей-градиентного-бустинга\" data-toc-modified-id=\"Подготовка-выборок-для-моделей-градиентного-бустинга-4.2\"><span class=\"toc-item-num\">4.2&nbsp;&nbsp;</span>Подготовка выборок для моделей градиентного бустинга</a></span></li></ul></li><li><span><a href=\"#Обучение-разных-моделей\" data-toc-modified-id=\"Обучение-разных-моделей-5\"><span class=\"toc-item-num\">5&nbsp;&nbsp;</span>Обучение разных моделей</a></span><ul class=\"toc-item\"><li><span><a href=\"#Модель-LinearRegression\" data-toc-modified-id=\"Модель-LinearRegression-5.1\"><span class=\"toc-item-num\">5.1&nbsp;&nbsp;</span>Модель LinearRegression</a></span></li><li><span><a href=\"#Модель-CatBoostRegressor\" data-toc-modified-id=\"Модель-CatBoostRegressor-5.2\"><span class=\"toc-item-num\">5.2&nbsp;&nbsp;</span>Модель CatBoostRegressor</a></span></li><li><span><a href=\"#Модель-LGBMRegressor\" data-toc-modified-id=\"Модель-LGBMRegressor-5.3\"><span class=\"toc-item-num\">5.3&nbsp;&nbsp;</span>Модель LGBMRegressor</a></span></li><li><span><a href=\"#Модель-XGBRegressor\" data-toc-modified-id=\"Модель-XGBRegressor-5.4\"><span class=\"toc-item-num\">5.4&nbsp;&nbsp;</span>Модель XGBRegressor</a></span></li></ul></li><li><span><a href=\"#Анализ-времени-обучения,-времени-предсказания-и-качества-моделей\" data-toc-modified-id=\"Анализ-времени-обучения,-времени-предсказания-и-качества-моделей-6\"><span class=\"toc-item-num\">6&nbsp;&nbsp;</span>Анализ времени обучения, времени предсказания и качества моделей</a></span></li><li><span><a href=\"#Выбор-лучшей-модели,-проверка-её-качества-на-тестовой-выборке\" data-toc-modified-id=\"Выбор-лучшей-модели,-проверка-её-качества-на-тестовой-выборке-7\"><span class=\"toc-item-num\">7&nbsp;&nbsp;</span>Выбор лучшей модели, проверка её качества на тестовой выборке</a></span></li><li><span><a href=\"#Общий-вывод\" data-toc-modified-id=\"Общий-вывод-8\"><span class=\"toc-item-num\">8&nbsp;&nbsp;</span>Общий вывод</a></span></li></ul></div>"
   ]
  },
  {
   "cell_type": "markdown",
   "id": "133c38fb",
   "metadata": {},
   "source": [
    "# Определение стоимости автомобилей"
   ]
  },
  {
   "cell_type": "markdown",
   "id": "338d9ec2",
   "metadata": {},
   "source": [
    "## Описание проекта"
   ]
  },
  {
   "cell_type": "markdown",
   "id": "dec2d7a2",
   "metadata": {},
   "source": [
    "В данном проекте необходимо для сервиса по продаже автомобилей с пробегом «Не бит, не крашен» разработать модель, с помощью которой можно будет узнать рыночную стоимость своего автомобиля. \n",
    "\n",
    "Критерии, которые важны заказчику:\n",
    "* качество предсказания;\n",
    "* время обучения модели;\n",
    "* время предсказания модели."
   ]
  },
  {
   "cell_type": "markdown",
   "id": "c9a25456",
   "metadata": {},
   "source": [
    "### Цель проекта"
   ]
  },
  {
   "cell_type": "markdown",
   "id": "81944f73",
   "metadata": {},
   "source": [
    "Необходимо разработать модель, которая умеет определять рыночную стоимость автомобиля. "
   ]
  },
  {
   "cell_type": "markdown",
   "id": "185dcdf4",
   "metadata": {},
   "source": [
    "### Описание данных"
   ]
  },
  {
   "cell_type": "markdown",
   "id": "538dc65a",
   "metadata": {},
   "source": [
    "Для построения модели есть данные о технических характеристиках, комплектации и ценах других автомобилей.\n",
    "\n",
    "**Признаки**\n",
    "\n",
    "* `DateCrawled` — дата скачивания анкеты из базы\n",
    "\n",
    "* `VehicleType` — тип автомобильного кузова\n",
    "\n",
    "* `RegistrationYear` — год регистрации автомобиля\n",
    "\n",
    "* `Gearbox` — тип коробки передач\n",
    "\n",
    "* `Power` — мощность (л. с.)\n",
    "\n",
    "* `Model` — модель автомобиля\n",
    "\n",
    "* `Kilometer` — пробег (км)\n",
    "\n",
    "* `RegistrationMonth` — месяц регистрации автомобиля\n",
    "\n",
    "* `FuelType` — тип топлива\n",
    "\n",
    "* `Brand` — марка автомобиля\n",
    "\n",
    "* `Repaired` — была машина в ремонте или нет\n",
    "\n",
    "* `DateCreated` — дата создания анкеты\n",
    "\n",
    "* `NumberOfPictures` — количество фотографий автомобиля\n",
    "\n",
    "* `PostalCode` — почтовый индекс владельца анкеты (пользователя)\n",
    "\n",
    "* `LastSeen` — дата последней активности пользователя\n",
    "\n",
    "\n",
    "**Целевой признак**\n",
    "* `Price` — цена (евро)\n"
   ]
  },
  {
   "cell_type": "markdown",
   "id": "f664d6c4",
   "metadata": {},
   "source": [
    "### План работы"
   ]
  },
  {
   "cell_type": "markdown",
   "id": "cc3f6175",
   "metadata": {},
   "source": [
    "1. Загрузка и подготовка данных\n",
    "\n",
    "\n",
    "2. Изучение данных\n",
    "\n",
    "\n",
    "3. Подготовка выборок для обучения моделей\n",
    "\n",
    "\n",
    "4. Обучение разных моделей\n",
    "\n",
    "\n",
    "5. Анализ времени обучения, времени предсказания и качества моделей\n",
    "\n",
    "\n",
    "6. Выбор лучшей модели, проверка её качества на тестовой выборке\n",
    "\n",
    "\n",
    "7. Общий вывод\n"
   ]
  },
  {
   "cell_type": "markdown",
   "id": "83e88aac",
   "metadata": {},
   "source": [
    "## Загрузка и подготовка данных"
   ]
  },
  {
   "cell_type": "code",
   "execution_count": 4,
   "id": "e277265d",
   "metadata": {},
   "outputs": [],
   "source": [
    "#импорт необходимых библиотек\n",
    "import pandas as pd\n",
    "import re\n",
    "import matplotlib.pyplot as plt\n",
    "from sklearn.model_selection import train_test_split\n",
    "from sklearn.compose import make_column_transformer\n",
    "from sklearn.preprocessing import (\n",
    "    StandardScaler,\n",
    "    OneHotEncoder\n",
    ")\n",
    "from sklearn.pipeline import make_pipeline\n",
    "from sklearn.model_selection import GridSearchCV\n",
    "import lightgbm as lgb\n",
    "import catboost as cb\n",
    "import xgboost as xgb\n",
    "from sklearn.linear_model import LinearRegression\n",
    "from catboost import CatBoostRegressor\n",
    "from xgboost import XGBRegressor\n",
    "from sklearn.dummy import DummyRegressor\n",
    "from sklearn.metrics import mean_squared_error\n",
    "import time\n",
    "import warnings\n",
    "warnings.filterwarnings(\"ignore\")"
   ]
  },
  {
   "cell_type": "code",
   "execution_count": 6,
   "id": "b13e0c0f",
   "metadata": {},
   "outputs": [
    {
     "name": "stdout",
     "output_type": "stream",
     "text": [
      "<class 'pandas.core.frame.DataFrame'>\n",
      "RangeIndex: 354369 entries, 0 to 354368\n",
      "Data columns (total 16 columns):\n",
      " #   Column             Non-Null Count   Dtype \n",
      "---  ------             --------------   ----- \n",
      " 0   DateCrawled        354369 non-null  object\n",
      " 1   Price              354369 non-null  int64 \n",
      " 2   VehicleType        316879 non-null  object\n",
      " 3   RegistrationYear   354369 non-null  int64 \n",
      " 4   Gearbox            334536 non-null  object\n",
      " 5   Power              354369 non-null  int64 \n",
      " 6   Model              334664 non-null  object\n",
      " 7   Kilometer          354369 non-null  int64 \n",
      " 8   RegistrationMonth  354369 non-null  int64 \n",
      " 9   FuelType           321474 non-null  object\n",
      " 10  Brand              354369 non-null  object\n",
      " 11  Repaired           283215 non-null  object\n",
      " 12  DateCreated        354369 non-null  object\n",
      " 13  NumberOfPictures   354369 non-null  int64 \n",
      " 14  PostalCode         354369 non-null  int64 \n",
      " 15  LastSeen           354369 non-null  object\n",
      "dtypes: int64(7), object(9)\n",
      "memory usage: 43.3+ MB\n"
     ]
    }
   ],
   "source": [
    "#вывод основной информации о датафрейме df\n",
    "df.info()"
   ]
  },
  {
   "cell_type": "code",
   "execution_count": 7,
   "id": "a16a09a4",
   "metadata": {},
   "outputs": [
    {
     "data": {
      "text/html": [
       "<div>\n",
       "<style scoped>\n",
       "    .dataframe tbody tr th:only-of-type {\n",
       "        vertical-align: middle;\n",
       "    }\n",
       "\n",
       "    .dataframe tbody tr th {\n",
       "        vertical-align: top;\n",
       "    }\n",
       "\n",
       "    .dataframe thead th {\n",
       "        text-align: right;\n",
       "    }\n",
       "</style>\n",
       "<table border=\"1\" class=\"dataframe\">\n",
       "  <thead>\n",
       "    <tr style=\"text-align: right;\">\n",
       "      <th></th>\n",
       "      <th>DateCrawled</th>\n",
       "      <th>Price</th>\n",
       "      <th>VehicleType</th>\n",
       "      <th>RegistrationYear</th>\n",
       "      <th>Gearbox</th>\n",
       "      <th>Power</th>\n",
       "      <th>Model</th>\n",
       "      <th>Kilometer</th>\n",
       "      <th>RegistrationMonth</th>\n",
       "      <th>FuelType</th>\n",
       "      <th>Brand</th>\n",
       "      <th>Repaired</th>\n",
       "      <th>DateCreated</th>\n",
       "      <th>NumberOfPictures</th>\n",
       "      <th>PostalCode</th>\n",
       "      <th>LastSeen</th>\n",
       "    </tr>\n",
       "  </thead>\n",
       "  <tbody>\n",
       "    <tr>\n",
       "      <th>0</th>\n",
       "      <td>2016-03-24 11:52:17</td>\n",
       "      <td>480</td>\n",
       "      <td>NaN</td>\n",
       "      <td>1993</td>\n",
       "      <td>manual</td>\n",
       "      <td>0</td>\n",
       "      <td>golf</td>\n",
       "      <td>150000</td>\n",
       "      <td>0</td>\n",
       "      <td>petrol</td>\n",
       "      <td>volkswagen</td>\n",
       "      <td>NaN</td>\n",
       "      <td>2016-03-24 00:00:00</td>\n",
       "      <td>0</td>\n",
       "      <td>70435</td>\n",
       "      <td>2016-04-07 03:16:57</td>\n",
       "    </tr>\n",
       "    <tr>\n",
       "      <th>1</th>\n",
       "      <td>2016-03-24 10:58:45</td>\n",
       "      <td>18300</td>\n",
       "      <td>coupe</td>\n",
       "      <td>2011</td>\n",
       "      <td>manual</td>\n",
       "      <td>190</td>\n",
       "      <td>NaN</td>\n",
       "      <td>125000</td>\n",
       "      <td>5</td>\n",
       "      <td>gasoline</td>\n",
       "      <td>audi</td>\n",
       "      <td>yes</td>\n",
       "      <td>2016-03-24 00:00:00</td>\n",
       "      <td>0</td>\n",
       "      <td>66954</td>\n",
       "      <td>2016-04-07 01:46:50</td>\n",
       "    </tr>\n",
       "    <tr>\n",
       "      <th>2</th>\n",
       "      <td>2016-03-14 12:52:21</td>\n",
       "      <td>9800</td>\n",
       "      <td>suv</td>\n",
       "      <td>2004</td>\n",
       "      <td>auto</td>\n",
       "      <td>163</td>\n",
       "      <td>grand</td>\n",
       "      <td>125000</td>\n",
       "      <td>8</td>\n",
       "      <td>gasoline</td>\n",
       "      <td>jeep</td>\n",
       "      <td>NaN</td>\n",
       "      <td>2016-03-14 00:00:00</td>\n",
       "      <td>0</td>\n",
       "      <td>90480</td>\n",
       "      <td>2016-04-05 12:47:46</td>\n",
       "    </tr>\n",
       "    <tr>\n",
       "      <th>3</th>\n",
       "      <td>2016-03-17 16:54:04</td>\n",
       "      <td>1500</td>\n",
       "      <td>small</td>\n",
       "      <td>2001</td>\n",
       "      <td>manual</td>\n",
       "      <td>75</td>\n",
       "      <td>golf</td>\n",
       "      <td>150000</td>\n",
       "      <td>6</td>\n",
       "      <td>petrol</td>\n",
       "      <td>volkswagen</td>\n",
       "      <td>no</td>\n",
       "      <td>2016-03-17 00:00:00</td>\n",
       "      <td>0</td>\n",
       "      <td>91074</td>\n",
       "      <td>2016-03-17 17:40:17</td>\n",
       "    </tr>\n",
       "    <tr>\n",
       "      <th>4</th>\n",
       "      <td>2016-03-31 17:25:20</td>\n",
       "      <td>3600</td>\n",
       "      <td>small</td>\n",
       "      <td>2008</td>\n",
       "      <td>manual</td>\n",
       "      <td>69</td>\n",
       "      <td>fabia</td>\n",
       "      <td>90000</td>\n",
       "      <td>7</td>\n",
       "      <td>gasoline</td>\n",
       "      <td>skoda</td>\n",
       "      <td>no</td>\n",
       "      <td>2016-03-31 00:00:00</td>\n",
       "      <td>0</td>\n",
       "      <td>60437</td>\n",
       "      <td>2016-04-06 10:17:21</td>\n",
       "    </tr>\n",
       "  </tbody>\n",
       "</table>\n",
       "</div>"
      ],
      "text/plain": [
       "           DateCrawled  Price VehicleType  RegistrationYear Gearbox  Power  \\\n",
       "0  2016-03-24 11:52:17    480         NaN              1993  manual      0   \n",
       "1  2016-03-24 10:58:45  18300       coupe              2011  manual    190   \n",
       "2  2016-03-14 12:52:21   9800         suv              2004    auto    163   \n",
       "3  2016-03-17 16:54:04   1500       small              2001  manual     75   \n",
       "4  2016-03-31 17:25:20   3600       small              2008  manual     69   \n",
       "\n",
       "   Model  Kilometer  RegistrationMonth  FuelType       Brand Repaired  \\\n",
       "0   golf     150000                  0    petrol  volkswagen      NaN   \n",
       "1    NaN     125000                  5  gasoline        audi      yes   \n",
       "2  grand     125000                  8  gasoline        jeep      NaN   \n",
       "3   golf     150000                  6    petrol  volkswagen       no   \n",
       "4  fabia      90000                  7  gasoline       skoda       no   \n",
       "\n",
       "           DateCreated  NumberOfPictures  PostalCode             LastSeen  \n",
       "0  2016-03-24 00:00:00                 0       70435  2016-04-07 03:16:57  \n",
       "1  2016-03-24 00:00:00                 0       66954  2016-04-07 01:46:50  \n",
       "2  2016-03-14 00:00:00                 0       90480  2016-04-05 12:47:46  \n",
       "3  2016-03-17 00:00:00                 0       91074  2016-03-17 17:40:17  \n",
       "4  2016-03-31 00:00:00                 0       60437  2016-04-06 10:17:21  "
      ]
     },
     "execution_count": 7,
     "metadata": {},
     "output_type": "execute_result"
    }
   ],
   "source": [
    "#вывод первых 5 строчек датафрейма df\n",
    "df.head()"
   ]
  },
  {
   "cell_type": "code",
   "execution_count": 8,
   "id": "06a20f00",
   "metadata": {},
   "outputs": [
    {
     "data": {
      "text/plain": [
       "Index(['date_crawled', 'price', 'vehicle_type', 'registration_year', 'gearbox',\n",
       "       'power', 'model', 'kilometer', 'registration_month', 'fuel_type',\n",
       "       'brand', 'repaired', 'date_created', 'number_of_pictures',\n",
       "       'postal_code', 'last_seen'],\n",
       "      dtype='object')"
      ]
     },
     "execution_count": 8,
     "metadata": {},
     "output_type": "execute_result"
    }
   ],
   "source": [
    "#приведем к \"змеиному\" регистру названия столбцов\n",
    "df.columns = [re.sub(r'(?<!^)(?=[A-Z])', '_', i).lower() for i in df.columns]\n",
    "df.columns"
   ]
  },
  {
   "cell_type": "code",
   "execution_count": 9,
   "id": "5f1d91ed",
   "metadata": {},
   "outputs": [
    {
     "data": {
      "text/html": [
       "<div>\n",
       "<style scoped>\n",
       "    .dataframe tbody tr th:only-of-type {\n",
       "        vertical-align: middle;\n",
       "    }\n",
       "\n",
       "    .dataframe tbody tr th {\n",
       "        vertical-align: top;\n",
       "    }\n",
       "\n",
       "    .dataframe thead th {\n",
       "        text-align: right;\n",
       "    }\n",
       "</style>\n",
       "<table border=\"1\" class=\"dataframe\">\n",
       "  <thead>\n",
       "    <tr style=\"text-align: right;\">\n",
       "      <th></th>\n",
       "      <th>price</th>\n",
       "      <th>registration_year</th>\n",
       "      <th>power</th>\n",
       "      <th>kilometer</th>\n",
       "      <th>registration_month</th>\n",
       "      <th>number_of_pictures</th>\n",
       "      <th>postal_code</th>\n",
       "    </tr>\n",
       "  </thead>\n",
       "  <tbody>\n",
       "    <tr>\n",
       "      <th>count</th>\n",
       "      <td>354369.000000</td>\n",
       "      <td>354369.000000</td>\n",
       "      <td>354369.000000</td>\n",
       "      <td>354369.000000</td>\n",
       "      <td>354369.000000</td>\n",
       "      <td>354369.0</td>\n",
       "      <td>354369.000000</td>\n",
       "    </tr>\n",
       "    <tr>\n",
       "      <th>mean</th>\n",
       "      <td>4416.656776</td>\n",
       "      <td>2004.234448</td>\n",
       "      <td>110.094337</td>\n",
       "      <td>128211.172535</td>\n",
       "      <td>5.714645</td>\n",
       "      <td>0.0</td>\n",
       "      <td>50508.689087</td>\n",
       "    </tr>\n",
       "    <tr>\n",
       "      <th>std</th>\n",
       "      <td>4514.158514</td>\n",
       "      <td>90.227958</td>\n",
       "      <td>189.850405</td>\n",
       "      <td>37905.341530</td>\n",
       "      <td>3.726421</td>\n",
       "      <td>0.0</td>\n",
       "      <td>25783.096248</td>\n",
       "    </tr>\n",
       "    <tr>\n",
       "      <th>min</th>\n",
       "      <td>0.000000</td>\n",
       "      <td>1000.000000</td>\n",
       "      <td>0.000000</td>\n",
       "      <td>5000.000000</td>\n",
       "      <td>0.000000</td>\n",
       "      <td>0.0</td>\n",
       "      <td>1067.000000</td>\n",
       "    </tr>\n",
       "    <tr>\n",
       "      <th>25%</th>\n",
       "      <td>1050.000000</td>\n",
       "      <td>1999.000000</td>\n",
       "      <td>69.000000</td>\n",
       "      <td>125000.000000</td>\n",
       "      <td>3.000000</td>\n",
       "      <td>0.0</td>\n",
       "      <td>30165.000000</td>\n",
       "    </tr>\n",
       "    <tr>\n",
       "      <th>50%</th>\n",
       "      <td>2700.000000</td>\n",
       "      <td>2003.000000</td>\n",
       "      <td>105.000000</td>\n",
       "      <td>150000.000000</td>\n",
       "      <td>6.000000</td>\n",
       "      <td>0.0</td>\n",
       "      <td>49413.000000</td>\n",
       "    </tr>\n",
       "    <tr>\n",
       "      <th>75%</th>\n",
       "      <td>6400.000000</td>\n",
       "      <td>2008.000000</td>\n",
       "      <td>143.000000</td>\n",
       "      <td>150000.000000</td>\n",
       "      <td>9.000000</td>\n",
       "      <td>0.0</td>\n",
       "      <td>71083.000000</td>\n",
       "    </tr>\n",
       "    <tr>\n",
       "      <th>max</th>\n",
       "      <td>20000.000000</td>\n",
       "      <td>9999.000000</td>\n",
       "      <td>20000.000000</td>\n",
       "      <td>150000.000000</td>\n",
       "      <td>12.000000</td>\n",
       "      <td>0.0</td>\n",
       "      <td>99998.000000</td>\n",
       "    </tr>\n",
       "  </tbody>\n",
       "</table>\n",
       "</div>"
      ],
      "text/plain": [
       "               price  registration_year          power      kilometer  \\\n",
       "count  354369.000000      354369.000000  354369.000000  354369.000000   \n",
       "mean     4416.656776        2004.234448     110.094337  128211.172535   \n",
       "std      4514.158514          90.227958     189.850405   37905.341530   \n",
       "min         0.000000        1000.000000       0.000000    5000.000000   \n",
       "25%      1050.000000        1999.000000      69.000000  125000.000000   \n",
       "50%      2700.000000        2003.000000     105.000000  150000.000000   \n",
       "75%      6400.000000        2008.000000     143.000000  150000.000000   \n",
       "max     20000.000000        9999.000000   20000.000000  150000.000000   \n",
       "\n",
       "       registration_month  number_of_pictures    postal_code  \n",
       "count       354369.000000            354369.0  354369.000000  \n",
       "mean             5.714645                 0.0   50508.689087  \n",
       "std              3.726421                 0.0   25783.096248  \n",
       "min              0.000000                 0.0    1067.000000  \n",
       "25%              3.000000                 0.0   30165.000000  \n",
       "50%              6.000000                 0.0   49413.000000  \n",
       "75%              9.000000                 0.0   71083.000000  \n",
       "max             12.000000                 0.0   99998.000000  "
      ]
     },
     "execution_count": 9,
     "metadata": {},
     "output_type": "execute_result"
    }
   ],
   "source": [
    "#посмотрим описание числовых данных датафрейма\n",
    "df.describe()"
   ]
  },
  {
   "cell_type": "code",
   "execution_count": 10,
   "id": "4977540d",
   "metadata": {},
   "outputs": [
    {
     "data": {
      "image/png": "[encoded data removed]",
      "text/plain": [
       "<Figure size 1152x720 with 9 Axes>"
      ]
     },
     "metadata": {
      "needs_background": "light"
     },
     "output_type": "display_data"
    }
   ],
   "source": [
    "#построим гистограммы по числовым данным\n",
    "df.hist(figsize=(16,10), color='#64B5F6')\n",
    "plt.show()"
   ]
  },
  {
   "cell_type": "markdown",
   "id": "0648bd4e",
   "metadata": {},
   "source": [
    "В данном разделе были открыты и изучены данные. Названия столбцов были приведены к нижнему регистру. В данных есть пропуски в столбцах `vehicle_type`, `gearbox`, `model`, `fuel_type`, `repaired`. В столбце `number_of_pictures` только нулевые значения, в следующем разделе будет рассмотрена возможность удаления столбца, также необходимо будет рассмотреть целесообразность для обучения модели столбца `postal_code`. Выявлены аномалии в столбцах `price`, `registration_year`, `registration_month`."
   ]
  },
  {
   "cell_type": "markdown",
   "id": "04fab36f",
   "metadata": {},
   "source": [
    "## Изучение данных"
   ]
  },
  {
   "cell_type": "code",
   "execution_count": 11,
   "id": "dc69b7e4",
   "metadata": {},
   "outputs": [
    {
     "data": {
      "text/plain": [
       "date_crawled              0\n",
       "price                     0\n",
       "vehicle_type          37490\n",
       "registration_year         0\n",
       "gearbox               19833\n",
       "power                     0\n",
       "model                 19705\n",
       "kilometer                 0\n",
       "registration_month        0\n",
       "fuel_type             32895\n",
       "brand                     0\n",
       "repaired              71154\n",
       "date_created              0\n",
       "number_of_pictures        0\n",
       "postal_code               0\n",
       "last_seen                 0\n",
       "dtype: int64"
      ]
     },
     "execution_count": 11,
     "metadata": {},
     "output_type": "execute_result"
    }
   ],
   "source": [
    "#проверим данные на пропуски\n",
    "df.isna().sum()"
   ]
  },
  {
   "cell_type": "code",
   "execution_count": 12,
   "id": "e62db7d1",
   "metadata": {},
   "outputs": [
    {
     "data": {
      "text/plain": [
       "302739    20000\n",
       "315772    20000\n",
       "228640    20000\n",
       "212039    20000\n",
       "211999    20000\n",
       "          ...  \n",
       "236724        0\n",
       "236722        0\n",
       "236717        0\n",
       "236710        0\n",
       "342352        0\n",
       "Name: price, Length: 354369, dtype: int64"
      ]
     },
     "execution_count": 12,
     "metadata": {},
     "output_type": "execute_result"
    }
   ],
   "source": [
    "#отсортируем столбец 'price'\n",
    "df['price'].sort_values(ascending=False)"
   ]
  },
  {
   "cell_type": "code",
   "execution_count": 13,
   "id": "b471615d",
   "metadata": {
    "scrolled": true
   },
   "outputs": [
    {
     "data": {
      "text/plain": [
       "219584    20000\n",
       "299180    19312\n",
       "114106    19211\n",
       "132485    19208\n",
       "63986     17932\n",
       "          ...  \n",
       "172120        0\n",
       "172115        0\n",
       "172112        0\n",
       "172108        0\n",
       "0             0\n",
       "Name: power, Length: 354369, dtype: int64"
      ]
     },
     "execution_count": 13,
     "metadata": {},
     "output_type": "execute_result"
    }
   ],
   "source": [
    "#отсортируем столбец 'power'\n",
    "df['power'].sort_values(ascending=False)"
   ]
  },
  {
   "cell_type": "code",
   "execution_count": 14,
   "id": "3297f8e0",
   "metadata": {},
   "outputs": [
    {
     "data": {
      "text/plain": [
       "2000    24490\n",
       "1999    22728\n",
       "2005    22109\n",
       "2001    20124\n",
       "2006    19900\n",
       "        ...  \n",
       "6500        1\n",
       "2290        1\n",
       "1001        1\n",
       "9450        1\n",
       "3500        1\n",
       "Name: registration_year, Length: 151, dtype: int64"
      ]
     },
     "execution_count": 14,
     "metadata": {},
     "output_type": "execute_result"
    }
   ],
   "source": [
    "#рассмотрим частоту встречаемости разных годов\n",
    "df['registration_year'].value_counts()"
   ]
  },
  {
   "cell_type": "code",
   "execution_count": 15,
   "id": "933937a5",
   "metadata": {},
   "outputs": [],
   "source": [
    "#уберем из датафрейма выбросы и аномалии\n",
    "df = df.query('50 <= power <= 500 & 1980 <= registration_year <= 2023 & price != 0 & registration_month != 0')"
   ]
  },
  {
   "cell_type": "markdown",
   "id": "33b5b95b",
   "metadata": {},
   "source": [
    "Убрали из датафрейма выбросы и аномалии."
   ]
  },
  {
   "cell_type": "code",
   "execution_count": 16,
   "id": "ca9d91e9",
   "metadata": {},
   "outputs": [
    {
     "data": {
      "text/plain": [
       "date_crawled              0\n",
       "price                     0\n",
       "vehicle_type          15391\n",
       "registration_year         0\n",
       "gearbox                3836\n",
       "power                     0\n",
       "model                  9133\n",
       "kilometer                 0\n",
       "registration_month        0\n",
       "fuel_type             14050\n",
       "brand                     0\n",
       "repaired              35748\n",
       "date_created              0\n",
       "number_of_pictures        0\n",
       "postal_code               0\n",
       "last_seen                 0\n",
       "dtype: int64"
      ]
     },
     "execution_count": 16,
     "metadata": {},
     "output_type": "execute_result"
    }
   ],
   "source": [
    "#проверим еще раз данные на пропуски\n",
    "df.isna().sum()"
   ]
  },
  {
   "cell_type": "code",
   "execution_count": 17,
   "id": "0bafcd8e",
   "metadata": {},
   "outputs": [
    {
     "data": {
      "text/plain": [
       "(280207, 16)"
      ]
     },
     "execution_count": 17,
     "metadata": {},
     "output_type": "execute_result"
    }
   ],
   "source": [
    "#размер датафрейма\n",
    "df.shape"
   ]
  },
  {
   "cell_type": "code",
   "execution_count": 18,
   "id": "ee1caa99",
   "metadata": {},
   "outputs": [
    {
     "data": {
      "text/plain": [
       "date_crawled          0\n",
       "price                 0\n",
       "vehicle_type          0\n",
       "registration_year     0\n",
       "gearbox               0\n",
       "power                 0\n",
       "model                 0\n",
       "kilometer             0\n",
       "registration_month    0\n",
       "fuel_type             0\n",
       "brand                 0\n",
       "repaired              0\n",
       "date_created          0\n",
       "number_of_pictures    0\n",
       "postal_code           0\n",
       "last_seen             0\n",
       "dtype: int64"
      ]
     },
     "execution_count": 18,
     "metadata": {},
     "output_type": "execute_result"
    }
   ],
   "source": [
    "#заполним пропуски заглушкой \"unknown\"\n",
    "df = df.fillna('unknown')\n",
    "#обновленный размер датафрейма\n",
    "df.isna().sum()"
   ]
  },
  {
   "cell_type": "markdown",
   "id": "05fdfb7e",
   "metadata": {},
   "source": [
    "Пропуски были заполнены заглушкой `unknown`, чтобы оставить больше данных."
   ]
  },
  {
   "cell_type": "code",
   "execution_count": 19,
   "id": "cba6e248",
   "metadata": {},
   "outputs": [
    {
     "data": {
      "text/plain": [
       "4"
      ]
     },
     "execution_count": 19,
     "metadata": {},
     "output_type": "execute_result"
    }
   ],
   "source": [
    "#проверим данные на явные дубликаты\n",
    "df.duplicated().sum()"
   ]
  },
  {
   "cell_type": "code",
   "execution_count": 20,
   "id": "dd1a76a5",
   "metadata": {},
   "outputs": [
    {
     "data": {
      "text/plain": [
       "(280203, 16)"
      ]
     },
     "execution_count": 20,
     "metadata": {},
     "output_type": "execute_result"
    }
   ],
   "source": [
    "#удалим явные дубликаты\n",
    "df = df.drop_duplicates()\n",
    "#обновленный размер датафрейма\n",
    "df.shape"
   ]
  },
  {
   "cell_type": "markdown",
   "id": "426b1572",
   "metadata": {},
   "source": [
    "Были найдены и удалены явные дубликаты."
   ]
  },
  {
   "cell_type": "code",
   "execution_count": 21,
   "id": "3a05fe17",
   "metadata": {},
   "outputs": [
    {
     "data": {
      "text/plain": [
       "petrol      175165\n",
       "gasoline     85746\n",
       "unknown      14050\n",
       "lpg           4476\n",
       "cng            482\n",
       "hybrid         203\n",
       "other           49\n",
       "electric        32\n",
       "Name: fuel_type, dtype: int64"
      ]
     },
     "execution_count": 21,
     "metadata": {},
     "output_type": "execute_result"
    }
   ],
   "source": [
    "#посмотрим, какие значения есть в столбце 'fuel_type'\n",
    "df['fuel_type'].value_counts()"
   ]
  },
  {
   "cell_type": "code",
   "execution_count": 22,
   "id": "1e6525a3",
   "metadata": {},
   "outputs": [
    {
     "data": {
      "text/plain": [
       "petrol      260911\n",
       "unknown      14050\n",
       "lpg           4476\n",
       "cng            482\n",
       "hybrid         203\n",
       "other           49\n",
       "electric        32\n",
       "Name: fuel_type, dtype: int64"
      ]
     },
     "execution_count": 22,
     "metadata": {},
     "output_type": "execute_result"
    }
   ],
   "source": [
    "#petrol и gasoline - это бензин, приведем к 1му наименованию\n",
    "df['fuel_type'].mask(df['fuel_type'] == 'gasoline', 'petrol', inplace=True)\n",
    "#проверим значения в столбце 'fuel_type'\n",
    "df['fuel_type'].value_counts()"
   ]
  },
  {
   "cell_type": "markdown",
   "id": "eb9687a2",
   "metadata": {},
   "source": [
    "Привели тип топлива к одному названию (в США и Англии по разному называют бензин)."
   ]
  },
  {
   "cell_type": "code",
   "execution_count": 23,
   "id": "e2654c01",
   "metadata": {},
   "outputs": [
    {
     "data": {
      "text/plain": [
       "(280203, 11)"
      ]
     },
     "execution_count": 23,
     "metadata": {},
     "output_type": "execute_result"
    }
   ],
   "source": [
    "#удалим ненужные для обучения столбцы\n",
    "df = df.drop(['date_crawled', 'date_created', 'number_of_pictures', 'postal_code', 'last_seen'], axis=1)\n",
    "#обновленный размер датафрейма\n",
    "df.shape"
   ]
  },
  {
   "cell_type": "code",
   "execution_count": 24,
   "id": "2adcbdff",
   "metadata": {},
   "outputs": [
    {
     "data": {
      "text/plain": [
       "price                 1.000000\n",
       "registration_year     0.517292\n",
       "power                 0.508296\n",
       "kilometer            -0.399251\n",
       "registration_month    0.013993\n",
       "Name: price, dtype: float64"
      ]
     },
     "execution_count": 24,
     "metadata": {},
     "output_type": "execute_result"
    }
   ],
   "source": [
    "#посмотрим корреляцию со столбцом 'price'\n",
    "df.corr()['price']"
   ]
  },
  {
   "cell_type": "markdown",
   "id": "c3adc1b8",
   "metadata": {},
   "source": [
    "В данном разделе были найдены и отсечены аномалии в столбцах `power`, `price`, `registration_year`, `registration_month`. Были удалены явные дубликаты в данных. Пропуски в данных были заполнены значением _\"unknown\"_. В столбце `fuel_type` привели тип топлива к одному названию (**petrol**). Далее были удалены ненужные для обучения модели столбцы. Кроме того, была рассмотрена корреляция столбца `price` по отношению к другим столбцам. Со столбцами `price`, `registration_year` есть умеренная корреляция, со столбцом `kilometer` - слабая обратная корреляция. "
   ]
  },
  {
   "cell_type": "markdown",
   "id": "711cfcc2",
   "metadata": {},
   "source": [
    "## Подготовка выборок для обучения моделей"
   ]
  },
  {
   "cell_type": "markdown",
   "id": "6689fe21",
   "metadata": {},
   "source": [
    "### Подготовка выборок для линейной регрессии"
   ]
  },
  {
   "cell_type": "code",
   "execution_count": 25,
   "id": "cbad7dbe",
   "metadata": {},
   "outputs": [
    {
     "name": "stdout",
     "output_type": "stream",
     "text": [
      "(168121, 10)\n",
      "(168121,)\n",
      "\n",
      "(56041, 10)\n",
      "(56041,)\n",
      "\n",
      "(56041, 10)\n",
      "(56041,)\n"
     ]
    }
   ],
   "source": [
    "#разделим данные на признаки и целевой признак\n",
    "features = df.drop(['price'], axis=1)\n",
    "target = df['price']\n",
    "\n",
    "#разделим выборки на обучающую 80% и валидационную 20%\n",
    "features_train, features_valid, target_train, target_valid = train_test_split(\n",
    "    features, target, test_size=0.2, random_state=12345\n",
    ")\n",
    "#разделим выборки на обучающую 60% и тестовую 20%\n",
    "features_train, features_test, target_train, target_test = train_test_split(\n",
    "    features_train, target_train, test_size=0.25, random_state=12345\n",
    ")\n",
    "\n",
    "\n",
    "#проверим размеры выборок\n",
    "print(features_train.shape)\n",
    "print(target_train.shape)\n",
    "print()\n",
    "print(features_valid.shape)\n",
    "print(target_valid.shape)\n",
    "print()\n",
    "print(features_test.shape)\n",
    "print(target_test.shape)"
   ]
  },
  {
   "cell_type": "code",
   "execution_count": 26,
   "id": "546e66e6",
   "metadata": {},
   "outputs": [],
   "source": [
    "#создадим переменные для кодирования выборок\n",
    "features_train_lin = features_train.copy()\n",
    "features_valid_lin = features_valid.copy()\n",
    "features_test_lin = features_test.copy()"
   ]
  },
  {
   "cell_type": "code",
   "execution_count": 27,
   "id": "9c2878d9",
   "metadata": {},
   "outputs": [
    {
     "name": "stdout",
     "output_type": "stream",
     "text": [
      "['vehicle_type', 'gearbox', 'model', 'fuel_type', 'brand', 'repaired']\n"
     ]
    }
   ],
   "source": [
    "#категориальные признаки для OHE\n",
    "ohe_features_lin = features_train_lin.select_dtypes(include='object').columns.to_list()\n",
    "print(ohe_features_lin)"
   ]
  },
  {
   "cell_type": "code",
   "execution_count": 28,
   "id": "5a38e618",
   "metadata": {},
   "outputs": [
    {
     "data": {
      "text/plain": [
       "['registration_year', 'power', 'kilometer', 'registration_month']"
      ]
     },
     "execution_count": 28,
     "metadata": {},
     "output_type": "execute_result"
    }
   ],
   "source": [
    "#численные признаки\n",
    "num_features = features_train_lin.select_dtypes(exclude='object').columns.to_list()\n",
    "num_features"
   ]
  },
  {
   "cell_type": "code",
   "execution_count": 29,
   "id": "29d9e37c",
   "metadata": {},
   "outputs": [
    {
     "data": {
      "text/html": [
       "<div>\n",
       "<style scoped>\n",
       "    .dataframe tbody tr th:only-of-type {\n",
       "        vertical-align: middle;\n",
       "    }\n",
       "\n",
       "    .dataframe tbody tr th {\n",
       "        vertical-align: top;\n",
       "    }\n",
       "\n",
       "    .dataframe thead th {\n",
       "        text-align: right;\n",
       "    }\n",
       "</style>\n",
       "<table border=\"1\" class=\"dataframe\">\n",
       "  <thead>\n",
       "    <tr style=\"text-align: right;\">\n",
       "      <th></th>\n",
       "      <th>vehicle_type_convertible</th>\n",
       "      <th>vehicle_type_coupe</th>\n",
       "      <th>vehicle_type_other</th>\n",
       "      <th>vehicle_type_sedan</th>\n",
       "      <th>vehicle_type_small</th>\n",
       "      <th>vehicle_type_suv</th>\n",
       "      <th>vehicle_type_unknown</th>\n",
       "      <th>vehicle_type_wagon</th>\n",
       "      <th>gearbox_manual</th>\n",
       "      <th>gearbox_unknown</th>\n",
       "      <th>...</th>\n",
       "      <th>brand_toyota</th>\n",
       "      <th>brand_trabant</th>\n",
       "      <th>brand_volkswagen</th>\n",
       "      <th>brand_volvo</th>\n",
       "      <th>repaired_unknown</th>\n",
       "      <th>repaired_yes</th>\n",
       "      <th>registration_year</th>\n",
       "      <th>power</th>\n",
       "      <th>kilometer</th>\n",
       "      <th>registration_month</th>\n",
       "    </tr>\n",
       "  </thead>\n",
       "  <tbody>\n",
       "    <tr>\n",
       "      <th>0</th>\n",
       "      <td>0.0</td>\n",
       "      <td>0.0</td>\n",
       "      <td>0.0</td>\n",
       "      <td>1.0</td>\n",
       "      <td>0.0</td>\n",
       "      <td>0.0</td>\n",
       "      <td>0.0</td>\n",
       "      <td>0.0</td>\n",
       "      <td>1.0</td>\n",
       "      <td>0.0</td>\n",
       "      <td>...</td>\n",
       "      <td>0.0</td>\n",
       "      <td>0.0</td>\n",
       "      <td>0.0</td>\n",
       "      <td>0.0</td>\n",
       "      <td>1.0</td>\n",
       "      <td>0.0</td>\n",
       "      <td>-0.763149</td>\n",
       "      <td>-0.385831</td>\n",
       "      <td>0.593204</td>\n",
       "      <td>-0.413674</td>\n",
       "    </tr>\n",
       "    <tr>\n",
       "      <th>1</th>\n",
       "      <td>0.0</td>\n",
       "      <td>0.0</td>\n",
       "      <td>0.0</td>\n",
       "      <td>0.0</td>\n",
       "      <td>0.0</td>\n",
       "      <td>0.0</td>\n",
       "      <td>0.0</td>\n",
       "      <td>0.0</td>\n",
       "      <td>1.0</td>\n",
       "      <td>0.0</td>\n",
       "      <td>...</td>\n",
       "      <td>0.0</td>\n",
       "      <td>0.0</td>\n",
       "      <td>0.0</td>\n",
       "      <td>0.0</td>\n",
       "      <td>0.0</td>\n",
       "      <td>0.0</td>\n",
       "      <td>1.024758</td>\n",
       "      <td>-0.328990</td>\n",
       "      <td>-1.874471</td>\n",
       "      <td>0.481051</td>\n",
       "    </tr>\n",
       "    <tr>\n",
       "      <th>2</th>\n",
       "      <td>0.0</td>\n",
       "      <td>0.0</td>\n",
       "      <td>0.0</td>\n",
       "      <td>1.0</td>\n",
       "      <td>0.0</td>\n",
       "      <td>0.0</td>\n",
       "      <td>0.0</td>\n",
       "      <td>0.0</td>\n",
       "      <td>0.0</td>\n",
       "      <td>0.0</td>\n",
       "      <td>...</td>\n",
       "      <td>0.0</td>\n",
       "      <td>0.0</td>\n",
       "      <td>0.0</td>\n",
       "      <td>0.0</td>\n",
       "      <td>0.0</td>\n",
       "      <td>0.0</td>\n",
       "      <td>-0.763149</td>\n",
       "      <td>0.523623</td>\n",
       "      <td>0.593204</td>\n",
       "      <td>0.779293</td>\n",
       "    </tr>\n",
       "    <tr>\n",
       "      <th>3</th>\n",
       "      <td>0.0</td>\n",
       "      <td>0.0</td>\n",
       "      <td>0.0</td>\n",
       "      <td>0.0</td>\n",
       "      <td>0.0</td>\n",
       "      <td>0.0</td>\n",
       "      <td>0.0</td>\n",
       "      <td>0.0</td>\n",
       "      <td>1.0</td>\n",
       "      <td>0.0</td>\n",
       "      <td>...</td>\n",
       "      <td>0.0</td>\n",
       "      <td>0.0</td>\n",
       "      <td>0.0</td>\n",
       "      <td>0.0</td>\n",
       "      <td>1.0</td>\n",
       "      <td>0.0</td>\n",
       "      <td>-1.250760</td>\n",
       "      <td>-0.461619</td>\n",
       "      <td>0.593204</td>\n",
       "      <td>1.077535</td>\n",
       "    </tr>\n",
       "    <tr>\n",
       "      <th>4</th>\n",
       "      <td>0.0</td>\n",
       "      <td>0.0</td>\n",
       "      <td>0.0</td>\n",
       "      <td>0.0</td>\n",
       "      <td>0.0</td>\n",
       "      <td>0.0</td>\n",
       "      <td>0.0</td>\n",
       "      <td>0.0</td>\n",
       "      <td>1.0</td>\n",
       "      <td>0.0</td>\n",
       "      <td>...</td>\n",
       "      <td>0.0</td>\n",
       "      <td>0.0</td>\n",
       "      <td>1.0</td>\n",
       "      <td>0.0</td>\n",
       "      <td>0.0</td>\n",
       "      <td>0.0</td>\n",
       "      <td>-1.575834</td>\n",
       "      <td>-0.916346</td>\n",
       "      <td>0.593204</td>\n",
       "      <td>0.182810</td>\n",
       "    </tr>\n",
       "  </tbody>\n",
       "</table>\n",
       "<p>5 rows × 308 columns</p>\n",
       "</div>"
      ],
      "text/plain": [
       "   vehicle_type_convertible  vehicle_type_coupe  vehicle_type_other  \\\n",
       "0                       0.0                 0.0                 0.0   \n",
       "1                       0.0                 0.0                 0.0   \n",
       "2                       0.0                 0.0                 0.0   \n",
       "3                       0.0                 0.0                 0.0   \n",
       "4                       0.0                 0.0                 0.0   \n",
       "\n",
       "   vehicle_type_sedan  vehicle_type_small  vehicle_type_suv  \\\n",
       "0                 1.0                 0.0               0.0   \n",
       "1                 0.0                 0.0               0.0   \n",
       "2                 1.0                 0.0               0.0   \n",
       "3                 0.0                 0.0               0.0   \n",
       "4                 0.0                 0.0               0.0   \n",
       "\n",
       "   vehicle_type_unknown  vehicle_type_wagon  gearbox_manual  gearbox_unknown  \\\n",
       "0                   0.0                 0.0             1.0              0.0   \n",
       "1                   0.0                 0.0             1.0              0.0   \n",
       "2                   0.0                 0.0             0.0              0.0   \n",
       "3                   0.0                 0.0             1.0              0.0   \n",
       "4                   0.0                 0.0             1.0              0.0   \n",
       "\n",
       "   ...  brand_toyota  brand_trabant  brand_volkswagen  brand_volvo  \\\n",
       "0  ...           0.0            0.0               0.0          0.0   \n",
       "1  ...           0.0            0.0               0.0          0.0   \n",
       "2  ...           0.0            0.0               0.0          0.0   \n",
       "3  ...           0.0            0.0               0.0          0.0   \n",
       "4  ...           0.0            0.0               1.0          0.0   \n",
       "\n",
       "   repaired_unknown  repaired_yes  registration_year     power  kilometer  \\\n",
       "0               1.0           0.0          -0.763149 -0.385831   0.593204   \n",
       "1               0.0           0.0           1.024758 -0.328990  -1.874471   \n",
       "2               0.0           0.0          -0.763149  0.523623   0.593204   \n",
       "3               1.0           0.0          -1.250760 -0.461619   0.593204   \n",
       "4               0.0           0.0          -1.575834 -0.916346   0.593204   \n",
       "\n",
       "   registration_month  \n",
       "0           -0.413674  \n",
       "1            0.481051  \n",
       "2            0.779293  \n",
       "3            1.077535  \n",
       "4            0.182810  \n",
       "\n",
       "[5 rows x 308 columns]"
      ]
     },
     "execution_count": 29,
     "metadata": {},
     "output_type": "execute_result"
    }
   ],
   "source": [
    "#закодируем категориальные и численные признаки для линейной регрессии\n",
    "col_transformer_lin = make_column_transformer(\n",
    "    (\n",
    "        OneHotEncoder(drop='first', handle_unknown='ignore'),\n",
    "        ohe_features_lin\n",
    "    ),\n",
    "    (\n",
    "        StandardScaler(), \n",
    "        num_features\n",
    "    ),\n",
    "    remainder='passthrough',\n",
    "    verbose_feature_names_out=False\n",
    ")\n",
    "\n",
    "# всё готово в пару строк кода\n",
    "features_train_lin = pd.DataFrame.sparse.from_spmatrix(\n",
    "    col_transformer_lin.fit_transform(features_train_lin),\n",
    "    columns=col_transformer_lin.get_feature_names_out()\n",
    ")\n",
    "\n",
    "# смотрим на результат\n",
    "features_train_lin.head()"
   ]
  },
  {
   "cell_type": "code",
   "execution_count": 30,
   "id": "d6dae23d",
   "metadata": {},
   "outputs": [
    {
     "data": {
      "text/html": [
       "<div>\n",
       "<style scoped>\n",
       "    .dataframe tbody tr th:only-of-type {\n",
       "        vertical-align: middle;\n",
       "    }\n",
       "\n",
       "    .dataframe tbody tr th {\n",
       "        vertical-align: top;\n",
       "    }\n",
       "\n",
       "    .dataframe thead th {\n",
       "        text-align: right;\n",
       "    }\n",
       "</style>\n",
       "<table border=\"1\" class=\"dataframe\">\n",
       "  <thead>\n",
       "    <tr style=\"text-align: right;\">\n",
       "      <th></th>\n",
       "      <th>vehicle_type_convertible</th>\n",
       "      <th>vehicle_type_coupe</th>\n",
       "      <th>vehicle_type_other</th>\n",
       "      <th>vehicle_type_sedan</th>\n",
       "      <th>vehicle_type_small</th>\n",
       "      <th>vehicle_type_suv</th>\n",
       "      <th>vehicle_type_unknown</th>\n",
       "      <th>vehicle_type_wagon</th>\n",
       "      <th>gearbox_manual</th>\n",
       "      <th>gearbox_unknown</th>\n",
       "      <th>...</th>\n",
       "      <th>brand_toyota</th>\n",
       "      <th>brand_trabant</th>\n",
       "      <th>brand_volkswagen</th>\n",
       "      <th>brand_volvo</th>\n",
       "      <th>repaired_unknown</th>\n",
       "      <th>repaired_yes</th>\n",
       "      <th>registration_year</th>\n",
       "      <th>power</th>\n",
       "      <th>kilometer</th>\n",
       "      <th>registration_month</th>\n",
       "    </tr>\n",
       "  </thead>\n",
       "  <tbody>\n",
       "    <tr>\n",
       "      <th>0</th>\n",
       "      <td>0.0</td>\n",
       "      <td>0.0</td>\n",
       "      <td>0.0</td>\n",
       "      <td>1.0</td>\n",
       "      <td>0.0</td>\n",
       "      <td>0.0</td>\n",
       "      <td>0.0</td>\n",
       "      <td>0.0</td>\n",
       "      <td>1.0</td>\n",
       "      <td>0.0</td>\n",
       "      <td>...</td>\n",
       "      <td>0.0</td>\n",
       "      <td>0.0</td>\n",
       "      <td>1.0</td>\n",
       "      <td>0.0</td>\n",
       "      <td>0.0</td>\n",
       "      <td>0.0</td>\n",
       "      <td>0.862221</td>\n",
       "      <td>-0.802664</td>\n",
       "      <td>-1.600285</td>\n",
       "      <td>-0.115432</td>\n",
       "    </tr>\n",
       "    <tr>\n",
       "      <th>1</th>\n",
       "      <td>0.0</td>\n",
       "      <td>0.0</td>\n",
       "      <td>0.0</td>\n",
       "      <td>0.0</td>\n",
       "      <td>0.0</td>\n",
       "      <td>0.0</td>\n",
       "      <td>0.0</td>\n",
       "      <td>1.0</td>\n",
       "      <td>1.0</td>\n",
       "      <td>0.0</td>\n",
       "      <td>...</td>\n",
       "      <td>0.0</td>\n",
       "      <td>0.0</td>\n",
       "      <td>0.0</td>\n",
       "      <td>0.0</td>\n",
       "      <td>0.0</td>\n",
       "      <td>0.0</td>\n",
       "      <td>-0.438075</td>\n",
       "      <td>0.523623</td>\n",
       "      <td>0.593204</td>\n",
       "      <td>1.375777</td>\n",
       "    </tr>\n",
       "    <tr>\n",
       "      <th>2</th>\n",
       "      <td>0.0</td>\n",
       "      <td>0.0</td>\n",
       "      <td>0.0</td>\n",
       "      <td>0.0</td>\n",
       "      <td>1.0</td>\n",
       "      <td>0.0</td>\n",
       "      <td>0.0</td>\n",
       "      <td>0.0</td>\n",
       "      <td>1.0</td>\n",
       "      <td>0.0</td>\n",
       "      <td>...</td>\n",
       "      <td>0.0</td>\n",
       "      <td>0.0</td>\n",
       "      <td>0.0</td>\n",
       "      <td>0.0</td>\n",
       "      <td>0.0</td>\n",
       "      <td>0.0</td>\n",
       "      <td>-0.438075</td>\n",
       "      <td>-0.764771</td>\n",
       "      <td>0.593204</td>\n",
       "      <td>-1.308400</td>\n",
       "    </tr>\n",
       "    <tr>\n",
       "      <th>3</th>\n",
       "      <td>0.0</td>\n",
       "      <td>0.0</td>\n",
       "      <td>0.0</td>\n",
       "      <td>0.0</td>\n",
       "      <td>0.0</td>\n",
       "      <td>0.0</td>\n",
       "      <td>0.0</td>\n",
       "      <td>0.0</td>\n",
       "      <td>0.0</td>\n",
       "      <td>0.0</td>\n",
       "      <td>...</td>\n",
       "      <td>0.0</td>\n",
       "      <td>0.0</td>\n",
       "      <td>1.0</td>\n",
       "      <td>0.0</td>\n",
       "      <td>0.0</td>\n",
       "      <td>0.0</td>\n",
       "      <td>0.374610</td>\n",
       "      <td>0.334153</td>\n",
       "      <td>0.593204</td>\n",
       "      <td>-0.711916</td>\n",
       "    </tr>\n",
       "    <tr>\n",
       "      <th>4</th>\n",
       "      <td>0.0</td>\n",
       "      <td>0.0</td>\n",
       "      <td>0.0</td>\n",
       "      <td>0.0</td>\n",
       "      <td>0.0</td>\n",
       "      <td>0.0</td>\n",
       "      <td>1.0</td>\n",
       "      <td>0.0</td>\n",
       "      <td>1.0</td>\n",
       "      <td>0.0</td>\n",
       "      <td>...</td>\n",
       "      <td>0.0</td>\n",
       "      <td>0.0</td>\n",
       "      <td>0.0</td>\n",
       "      <td>0.0</td>\n",
       "      <td>1.0</td>\n",
       "      <td>0.0</td>\n",
       "      <td>-0.600612</td>\n",
       "      <td>-0.385831</td>\n",
       "      <td>0.593204</td>\n",
       "      <td>0.481051</td>\n",
       "    </tr>\n",
       "  </tbody>\n",
       "</table>\n",
       "<p>5 rows × 308 columns</p>\n",
       "</div>"
      ],
      "text/plain": [
       "   vehicle_type_convertible  vehicle_type_coupe  vehicle_type_other  \\\n",
       "0                       0.0                 0.0                 0.0   \n",
       "1                       0.0                 0.0                 0.0   \n",
       "2                       0.0                 0.0                 0.0   \n",
       "3                       0.0                 0.0                 0.0   \n",
       "4                       0.0                 0.0                 0.0   \n",
       "\n",
       "   vehicle_type_sedan  vehicle_type_small  vehicle_type_suv  \\\n",
       "0                 1.0                 0.0               0.0   \n",
       "1                 0.0                 0.0               0.0   \n",
       "2                 0.0                 1.0               0.0   \n",
       "3                 0.0                 0.0               0.0   \n",
       "4                 0.0                 0.0               0.0   \n",
       "\n",
       "   vehicle_type_unknown  vehicle_type_wagon  gearbox_manual  gearbox_unknown  \\\n",
       "0                   0.0                 0.0             1.0              0.0   \n",
       "1                   0.0                 1.0             1.0              0.0   \n",
       "2                   0.0                 0.0             1.0              0.0   \n",
       "3                   0.0                 0.0             0.0              0.0   \n",
       "4                   1.0                 0.0             1.0              0.0   \n",
       "\n",
       "   ...  brand_toyota  brand_trabant  brand_volkswagen  brand_volvo  \\\n",
       "0  ...           0.0            0.0               1.0          0.0   \n",
       "1  ...           0.0            0.0               0.0          0.0   \n",
       "2  ...           0.0            0.0               0.0          0.0   \n",
       "3  ...           0.0            0.0               1.0          0.0   \n",
       "4  ...           0.0            0.0               0.0          0.0   \n",
       "\n",
       "   repaired_unknown  repaired_yes  registration_year     power  kilometer  \\\n",
       "0               0.0           0.0           0.862221 -0.802664  -1.600285   \n",
       "1               0.0           0.0          -0.438075  0.523623   0.593204   \n",
       "2               0.0           0.0          -0.438075 -0.764771   0.593204   \n",
       "3               0.0           0.0           0.374610  0.334153   0.593204   \n",
       "4               1.0           0.0          -0.600612 -0.385831   0.593204   \n",
       "\n",
       "   registration_month  \n",
       "0           -0.115432  \n",
       "1            1.375777  \n",
       "2           -1.308400  \n",
       "3           -0.711916  \n",
       "4            0.481051  \n",
       "\n",
       "[5 rows x 308 columns]"
      ]
     },
     "execution_count": 30,
     "metadata": {},
     "output_type": "execute_result"
    }
   ],
   "source": [
    "# трансформируем валидационную выборку\n",
    "features_valid_lin = pd.DataFrame.sparse.from_spmatrix(\n",
    "    col_transformer_lin.transform(features_valid_lin),\n",
    "    columns=col_transformer_lin.get_feature_names_out()\n",
    ")\n",
    "\n",
    "# смотрим на результат\n",
    "features_valid_lin.head()"
   ]
  },
  {
   "cell_type": "code",
   "execution_count": 31,
   "id": "01572b8f",
   "metadata": {},
   "outputs": [
    {
     "data": {
      "text/html": [
       "<div>\n",
       "<style scoped>\n",
       "    .dataframe tbody tr th:only-of-type {\n",
       "        vertical-align: middle;\n",
       "    }\n",
       "\n",
       "    .dataframe tbody tr th {\n",
       "        vertical-align: top;\n",
       "    }\n",
       "\n",
       "    .dataframe thead th {\n",
       "        text-align: right;\n",
       "    }\n",
       "</style>\n",
       "<table border=\"1\" class=\"dataframe\">\n",
       "  <thead>\n",
       "    <tr style=\"text-align: right;\">\n",
       "      <th></th>\n",
       "      <th>vehicle_type_convertible</th>\n",
       "      <th>vehicle_type_coupe</th>\n",
       "      <th>vehicle_type_other</th>\n",
       "      <th>vehicle_type_sedan</th>\n",
       "      <th>vehicle_type_small</th>\n",
       "      <th>vehicle_type_suv</th>\n",
       "      <th>vehicle_type_unknown</th>\n",
       "      <th>vehicle_type_wagon</th>\n",
       "      <th>gearbox_manual</th>\n",
       "      <th>gearbox_unknown</th>\n",
       "      <th>...</th>\n",
       "      <th>brand_toyota</th>\n",
       "      <th>brand_trabant</th>\n",
       "      <th>brand_volkswagen</th>\n",
       "      <th>brand_volvo</th>\n",
       "      <th>repaired_unknown</th>\n",
       "      <th>repaired_yes</th>\n",
       "      <th>registration_year</th>\n",
       "      <th>power</th>\n",
       "      <th>kilometer</th>\n",
       "      <th>registration_month</th>\n",
       "    </tr>\n",
       "  </thead>\n",
       "  <tbody>\n",
       "    <tr>\n",
       "      <th>0</th>\n",
       "      <td>0.0</td>\n",
       "      <td>0.0</td>\n",
       "      <td>0.0</td>\n",
       "      <td>0.0</td>\n",
       "      <td>1.0</td>\n",
       "      <td>0.0</td>\n",
       "      <td>0.0</td>\n",
       "      <td>0.0</td>\n",
       "      <td>1.0</td>\n",
       "      <td>0.0</td>\n",
       "      <td>...</td>\n",
       "      <td>0.0</td>\n",
       "      <td>0.0</td>\n",
       "      <td>0.0</td>\n",
       "      <td>0.0</td>\n",
       "      <td>0.0</td>\n",
       "      <td>1.0</td>\n",
       "      <td>0.049536</td>\n",
       "      <td>-0.253203</td>\n",
       "      <td>-0.092261</td>\n",
       "      <td>1.077535</td>\n",
       "    </tr>\n",
       "    <tr>\n",
       "      <th>1</th>\n",
       "      <td>0.0</td>\n",
       "      <td>0.0</td>\n",
       "      <td>0.0</td>\n",
       "      <td>0.0</td>\n",
       "      <td>0.0</td>\n",
       "      <td>1.0</td>\n",
       "      <td>0.0</td>\n",
       "      <td>0.0</td>\n",
       "      <td>1.0</td>\n",
       "      <td>0.0</td>\n",
       "      <td>...</td>\n",
       "      <td>0.0</td>\n",
       "      <td>0.0</td>\n",
       "      <td>1.0</td>\n",
       "      <td>0.0</td>\n",
       "      <td>0.0</td>\n",
       "      <td>0.0</td>\n",
       "      <td>0.862221</td>\n",
       "      <td>0.902562</td>\n",
       "      <td>0.593204</td>\n",
       "      <td>-1.010158</td>\n",
       "    </tr>\n",
       "    <tr>\n",
       "      <th>2</th>\n",
       "      <td>0.0</td>\n",
       "      <td>0.0</td>\n",
       "      <td>0.0</td>\n",
       "      <td>0.0</td>\n",
       "      <td>0.0</td>\n",
       "      <td>0.0</td>\n",
       "      <td>0.0</td>\n",
       "      <td>1.0</td>\n",
       "      <td>1.0</td>\n",
       "      <td>0.0</td>\n",
       "      <td>...</td>\n",
       "      <td>1.0</td>\n",
       "      <td>0.0</td>\n",
       "      <td>0.0</td>\n",
       "      <td>0.0</td>\n",
       "      <td>1.0</td>\n",
       "      <td>0.0</td>\n",
       "      <td>0.212073</td>\n",
       "      <td>1.035191</td>\n",
       "      <td>0.593204</td>\n",
       "      <td>1.375777</td>\n",
       "    </tr>\n",
       "    <tr>\n",
       "      <th>3</th>\n",
       "      <td>0.0</td>\n",
       "      <td>0.0</td>\n",
       "      <td>0.0</td>\n",
       "      <td>1.0</td>\n",
       "      <td>0.0</td>\n",
       "      <td>0.0</td>\n",
       "      <td>0.0</td>\n",
       "      <td>0.0</td>\n",
       "      <td>1.0</td>\n",
       "      <td>0.0</td>\n",
       "      <td>...</td>\n",
       "      <td>0.0</td>\n",
       "      <td>0.0</td>\n",
       "      <td>0.0</td>\n",
       "      <td>0.0</td>\n",
       "      <td>0.0</td>\n",
       "      <td>0.0</td>\n",
       "      <td>0.537147</td>\n",
       "      <td>-0.518460</td>\n",
       "      <td>0.593204</td>\n",
       "      <td>-1.606642</td>\n",
       "    </tr>\n",
       "    <tr>\n",
       "      <th>4</th>\n",
       "      <td>1.0</td>\n",
       "      <td>0.0</td>\n",
       "      <td>0.0</td>\n",
       "      <td>0.0</td>\n",
       "      <td>0.0</td>\n",
       "      <td>0.0</td>\n",
       "      <td>0.0</td>\n",
       "      <td>0.0</td>\n",
       "      <td>1.0</td>\n",
       "      <td>0.0</td>\n",
       "      <td>...</td>\n",
       "      <td>0.0</td>\n",
       "      <td>0.0</td>\n",
       "      <td>0.0</td>\n",
       "      <td>0.0</td>\n",
       "      <td>0.0</td>\n",
       "      <td>0.0</td>\n",
       "      <td>-0.925686</td>\n",
       "      <td>0.049949</td>\n",
       "      <td>-0.092261</td>\n",
       "      <td>0.481051</td>\n",
       "    </tr>\n",
       "  </tbody>\n",
       "</table>\n",
       "<p>5 rows × 308 columns</p>\n",
       "</div>"
      ],
      "text/plain": [
       "   vehicle_type_convertible  vehicle_type_coupe  vehicle_type_other  \\\n",
       "0                       0.0                 0.0                 0.0   \n",
       "1                       0.0                 0.0                 0.0   \n",
       "2                       0.0                 0.0                 0.0   \n",
       "3                       0.0                 0.0                 0.0   \n",
       "4                       1.0                 0.0                 0.0   \n",
       "\n",
       "   vehicle_type_sedan  vehicle_type_small  vehicle_type_suv  \\\n",
       "0                 0.0                 1.0               0.0   \n",
       "1                 0.0                 0.0               1.0   \n",
       "2                 0.0                 0.0               0.0   \n",
       "3                 1.0                 0.0               0.0   \n",
       "4                 0.0                 0.0               0.0   \n",
       "\n",
       "   vehicle_type_unknown  vehicle_type_wagon  gearbox_manual  gearbox_unknown  \\\n",
       "0                   0.0                 0.0             1.0              0.0   \n",
       "1                   0.0                 0.0             1.0              0.0   \n",
       "2                   0.0                 1.0             1.0              0.0   \n",
       "3                   0.0                 0.0             1.0              0.0   \n",
       "4                   0.0                 0.0             1.0              0.0   \n",
       "\n",
       "   ...  brand_toyota  brand_trabant  brand_volkswagen  brand_volvo  \\\n",
       "0  ...           0.0            0.0               0.0          0.0   \n",
       "1  ...           0.0            0.0               1.0          0.0   \n",
       "2  ...           1.0            0.0               0.0          0.0   \n",
       "3  ...           0.0            0.0               0.0          0.0   \n",
       "4  ...           0.0            0.0               0.0          0.0   \n",
       "\n",
       "   repaired_unknown  repaired_yes  registration_year     power  kilometer  \\\n",
       "0               0.0           1.0           0.049536 -0.253203  -0.092261   \n",
       "1               0.0           0.0           0.862221  0.902562   0.593204   \n",
       "2               1.0           0.0           0.212073  1.035191   0.593204   \n",
       "3               0.0           0.0           0.537147 -0.518460   0.593204   \n",
       "4               0.0           0.0          -0.925686  0.049949  -0.092261   \n",
       "\n",
       "   registration_month  \n",
       "0            1.077535  \n",
       "1           -1.010158  \n",
       "2            1.375777  \n",
       "3           -1.606642  \n",
       "4            0.481051  \n",
       "\n",
       "[5 rows x 308 columns]"
      ]
     },
     "execution_count": 31,
     "metadata": {},
     "output_type": "execute_result"
    }
   ],
   "source": [
    "# трансформируем тестовую выборку\n",
    "features_test_lin = pd.DataFrame.sparse.from_spmatrix(\n",
    "    col_transformer_lin.transform(features_test_lin),\n",
    "    columns=col_transformer_lin.get_feature_names_out()\n",
    ")\n",
    "\n",
    "# смотрим на результат\n",
    "features_test_lin.head()"
   ]
  },
  {
   "cell_type": "markdown",
   "id": "9aeb364a",
   "metadata": {},
   "source": [
    "В данном пункте было выполнено прямое кодирование _OneHotEncoder_ для категориальных признаков и масштабирование _StandardScaler_ для численных признаков для линейной регрессии."
   ]
  },
  {
   "cell_type": "markdown",
   "id": "cc79bc23",
   "metadata": {},
   "source": [
    "### Подготовка выборок для моделей градиентного бустинга"
   ]
  },
  {
   "cell_type": "code",
   "execution_count": 32,
   "id": "94cc8281",
   "metadata": {},
   "outputs": [
    {
     "name": "stdout",
     "output_type": "stream",
     "text": [
      "(168121, 10)\n",
      "(168121,)\n",
      "\n",
      "(56041, 10)\n",
      "(56041,)\n",
      "\n",
      "(56041, 10)\n",
      "(56041,)\n"
     ]
    }
   ],
   "source": [
    "#создадим переменные для моделей градиентного бустинга\n",
    "\n",
    "features_train_b = features_train.copy()\n",
    "target_train_b = target_train.copy()\n",
    "\n",
    "features_valid_b = features_valid.copy()\n",
    "target_valid_b = target_valid.copy()\n",
    "\n",
    "features_test_b = features_test.copy()\n",
    "target_test_b = target_test.copy()\n",
    "\n",
    "#проверим размеры выборок\n",
    "print(features_train_b.shape)\n",
    "print(target_train_b.shape)\n",
    "print()\n",
    "print(features_valid_b.shape)\n",
    "print(target_valid_b.shape)\n",
    "print()\n",
    "print(features_test_b.shape)\n",
    "print(target_test_b.shape)"
   ]
  },
  {
   "cell_type": "markdown",
   "id": "f5c682ea",
   "metadata": {},
   "source": [
    "В данном разделе из выборок были выделены признаки и целевой признак. Далее выборки были разделены на тренировочную (_60%_), валидационную(_20%_) и тестовую части(_20%_).  Было выполнено прямое кодирование _OneHotEncoder_ для категориальных признаков и масштабирование _StandardScaler_ для численных признаков для линейной регрессии."
   ]
  },
  {
   "cell_type": "markdown",
   "id": "01c0a8ee",
   "metadata": {},
   "source": [
    "## Обучение разных моделей"
   ]
  },
  {
   "cell_type": "markdown",
   "id": "cde827c1",
   "metadata": {},
   "source": [
    "### Модель LinearRegression"
   ]
  },
  {
   "cell_type": "code",
   "execution_count": 33,
   "id": "e67a174a",
   "metadata": {},
   "outputs": [
    {
     "name": "stdout",
     "output_type": "stream",
     "text": [
      "LinearRegression(n_jobs=-1)\n",
      "Время обучения: 35.969\n",
      "Время предсказания: 0.016\n",
      "RMSE: 2428\n"
     ]
    }
   ],
   "source": [
    "#обучим модель LinearRegression\n",
    "estimator = LinearRegression()\n",
    "param_grid= {\n",
    "    'n_jobs': [-1]\n",
    "}\n",
    "model = GridSearchCV(estimator=estimator, \n",
    "                     param_grid=param_grid, \n",
    "                     scoring='neg_root_mean_squared_error',\n",
    "                     cv=5)\n",
    "\n",
    "start_fit = time.time()\n",
    "\n",
    "model.fit(features_train_lin, target_train)\n",
    "\n",
    "end_fit = time.time()\n",
    "\n",
    "\n",
    "best_model_lr = model.best_estimator_\n",
    "print(best_model_lr)\n",
    "\n",
    "start_pred = time.time()\n",
    "\n",
    "predictions = best_model_lr.predict(features_valid_lin)\n",
    "\n",
    "end_pred = time.time()\n",
    "\n",
    "time_fit_lin = end_fit - start_fit\n",
    "time_pred_lin = end_pred - start_pred\n",
    "rmse_lin = mean_squared_error(target_valid, predictions, squared=False)\n",
    "\n",
    "print('Время обучения:', f'{time_fit_lin:.3f}')\n",
    "print('Время предсказания:', f'{time_pred_lin:.3f}')\n",
    "print('RMSE:', f'{rmse_lin:.0f}')"
   ]
  },
  {
   "cell_type": "markdown",
   "id": "80cc58ef",
   "metadata": {},
   "source": [
    "### Модель CatBoostRegressor"
   ]
  },
  {
   "cell_type": "code",
   "execution_count": 34,
   "id": "47d1c464",
   "metadata": {},
   "outputs": [
    {
     "name": "stdout",
     "output_type": "stream",
     "text": [
      "{'depth': 10, 'learning_rate': 0.1}\n",
      "<catboost.core.CatBoostRegressor object at 0x0000017B741CEB50>\n",
      "Время обучения: 880.863\n",
      "Время предсказания: 0.384\n",
      "RMSE: 1538\n"
     ]
    }
   ],
   "source": [
    "#обучим модель CatBoostRegressor\n",
    "\n",
    "param_grid = {\n",
    "    'learning_rate': [0.01, 0.1],\n",
    "    'depth': [4, 6, 10]\n",
    "}\n",
    "\n",
    "estimator = CatBoostRegressor()\n",
    "\n",
    "\n",
    "cat_features = ['vehicle_type', 'gearbox', 'model', 'fuel_type', 'brand', 'repaired']\n",
    "\n",
    "\n",
    "model = GridSearchCV(estimator=estimator,\n",
    "                     param_grid=param_grid,\n",
    "                     cv=2, \n",
    "                     n_jobs=-1, \n",
    "                     scoring='neg_root_mean_squared_error')\n",
    "start_fit = time.time()\n",
    "\n",
    "model.fit(features_train_b, target_train_b, cat_features=cat_features, verbose=False)\n",
    "\n",
    "end_fit = time.time()\n",
    "\n",
    "best_model_cat = model.best_estimator_\n",
    "print(model.best_params_)\n",
    "print(best_model_cat)\n",
    "\n",
    "start_pred = time.time()\n",
    "\n",
    "predictions_cat = best_model_cat.predict(features_valid_b)\n",
    "\n",
    "end_pred = time.time()\n",
    "\n",
    "time_fit_cat = end_fit - start_fit\n",
    "time_pred_cat = end_pred - start_pred\n",
    "rmse_cat = mean_squared_error(target_valid_b, predictions_cat, squared=False)\n",
    "\n",
    "print('Время обучения:', f'{time_fit_cat:.3f}')\n",
    "print('Время предсказания:', f'{time_pred_cat:.3f}')\n",
    "print('RMSE:', f'{rmse_cat:.0  f}')"
   ]
  },
  {
   "cell_type": "markdown",
   "id": "113eb794",
   "metadata": {},
   "source": [
    "### Модель LGBMRegressor"
   ]
  },
  {
   "cell_type": "code",
   "execution_count": 35,
   "id": "c4191481",
   "metadata": {},
   "outputs": [
    {
     "name": "stdout",
     "output_type": "stream",
     "text": [
      "LGBMRegressor(max_depth=10, n_estimators=200, objective='regression',\n",
      "              random_state=12345)\n",
      "Время обучения: 51.346\n",
      "Время предсказания: 0.153\n",
      "RMSE: 1585\n"
     ]
    }
   ],
   "source": [
    "#обучим модель LGBMRegressor\n",
    "param_grid = {\n",
    "    'learning_rate': [0.01, 0.1],\n",
    "    'n_estimators': [100, 150, 200],\n",
    "    'max_depth': [4, 6, 10],\n",
    "}\n",
    "estimator = lgb.LGBMRegressor(objective='regression', random_state=12345)\n",
    "\n",
    "cat_columns = ['vehicle_type', 'gearbox', 'model', 'fuel_type', 'brand', 'repaired']\n",
    "\n",
    "features_train_b[cat_columns] = features_train_b[cat_columns].astype(\"category\")\n",
    "features_valid_b[cat_columns] = features_valid_b[cat_columns].astype(\"category\")\n",
    "\n",
    "model = GridSearchCV(estimator=estimator,\n",
    "                     param_grid=param_grid,\n",
    "                     cv=5, \n",
    "                     n_jobs=-1, \n",
    "                     scoring='neg_root_mean_squared_error')\n",
    "start_fit = time.time()\n",
    "\n",
    "model.fit(features_train_b, target_train_b)\n",
    "\n",
    "end_fit = time.time()\n",
    "\n",
    "\n",
    "best_model_lgbm = model.best_estimator_\n",
    "print(best_model_lgbm)\n",
    "\n",
    "start_pred = time.time()\n",
    "\n",
    "predictions = best_model_lgbm.predict(features_valid_b)\n",
    "\n",
    "end_pred = time.time()\n",
    "\n",
    "time_fit_lgbm = end_fit - start_fit\n",
    "time_pred_lgbm = end_pred - start_pred\n",
    "rmse_lgbm = mean_squared_error(target_valid_b, predictions, squared=False)\n",
    "\n",
    "print('Время обучения:', f'{time_fit_lgbm:.3f}')\n",
    "print('Время предсказания:', f'{time_pred_lgbm:.3f}')\n",
    "print('RMSE:', f'{rmse_lgbm:.0f}')"
   ]
  },
  {
   "cell_type": "markdown",
   "id": "8f185d03",
   "metadata": {},
   "source": [
    "### Модель XGBRegressor"
   ]
  },
  {
   "cell_type": "code",
   "execution_count": 36,
   "id": "33845ee2",
   "metadata": {},
   "outputs": [
    {
     "name": "stdout",
     "output_type": "stream",
     "text": [
      "[18:44:02] WARNING: C:/buildkite-agent/builds/buildkite-windows-cpu-autoscaling-group-i-0fc7796c793e6356f-1/xgboost/xgboost-ci-windows/src/objective/regression_obj.cu:213: reg:linear is now deprecated in favor of reg:squarederror.\n",
      "{'learning_rate': 0.1, 'max_depth': 10, 'n_estimators': 200}\n",
      "XGBRegressor(base_score=None, booster=None, callbacks=None,\n",
      "             colsample_bylevel=None, colsample_bynode=None,\n",
      "             colsample_bytree=None, early_stopping_rounds=None,\n",
      "             enable_categorical=False, eval_metric=None, feature_types=None,\n",
      "             gamma=None, gpu_id=None, grow_policy=None, importance_type=None,\n",
      "             interaction_constraints=None, learning_rate=0.1, max_bin=None,\n",
      "             max_cat_threshold=None, max_cat_to_onehot=None,\n",
      "             max_delta_step=None, max_depth=10, max_leaves=None,\n",
      "             min_child_weight=None, missing=nan, monotone_constraints=None,\n",
      "             n_estimators=200, n_jobs=None, num_parallel_tree=None,\n",
      "             objective='reg:linear', predictor=None, ...)\n",
      "Время обучения: 817.643\n",
      "Время предсказания: 0.329\n",
      "RMSE: 1559\n"
     ]
    }
   ],
   "source": [
    "#обучим модель XGBRegressor\n",
    "param_grid = {\n",
    "    'learning_rate': [0.1, 0.01],\n",
    "    'n_estimators': [100, 200],\n",
    "    'max_depth': [4, 6, 10],\n",
    "}\n",
    "\n",
    "\n",
    "estimator = XGBRegressor(objective ='reg:linear', random_state=12345)\n",
    "\n",
    "model = GridSearchCV(estimator=estimator,\n",
    "                     param_grid=param_grid,\n",
    "                     cv=2, \n",
    "                     n_jobs=-1, \n",
    "                     scoring='neg_root_mean_squared_error')\n",
    "start_fit = time.time()\n",
    "\n",
    "model.fit(features_train_lin, target_train, eval_set=[(features_valid_lin, target_valid)], \n",
    "          eval_metric = 'rmse', verbose=False)\n",
    "\n",
    "end_fit = time.time()\n",
    "\n",
    "\n",
    "best_model_xg = model.best_estimator_\n",
    "print(model.best_params_)\n",
    "print(best_model_xg)\n",
    "\n",
    "start_pred = time.time()\n",
    "\n",
    "predictions = best_model_xg.predict(features_valid_lin)\n",
    "\n",
    "end_pred = time.time()\n",
    "\n",
    "time_fit_xg = end_fit - start_fit\n",
    "time_pred_xg = end_pred - start_pred\n",
    "rmse_xg = mean_squared_error(target_valid, predictions, squared=False)\n",
    "\n",
    "print('Время обучения:', f'{time_fit_xg:.3f}')\n",
    "print('Время предсказания:', f'{time_pred_xg:.3f}')\n",
    "print('RMSE:', f'{rmse_xg:.0f}')"
   ]
  },
  {
   "cell_type": "markdown",
   "id": "ac2978c5",
   "metadata": {},
   "source": [
    "В данном разделе были обучены 4 модели и получены следующие метрики _RMSE_:\n",
    "- **LinearRegression**: 2428,\n",
    "- **CatBoostRegressor**: 1538, \n",
    "- **LGBMRegressor**: 1585,\n",
    "- **XGBRegressor**: 1559."
   ]
  },
  {
   "cell_type": "markdown",
   "id": "82ffd33c",
   "metadata": {},
   "source": [
    "## Анализ времени обучения, времени предсказания и качества моделей"
   ]
  },
  {
   "cell_type": "markdown",
   "id": "f6b8ebeb",
   "metadata": {},
   "source": [
    "Соберем данные по времени обучения, предсказания и качества моделей в таблицу."
   ]
  },
  {
   "cell_type": "code",
   "execution_count": 43,
   "id": "37489cc0",
   "metadata": {},
   "outputs": [
    {
     "data": {
      "text/html": [
       "<div>\n",
       "<style scoped>\n",
       "    .dataframe tbody tr th:only-of-type {\n",
       "        vertical-align: middle;\n",
       "    }\n",
       "\n",
       "    .dataframe tbody tr th {\n",
       "        vertical-align: top;\n",
       "    }\n",
       "\n",
       "    .dataframe thead th {\n",
       "        text-align: right;\n",
       "    }\n",
       "</style>\n",
       "<table border=\"1\" class=\"dataframe\">\n",
       "  <thead>\n",
       "    <tr style=\"text-align: right;\">\n",
       "      <th></th>\n",
       "      <th>Время обучения</th>\n",
       "      <th>Время предсказания</th>\n",
       "      <th>RMSE</th>\n",
       "    </tr>\n",
       "  </thead>\n",
       "  <tbody>\n",
       "    <tr>\n",
       "      <th>LinearRegression</th>\n",
       "      <td>35.969</td>\n",
       "      <td>0.016</td>\n",
       "      <td>2428</td>\n",
       "    </tr>\n",
       "    <tr>\n",
       "      <th>CatBoostRegressor</th>\n",
       "      <td>880.863</td>\n",
       "      <td>0.384</td>\n",
       "      <td>1538</td>\n",
       "    </tr>\n",
       "    <tr>\n",
       "      <th>LGBMRegressor</th>\n",
       "      <td>51.346</td>\n",
       "      <td>0.153</td>\n",
       "      <td>1585</td>\n",
       "    </tr>\n",
       "    <tr>\n",
       "      <th>XGBRegressor</th>\n",
       "      <td>817.643</td>\n",
       "      <td>0.329</td>\n",
       "      <td>1559</td>\n",
       "    </tr>\n",
       "  </tbody>\n",
       "</table>\n",
       "</div>"
      ],
      "text/plain": [
       "                  Время обучения Время предсказания  RMSE\n",
       "LinearRegression          35.969              0.016  2428\n",
       "CatBoostRegressor        880.863              0.384  1538\n",
       "LGBMRegressor             51.346              0.153  1585\n",
       "XGBRegressor             817.643              0.329  1559"
      ]
     },
     "execution_count": 43,
     "metadata": {},
     "output_type": "execute_result"
    }
   ],
   "source": [
    "#сделаем таблицу по полученным метрикам для выбора лучшей модели\n",
    "model_sel = {\n",
    "    'Время обучения': [f'{time_fit_lin:.3f}', f'{time_fit_cat:.3f}', f'{time_fit_lgbm:.3f}', f'{time_fit_xg:.3f}'],   \n",
    "    'Время предсказания': [f'{time_pred_lin:.3f}', f'{time_pred_cat:.3f}', f'{time_pred_lgbm:.3f}', f'{time_pred_xg:.3f}'],\n",
    "    'RMSE': [f'{rmse_lin:.0f}', f'{rmse_cat:.0f}', f'{rmse_lgbm:.0f}',  f'{rmse_xg:.0f}']\n",
    "}\n",
    "\n",
    "model_selection = pd.DataFrame(model_sel, index=['LinearRegression', 'CatBoostRegressor', 'LGBMRegressor', 'XGBRegressor'], \\\n",
    "                         columns=['Время обучения', 'Время предсказания', 'RMSE'])\n",
    "model_selection"
   ]
  },
  {
   "cell_type": "markdown",
   "id": "687b8d64",
   "metadata": {},
   "source": [
    "В данном разделе была построена таблица по данным о времени обучения, предсказания и качества моделей RMSE. Таблица показала, что оптимальной моделью будет **LGBMRegressor**, так как у нее низкий показатель _RMSE_, а также высокая скорость обучения и предсказания, а именно эти показатели важны заказчику."
   ]
  },
  {
   "cell_type": "markdown",
   "id": "787e5aaf",
   "metadata": {},
   "source": [
    "##  Выбор лучшей модели, проверка её качества на тестовой выборке"
   ]
  },
  {
   "cell_type": "markdown",
   "id": "d44129d5",
   "metadata": {},
   "source": [
    "Лучшая модель: _LGBMRegressor(max_depth=10, n_estimators=200, objective='regression',\n",
    "              random_state=12345)_.\n",
    "Проверим ее качество на тестовой выборке."
   ]
  },
  {
   "cell_type": "code",
   "execution_count": 44,
   "id": "19dd20bb",
   "metadata": {},
   "outputs": [
    {
     "name": "stdout",
     "output_type": "stream",
     "text": [
      "Время обучения: 0.657\n",
      "Время предсказания: 0.127\n",
      "RMSE: 1606\n"
     ]
    }
   ],
   "source": [
    "#проверим модель на тестовой выборке\n",
    "cat_columns = ['vehicle_type', 'gearbox', 'model', 'fuel_type', 'brand', 'repaired']\n",
    "\n",
    "features_train_b[cat_columns] = features_train_b[cat_columns].astype(\"category\")\n",
    "features_test_b[cat_columns] = features_test_b[cat_columns].astype(\"category\")\n",
    "\n",
    "start_fit = time.time()\n",
    "best_model_lgbm.fit(features_train_b, target_train_b)\n",
    "end_fit = time.time()\n",
    "\n",
    "start_pred = time.time()\n",
    "predicted = best_model_lgbm.predict(features_test_b)\n",
    "end_pred = time.time()\n",
    "\n",
    "print('Время обучения:', f'{end_fit - start_fit:.3f}')\n",
    "print('Время предсказания:', f'{end_pred - start_pred:.3f}')\n",
    "\n",
    "print('RMSE:', f'{mean_squared_error(target_test_b, predicted, squared=False):.0f}')"
   ]
  },
  {
   "cell_type": "code",
   "execution_count": 45,
   "id": "040c7326",
   "metadata": {},
   "outputs": [
    {
     "name": "stdout",
     "output_type": "stream",
     "text": [
      "Время обучения: 0.001\n",
      "Время предсказания: 0.000\n",
      "RMSE: 4654\n"
     ]
    }
   ],
   "source": [
    "#проверим модель на адекватность\n",
    "dummy_model = DummyRegressor(strategy=\"mean\")\n",
    "\n",
    "start_fit = time.time()\n",
    "dummy_model.fit(features_train_b, target_train_b)\n",
    "end_fit = time.time()\n",
    "\n",
    "start_pred = time.time()\n",
    "predictions = dummy_model.predict(features_test_b)\n",
    "end_pred = time.time()\n",
    "\n",
    "print('Время обучения:', f'{end_fit - start_fit:.3f}')\n",
    "print('Время предсказания:', f'{end_pred - start_pred:.3f}')\n",
    "\n",
    "print('RMSE:', f'{mean_squared_error(target_test_b, predictions, squared=False):.0f}')"
   ]
  },
  {
   "cell_type": "markdown",
   "id": "81b5c489",
   "metadata": {},
   "source": [
    "В данном разделе была проверена на тестовой выборке лучшая модель.\n",
    "\n",
    "**Лучшая** модель: _LGBMRegressor(max_depth=10, n_estimators=200, objective='regression', random_state=12345)_.\n",
    "\n",
    "Ее результаты:\n",
    "- Время обучения: 0.645,\n",
    "- Время предсказания: 0.109,\n",
    "- RMSE: 1605.\n",
    "\n",
    "Также была проведена проверка на адекватность модели."
   ]
  },
  {
   "cell_type": "markdown",
   "id": "96a37e4f",
   "metadata": {},
   "source": [
    "## Общий вывод"
   ]
  },
  {
   "cell_type": "markdown",
   "id": "2093c6d2",
   "metadata": {},
   "source": [
    "В данном проекте было необходимо для сервиса по продаже автомобилей с пробегом «Не бит, не крашен» разработать модель, с помощью которой можно будет узнать рыночную стоимость своего автомобиля. \n",
    "\n",
    "Были даны критерии, которые важны заказчику:\n",
    "* качество предсказания;\n",
    "* время обучения модели;\n",
    "* время предсказания модели.\n",
    "\n",
    "Сначала были открыты и изучены данные. Названия столбцов были приведены к нижнему регистру. В данных оказались пропуски в столбцах `vehicle_type`, `gearbox`, `model`, `fuel_type`, `repaired`. В столбце `number_of_pictures` только нулевые значения, в следующем разделе была рассмотрена возможность удаления этого столбца и столбца `postal_code`. Были выявлены аномалии в столбцах `price`, `registration_year`, `registration_month`.\n",
    "\n",
    "Далее были найдены и отсечены аномалии в столбцах `power`, `price`, `registration_year`, `registration_month`. Также были удалены явные дубликаты в данных. Пропуски в данных были заполнены значением _\"unknown\"_. В столбце `fuel_type` привели тип топлива к одному названию (**petrol**). Далее были удалены ненужные для обучения модели столбцы. Кроме того, была рассмотрена корреляция столбца `price` по отношению к другим столбцам. Со столбцами `price`, `registration_year` есть умеренная корреляция, со столбцом `kilometer` - слабая обратная корреляция. \n",
    "\n",
    "После этого  из выборок были выделены признаки и целевой признак. Далее выборки были разделены на тренировочную (_60%_), валидационную(_20%_) и тестовую части(_20%_).  Было выполнено прямое кодирование _OneHotEncoder_ для категориальных признаков и масштабирование _StandardScaler_ для численных признаков для линейной регрессии.\n",
    "\n",
    "Затем были обучены 4 модели и получены следующие метрики _RMSE_:\n",
    "- **LinearRegression**: 2428,\n",
    "- **CatBoostRegressor**: 1538, \n",
    "- **LGBMRegressor**: 1585,\n",
    "- **XGBRegressor**: 1559.\n",
    "\n",
    "Далее была построена таблица по данным о времени обучения, предсказания и качества моделей RMSE. Таблица показала, что оптимальной моделью будет **LGBMRegressor**, так как у нее низкий показатель _RMSE_, а также высокая скорость обучения и предсказания, а именно эти показатели важны заказчику.\n",
    "\n",
    "Затем была проверена на тестовой выборке лучшая модель.\n",
    "\n",
    "**Лучшая** модель: _LGBMRegressor(max_depth=10, n_estimators=200, objective='regression', random_state=12345)_.\n",
    "\n",
    "Ее результаты:\n",
    "- Время обучения: 0.645,\n",
    "- Время предсказания: 0.109,\n",
    "- RMSE: 1605.\n",
    "\n",
    "Также была проведена проверка на адекватность модели.\n",
    "\n",
    "В итоге, для заказчика можно рекомендовать следующую модель, отвечающую важным для заказчика критериям:\n",
    "- _LGBMRegressor(max_depth=10, n_estimators=200, objective='regression', random_state=12345)_."
   ]
  }
 ],
 "metadata": {
  "ExecuteTimeLog": [
   {
    "duration": 3,
    "start_time": "2023-03-14T09:40:41.573Z"
   },
   {
    "duration": 2,
    "start_time": "2023-03-14T09:40:43.677Z"
   },
   {
    "duration": 2,
    "start_time": "2023-03-14T09:40:47.101Z"
   },
   {
    "duration": 2603,
    "start_time": "2023-03-14T10:53:28.958Z"
   },
   {
    "duration": 2200,
    "start_time": "2023-03-14T10:53:31.564Z"
   },
   {
    "duration": 2389,
    "start_time": "2023-03-14T10:53:33.766Z"
   },
   {
    "duration": 1869,
    "start_time": "2023-03-14T10:53:36.158Z"
   },
   {
    "duration": 1208,
    "start_time": "2023-03-14T10:53:40.865Z"
   },
   {
    "duration": 133,
    "start_time": "2023-03-14T10:53:43.238Z"
   },
   {
    "duration": 18,
    "start_time": "2023-03-14T10:53:45.324Z"
   },
   {
    "duration": 7,
    "start_time": "2023-03-14T10:53:46.703Z"
   },
   {
    "duration": 109,
    "start_time": "2023-03-14T10:53:48.999Z"
   },
   {
    "duration": 1044,
    "start_time": "2023-03-14T10:53:50.807Z"
   },
   {
    "duration": 113,
    "start_time": "2023-03-14T10:53:53.237Z"
   },
   {
    "duration": 42,
    "start_time": "2023-03-14T10:53:54.529Z"
   },
   {
    "duration": 39,
    "start_time": "2023-03-14T10:53:55.418Z"
   },
   {
    "duration": 12,
    "start_time": "2023-03-14T10:53:56.061Z"
   },
   {
    "duration": 55,
    "start_time": "2023-03-14T10:53:57.703Z"
   },
   {
    "duration": 95,
    "start_time": "2023-03-14T10:54:00.123Z"
   },
   {
    "duration": 4,
    "start_time": "2023-03-14T10:54:01.815Z"
   },
   {
    "duration": 237,
    "start_time": "2023-03-14T10:54:02.660Z"
   },
   {
    "duration": 418,
    "start_time": "2023-03-14T10:54:08.305Z"
   },
   {
    "duration": 479,
    "start_time": "2023-03-14T10:54:09.809Z"
   },
   {
    "duration": 29,
    "start_time": "2023-03-14T10:54:12.803Z"
   },
   {
    "duration": 48,
    "start_time": "2023-03-14T10:54:14.757Z"
   },
   {
    "duration": 31,
    "start_time": "2023-03-14T10:54:17.971Z"
   },
   {
    "duration": 38,
    "start_time": "2023-03-14T10:54:19.666Z"
   },
   {
    "duration": 92,
    "start_time": "2023-03-14T10:54:26.614Z"
   },
   {
    "duration": 32,
    "start_time": "2023-03-14T10:57:00.060Z"
   },
   {
    "duration": 9,
    "start_time": "2023-03-14T11:01:13.576Z"
   },
   {
    "duration": 134,
    "start_time": "2023-03-14T11:04:13.062Z"
   },
   {
    "duration": 13,
    "start_time": "2023-03-14T11:04:21.136Z"
   },
   {
    "duration": 2234,
    "start_time": "2023-03-14T11:14:20.699Z"
   },
   {
    "duration": 2318,
    "start_time": "2023-03-14T11:14:22.936Z"
   },
   {
    "duration": 2289,
    "start_time": "2023-03-14T11:14:25.257Z"
   },
   {
    "duration": 5,
    "start_time": "2023-03-14T11:14:27.548Z"
   },
   {
    "duration": 924,
    "start_time": "2023-03-14T11:14:27.556Z"
   },
   {
    "duration": 120,
    "start_time": "2023-03-14T11:14:28.482Z"
   },
   {
    "duration": 15,
    "start_time": "2023-03-14T11:14:28.605Z"
   },
   {
    "duration": 11,
    "start_time": "2023-03-14T11:14:28.622Z"
   },
   {
    "duration": 133,
    "start_time": "2023-03-14T11:14:28.634Z"
   },
   {
    "duration": 945,
    "start_time": "2023-03-14T11:14:28.769Z"
   },
   {
    "duration": 124,
    "start_time": "2023-03-14T11:14:29.716Z"
   },
   {
    "duration": 61,
    "start_time": "2023-03-14T11:14:29.841Z"
   },
   {
    "duration": 40,
    "start_time": "2023-03-14T11:14:29.904Z"
   },
   {
    "duration": 11,
    "start_time": "2023-03-14T11:14:29.947Z"
   },
   {
    "duration": 62,
    "start_time": "2023-03-14T11:14:29.960Z"
   },
   {
    "duration": 118,
    "start_time": "2023-03-14T11:14:30.025Z"
   },
   {
    "duration": 16,
    "start_time": "2023-03-14T11:14:30.144Z"
   },
   {
    "duration": 244,
    "start_time": "2023-03-14T11:14:30.162Z"
   },
   {
    "duration": 406,
    "start_time": "2023-03-14T11:14:30.407Z"
   },
   {
    "duration": 523,
    "start_time": "2023-03-14T11:14:30.815Z"
   },
   {
    "duration": 28,
    "start_time": "2023-03-14T11:14:31.339Z"
   },
   {
    "duration": 61,
    "start_time": "2023-03-14T11:14:31.369Z"
   },
   {
    "duration": 43,
    "start_time": "2023-03-14T11:14:31.432Z"
   },
   {
    "duration": 40,
    "start_time": "2023-03-14T11:14:31.476Z"
   },
   {
    "duration": 2,
    "start_time": "2023-03-14T11:14:31.518Z"
   },
   {
    "duration": 31,
    "start_time": "2023-03-14T11:14:39.796Z"
   },
   {
    "duration": 89,
    "start_time": "2023-03-14T11:17:09.369Z"
   },
   {
    "duration": 169,
    "start_time": "2023-03-14T11:18:24.740Z"
   },
   {
    "duration": 169,
    "start_time": "2023-03-14T11:18:29.574Z"
   },
   {
    "duration": 208,
    "start_time": "2023-03-14T11:19:45.292Z"
   },
   {
    "duration": 168,
    "start_time": "2023-03-14T11:20:34.512Z"
   },
   {
    "duration": 15,
    "start_time": "2023-03-14T11:21:14.292Z"
   },
   {
    "duration": 12,
    "start_time": "2023-03-14T11:21:24.852Z"
   },
   {
    "duration": 10,
    "start_time": "2023-03-14T11:21:34.201Z"
   },
   {
    "duration": 14,
    "start_time": "2023-03-14T11:22:04.473Z"
   },
   {
    "duration": 5,
    "start_time": "2023-03-14T11:24:41.111Z"
   },
   {
    "duration": 14,
    "start_time": "2023-03-14T11:24:51.170Z"
   },
   {
    "duration": 6790,
    "start_time": "2023-03-14T11:27:42.092Z"
   },
   {
    "duration": 7,
    "start_time": "2023-03-14T11:27:50.504Z"
   },
   {
    "duration": 24,
    "start_time": "2023-03-14T11:27:59.752Z"
   },
   {
    "duration": 34,
    "start_time": "2023-03-14T11:28:59.874Z"
   },
   {
    "duration": 18,
    "start_time": "2023-03-14T11:30:22.007Z"
   },
   {
    "duration": 14,
    "start_time": "2023-03-14T11:31:10.802Z"
   },
   {
    "duration": 33,
    "start_time": "2023-03-14T11:31:20.502Z"
   },
   {
    "duration": 34,
    "start_time": "2023-03-14T11:33:02.570Z"
   },
   {
    "duration": 13,
    "start_time": "2023-03-14T11:34:08.253Z"
   },
   {
    "duration": 4,
    "start_time": "2023-03-14T11:36:39.592Z"
   },
   {
    "duration": 35,
    "start_time": "2023-03-14T11:36:58.339Z"
   },
   {
    "duration": 18,
    "start_time": "2023-03-14T11:36:58.720Z"
   },
   {
    "duration": 11,
    "start_time": "2023-03-14T11:36:59.515Z"
   },
   {
    "duration": 14,
    "start_time": "2023-03-14T11:37:00.441Z"
   }
  ],
  "kernelspec": {
   "display_name": "Python 3 (ipykernel)",
   "language": "python",
   "name": "python3"
  },
  "language_info": {
   "codemirror_mode": {
    "name": "ipython",
    "version": 3
   },
   "file_extension": ".py",
   "mimetype": "text/x-python",
   "name": "python",
   "nbconvert_exporter": "python",
   "pygments_lexer": "ipython3",
   "version": "3.9.12"
  },
  "toc": {
   "base_numbering": 1,
   "nav_menu": {},
   "number_sections": true,
   "sideBar": true,
   "skip_h1_title": true,
   "title_cell": "Table of Contents",
   "title_sidebar": "Contents",
   "toc_cell": true,
   "toc_position": {
    "height": "calc(100% - 180px)",
    "left": "10px",
    "top": "150px",
    "width": "213.225px"
   },
   "toc_section_display": true,
   "toc_window_display": true
  }
 },
 "nbformat": 4,
 "nbformat_minor": 5
}
